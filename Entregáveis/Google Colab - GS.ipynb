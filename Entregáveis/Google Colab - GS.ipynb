{
  "nbformat": 4,
  "nbformat_minor": 0,
  "metadata": {
    "colab": {
      "provenance": [],
      "collapsed_sections": [
        "1ikwAJiPhY-V",
        "zII4woN3yJjT"
      ]
    },
    "kernelspec": {
      "name": "python3",
      "display_name": "Python 3"
    },
    "language_info": {
      "name": "python"
    }
  },
  "cells": [
    {
      "cell_type": "markdown",
      "source": [
        "##Integrantes"
      ],
      "metadata": {
        "id": "Nk4H2ZfVdOkG"
      }
    },
    {
      "cell_type": "markdown",
      "source": [
        "550562 - Larissa Akemi Iwamoto\n",
        "\n",
        "98163 - Júlia Martins Santana Figueiredo\n",
        "\n",
        "94679 - Vinicius Becker Prediger\n",
        "\n",
        "552292 - Julia Nery Sinigalia\n",
        "\n",
        "552389 - Isabelli Heloiza Ferreira Lima"
      ],
      "metadata": {
        "id": "vEG_RSHadW8H"
      }
    },
    {
      "cell_type": "markdown",
      "source": [
        "##Base de dados"
      ],
      "metadata": {
        "id": "T8p4IRATdckw"
      }
    },
    {
      "cell_type": "markdown",
      "source": [
        "Nossa base de dados consiste no estudo de Indicadores de ansiedade ou depressão com base na frequência relatada de sintomas durante os últimos 7 dias. O Centro Nacional de Estatísticas de Saúde (NCHS) fez perguntas para obter informações sobre a frequência dos sintomas de ansiedade e depressão, fornecendo uma visão da prevalência desses transtornos.\n",
        "\n",
        "O objetivo dessa IA é auxiliar psicólogos e psiquiatras do nosso projeto na identificação do diagnóstico do paciente, proporcionando um recurso valioso para a sociedade. Esta iniciativa visa contribuir significativamente para aprimorar a compreensão e o tratamento dos transtornos mentais, fortalecendo os esforços no campo da saúde mental.\n",
        "\n",
        "O conjunto de dados utilizado foi obtido a partir da plataforma Kaggle. Para acessar os detalhes e explorar mais a fundo as informações disponíveis, segue o link de acesso: https://www.kaggle.com/datasets/subidit/indicators-of-anxiety-or-depression. Essa fonte garante a qualidade e confiabilidade dos dados que estamos utilizando."
      ],
      "metadata": {
        "id": "bmu3WbiKdobJ"
      }
    },
    {
      "cell_type": "markdown",
      "source": [
        "##Carregando os dados e fazendo análise exploratória"
      ],
      "metadata": {
        "id": "1ikwAJiPhY-V"
      }
    },
    {
      "cell_type": "code",
      "source": [
        "# Trabalhando com dados em tabelas\n",
        "import pandas as pd\n",
        "\n",
        "# Trabalhando com gráficos\n",
        "import matplotlib.pyplot as plt\n",
        "import seaborn as sns"
      ],
      "metadata": {
        "id": "tT5TrXNmkvUT"
      },
      "execution_count": 1,
      "outputs": []
    },
    {
      "cell_type": "code",
      "source": [
        "dados = pd.read_excel('/content/Transtornos mentais.xlsx') # Carregando o arquivo XLSX"
      ],
      "metadata": {
        "id": "RrD-cWkVj3O7"
      },
      "execution_count": 2,
      "outputs": []
    },
    {
      "cell_type": "code",
      "source": [
        "dados.head()"
      ],
      "metadata": {
        "colab": {
          "base_uri": "https://localhost:8080/",
          "height": 431
        },
        "id": "t5MW1eahk49n",
        "outputId": "512b2f72-2275-4dc2-c7af-5bc335af587b"
      },
      "execution_count": 3,
      "outputs": [
        {
          "output_type": "execute_result",
          "data": {
            "text/plain": [
              "                      Diagnósticos              Grupo         Estado  \\\n",
              "0  Symptoms of Depressive Disorder  National Estimate  United States   \n",
              "1  Symptoms of Depressive Disorder             By Age  United States   \n",
              "2  Symptoms of Depressive Disorder             By Age  United States   \n",
              "3  Symptoms of Depressive Disorder             By Age  United States   \n",
              "4  Symptoms of Depressive Disorder             By Age  United States   \n",
              "\n",
              "        Subgrupo  Fase  Período de tempo Etiqueta do período de tempo  \\\n",
              "0  United States   1.0                 1         Apr 23 - May 5, 2020   \n",
              "1  18 - 29 years   1.0                 1         Apr 23 - May 5, 2020   \n",
              "2  30 - 39 years   1.0                 1         Apr 23 - May 5, 2020   \n",
              "3  40 - 49 years   1.0                 1         Apr 23 - May 5, 2020   \n",
              "4  50 - 59 years   1.0                 1         Apr 23 - May 5, 2020   \n",
              "\n",
              "  Data de início do período Data de término do período  Valor  CI baixo  \\\n",
              "0                04/23/2020        2020-05-05 00:00:00   23.5      22.7   \n",
              "1                04/23/2020        2020-05-05 00:00:00   32.7      30.2   \n",
              "2                04/23/2020        2020-05-05 00:00:00   25.7      24.1   \n",
              "3                04/23/2020        2020-05-05 00:00:00   24.8      23.3   \n",
              "4                04/23/2020        2020-05-05 00:00:00   23.2      21.5   \n",
              "\n",
              "   CI alto Intervalo de confiança Faixa de quartil  \n",
              "0     24.3            22.7 - 24.3              NaN  \n",
              "1     35.2            30.2 - 35.2              NaN  \n",
              "2     27.3            24.1 - 27.3              NaN  \n",
              "3     26.2            23.3 - 26.2              NaN  \n",
              "4     25.0            21.5 - 25.0              NaN  "
            ],
            "text/html": [
              "\n",
              "  <div id=\"df-3dcb4e9f-9caf-46b1-8f4d-522ab34f563a\" class=\"colab-df-container\">\n",
              "    <div>\n",
              "<style scoped>\n",
              "    .dataframe tbody tr th:only-of-type {\n",
              "        vertical-align: middle;\n",
              "    }\n",
              "\n",
              "    .dataframe tbody tr th {\n",
              "        vertical-align: top;\n",
              "    }\n",
              "\n",
              "    .dataframe thead th {\n",
              "        text-align: right;\n",
              "    }\n",
              "</style>\n",
              "<table border=\"1\" class=\"dataframe\">\n",
              "  <thead>\n",
              "    <tr style=\"text-align: right;\">\n",
              "      <th></th>\n",
              "      <th>Diagnósticos</th>\n",
              "      <th>Grupo</th>\n",
              "      <th>Estado</th>\n",
              "      <th>Subgrupo</th>\n",
              "      <th>Fase</th>\n",
              "      <th>Período de tempo</th>\n",
              "      <th>Etiqueta do período de tempo</th>\n",
              "      <th>Data de início do período</th>\n",
              "      <th>Data de término do período</th>\n",
              "      <th>Valor</th>\n",
              "      <th>CI baixo</th>\n",
              "      <th>CI alto</th>\n",
              "      <th>Intervalo de confiança</th>\n",
              "      <th>Faixa de quartil</th>\n",
              "    </tr>\n",
              "  </thead>\n",
              "  <tbody>\n",
              "    <tr>\n",
              "      <th>0</th>\n",
              "      <td>Symptoms of Depressive Disorder</td>\n",
              "      <td>National Estimate</td>\n",
              "      <td>United States</td>\n",
              "      <td>United States</td>\n",
              "      <td>1.0</td>\n",
              "      <td>1</td>\n",
              "      <td>Apr 23 - May 5, 2020</td>\n",
              "      <td>04/23/2020</td>\n",
              "      <td>2020-05-05 00:00:00</td>\n",
              "      <td>23.5</td>\n",
              "      <td>22.7</td>\n",
              "      <td>24.3</td>\n",
              "      <td>22.7 - 24.3</td>\n",
              "      <td>NaN</td>\n",
              "    </tr>\n",
              "    <tr>\n",
              "      <th>1</th>\n",
              "      <td>Symptoms of Depressive Disorder</td>\n",
              "      <td>By Age</td>\n",
              "      <td>United States</td>\n",
              "      <td>18 - 29 years</td>\n",
              "      <td>1.0</td>\n",
              "      <td>1</td>\n",
              "      <td>Apr 23 - May 5, 2020</td>\n",
              "      <td>04/23/2020</td>\n",
              "      <td>2020-05-05 00:00:00</td>\n",
              "      <td>32.7</td>\n",
              "      <td>30.2</td>\n",
              "      <td>35.2</td>\n",
              "      <td>30.2 - 35.2</td>\n",
              "      <td>NaN</td>\n",
              "    </tr>\n",
              "    <tr>\n",
              "      <th>2</th>\n",
              "      <td>Symptoms of Depressive Disorder</td>\n",
              "      <td>By Age</td>\n",
              "      <td>United States</td>\n",
              "      <td>30 - 39 years</td>\n",
              "      <td>1.0</td>\n",
              "      <td>1</td>\n",
              "      <td>Apr 23 - May 5, 2020</td>\n",
              "      <td>04/23/2020</td>\n",
              "      <td>2020-05-05 00:00:00</td>\n",
              "      <td>25.7</td>\n",
              "      <td>24.1</td>\n",
              "      <td>27.3</td>\n",
              "      <td>24.1 - 27.3</td>\n",
              "      <td>NaN</td>\n",
              "    </tr>\n",
              "    <tr>\n",
              "      <th>3</th>\n",
              "      <td>Symptoms of Depressive Disorder</td>\n",
              "      <td>By Age</td>\n",
              "      <td>United States</td>\n",
              "      <td>40 - 49 years</td>\n",
              "      <td>1.0</td>\n",
              "      <td>1</td>\n",
              "      <td>Apr 23 - May 5, 2020</td>\n",
              "      <td>04/23/2020</td>\n",
              "      <td>2020-05-05 00:00:00</td>\n",
              "      <td>24.8</td>\n",
              "      <td>23.3</td>\n",
              "      <td>26.2</td>\n",
              "      <td>23.3 - 26.2</td>\n",
              "      <td>NaN</td>\n",
              "    </tr>\n",
              "    <tr>\n",
              "      <th>4</th>\n",
              "      <td>Symptoms of Depressive Disorder</td>\n",
              "      <td>By Age</td>\n",
              "      <td>United States</td>\n",
              "      <td>50 - 59 years</td>\n",
              "      <td>1.0</td>\n",
              "      <td>1</td>\n",
              "      <td>Apr 23 - May 5, 2020</td>\n",
              "      <td>04/23/2020</td>\n",
              "      <td>2020-05-05 00:00:00</td>\n",
              "      <td>23.2</td>\n",
              "      <td>21.5</td>\n",
              "      <td>25.0</td>\n",
              "      <td>21.5 - 25.0</td>\n",
              "      <td>NaN</td>\n",
              "    </tr>\n",
              "  </tbody>\n",
              "</table>\n",
              "</div>\n",
              "    <div class=\"colab-df-buttons\">\n",
              "\n",
              "  <div class=\"colab-df-container\">\n",
              "    <button class=\"colab-df-convert\" onclick=\"convertToInteractive('df-3dcb4e9f-9caf-46b1-8f4d-522ab34f563a')\"\n",
              "            title=\"Convert this dataframe to an interactive table.\"\n",
              "            style=\"display:none;\">\n",
              "\n",
              "  <svg xmlns=\"http://www.w3.org/2000/svg\" height=\"24px\" viewBox=\"0 -960 960 960\">\n",
              "    <path d=\"M120-120v-720h720v720H120Zm60-500h600v-160H180v160Zm220 220h160v-160H400v160Zm0 220h160v-160H400v160ZM180-400h160v-160H180v160Zm440 0h160v-160H620v160ZM180-180h160v-160H180v160Zm440 0h160v-160H620v160Z\"/>\n",
              "  </svg>\n",
              "    </button>\n",
              "\n",
              "  <style>\n",
              "    .colab-df-container {\n",
              "      display:flex;\n",
              "      gap: 12px;\n",
              "    }\n",
              "\n",
              "    .colab-df-convert {\n",
              "      background-color: #E8F0FE;\n",
              "      border: none;\n",
              "      border-radius: 50%;\n",
              "      cursor: pointer;\n",
              "      display: none;\n",
              "      fill: #1967D2;\n",
              "      height: 32px;\n",
              "      padding: 0 0 0 0;\n",
              "      width: 32px;\n",
              "    }\n",
              "\n",
              "    .colab-df-convert:hover {\n",
              "      background-color: #E2EBFA;\n",
              "      box-shadow: 0px 1px 2px rgba(60, 64, 67, 0.3), 0px 1px 3px 1px rgba(60, 64, 67, 0.15);\n",
              "      fill: #174EA6;\n",
              "    }\n",
              "\n",
              "    .colab-df-buttons div {\n",
              "      margin-bottom: 4px;\n",
              "    }\n",
              "\n",
              "    [theme=dark] .colab-df-convert {\n",
              "      background-color: #3B4455;\n",
              "      fill: #D2E3FC;\n",
              "    }\n",
              "\n",
              "    [theme=dark] .colab-df-convert:hover {\n",
              "      background-color: #434B5C;\n",
              "      box-shadow: 0px 1px 3px 1px rgba(0, 0, 0, 0.15);\n",
              "      filter: drop-shadow(0px 1px 2px rgba(0, 0, 0, 0.3));\n",
              "      fill: #FFFFFF;\n",
              "    }\n",
              "  </style>\n",
              "\n",
              "    <script>\n",
              "      const buttonEl =\n",
              "        document.querySelector('#df-3dcb4e9f-9caf-46b1-8f4d-522ab34f563a button.colab-df-convert');\n",
              "      buttonEl.style.display =\n",
              "        google.colab.kernel.accessAllowed ? 'block' : 'none';\n",
              "\n",
              "      async function convertToInteractive(key) {\n",
              "        const element = document.querySelector('#df-3dcb4e9f-9caf-46b1-8f4d-522ab34f563a');\n",
              "        const dataTable =\n",
              "          await google.colab.kernel.invokeFunction('convertToInteractive',\n",
              "                                                    [key], {});\n",
              "        if (!dataTable) return;\n",
              "\n",
              "        const docLinkHtml = 'Like what you see? Visit the ' +\n",
              "          '<a target=\"_blank\" href=https://colab.research.google.com/notebooks/data_table.ipynb>data table notebook</a>'\n",
              "          + ' to learn more about interactive tables.';\n",
              "        element.innerHTML = '';\n",
              "        dataTable['output_type'] = 'display_data';\n",
              "        await google.colab.output.renderOutput(dataTable, element);\n",
              "        const docLink = document.createElement('div');\n",
              "        docLink.innerHTML = docLinkHtml;\n",
              "        element.appendChild(docLink);\n",
              "      }\n",
              "    </script>\n",
              "  </div>\n",
              "\n",
              "\n",
              "<div id=\"df-07c7e40e-3cb1-49b8-aa62-bf088c3f4117\">\n",
              "  <button class=\"colab-df-quickchart\" onclick=\"quickchart('df-07c7e40e-3cb1-49b8-aa62-bf088c3f4117')\"\n",
              "            title=\"Suggest charts\"\n",
              "            style=\"display:none;\">\n",
              "\n",
              "<svg xmlns=\"http://www.w3.org/2000/svg\" height=\"24px\"viewBox=\"0 0 24 24\"\n",
              "     width=\"24px\">\n",
              "    <g>\n",
              "        <path d=\"M19 3H5c-1.1 0-2 .9-2 2v14c0 1.1.9 2 2 2h14c1.1 0 2-.9 2-2V5c0-1.1-.9-2-2-2zM9 17H7v-7h2v7zm4 0h-2V7h2v10zm4 0h-2v-4h2v4z\"/>\n",
              "    </g>\n",
              "</svg>\n",
              "  </button>\n",
              "\n",
              "<style>\n",
              "  .colab-df-quickchart {\n",
              "      --bg-color: #E8F0FE;\n",
              "      --fill-color: #1967D2;\n",
              "      --hover-bg-color: #E2EBFA;\n",
              "      --hover-fill-color: #174EA6;\n",
              "      --disabled-fill-color: #AAA;\n",
              "      --disabled-bg-color: #DDD;\n",
              "  }\n",
              "\n",
              "  [theme=dark] .colab-df-quickchart {\n",
              "      --bg-color: #3B4455;\n",
              "      --fill-color: #D2E3FC;\n",
              "      --hover-bg-color: #434B5C;\n",
              "      --hover-fill-color: #FFFFFF;\n",
              "      --disabled-bg-color: #3B4455;\n",
              "      --disabled-fill-color: #666;\n",
              "  }\n",
              "\n",
              "  .colab-df-quickchart {\n",
              "    background-color: var(--bg-color);\n",
              "    border: none;\n",
              "    border-radius: 50%;\n",
              "    cursor: pointer;\n",
              "    display: none;\n",
              "    fill: var(--fill-color);\n",
              "    height: 32px;\n",
              "    padding: 0;\n",
              "    width: 32px;\n",
              "  }\n",
              "\n",
              "  .colab-df-quickchart:hover {\n",
              "    background-color: var(--hover-bg-color);\n",
              "    box-shadow: 0 1px 2px rgba(60, 64, 67, 0.3), 0 1px 3px 1px rgba(60, 64, 67, 0.15);\n",
              "    fill: var(--button-hover-fill-color);\n",
              "  }\n",
              "\n",
              "  .colab-df-quickchart-complete:disabled,\n",
              "  .colab-df-quickchart-complete:disabled:hover {\n",
              "    background-color: var(--disabled-bg-color);\n",
              "    fill: var(--disabled-fill-color);\n",
              "    box-shadow: none;\n",
              "  }\n",
              "\n",
              "  .colab-df-spinner {\n",
              "    border: 2px solid var(--fill-color);\n",
              "    border-color: transparent;\n",
              "    border-bottom-color: var(--fill-color);\n",
              "    animation:\n",
              "      spin 1s steps(1) infinite;\n",
              "  }\n",
              "\n",
              "  @keyframes spin {\n",
              "    0% {\n",
              "      border-color: transparent;\n",
              "      border-bottom-color: var(--fill-color);\n",
              "      border-left-color: var(--fill-color);\n",
              "    }\n",
              "    20% {\n",
              "      border-color: transparent;\n",
              "      border-left-color: var(--fill-color);\n",
              "      border-top-color: var(--fill-color);\n",
              "    }\n",
              "    30% {\n",
              "      border-color: transparent;\n",
              "      border-left-color: var(--fill-color);\n",
              "      border-top-color: var(--fill-color);\n",
              "      border-right-color: var(--fill-color);\n",
              "    }\n",
              "    40% {\n",
              "      border-color: transparent;\n",
              "      border-right-color: var(--fill-color);\n",
              "      border-top-color: var(--fill-color);\n",
              "    }\n",
              "    60% {\n",
              "      border-color: transparent;\n",
              "      border-right-color: var(--fill-color);\n",
              "    }\n",
              "    80% {\n",
              "      border-color: transparent;\n",
              "      border-right-color: var(--fill-color);\n",
              "      border-bottom-color: var(--fill-color);\n",
              "    }\n",
              "    90% {\n",
              "      border-color: transparent;\n",
              "      border-bottom-color: var(--fill-color);\n",
              "    }\n",
              "  }\n",
              "</style>\n",
              "\n",
              "  <script>\n",
              "    async function quickchart(key) {\n",
              "      const quickchartButtonEl =\n",
              "        document.querySelector('#' + key + ' button');\n",
              "      quickchartButtonEl.disabled = true;  // To prevent multiple clicks.\n",
              "      quickchartButtonEl.classList.add('colab-df-spinner');\n",
              "      try {\n",
              "        const charts = await google.colab.kernel.invokeFunction(\n",
              "            'suggestCharts', [key], {});\n",
              "      } catch (error) {\n",
              "        console.error('Error during call to suggestCharts:', error);\n",
              "      }\n",
              "      quickchartButtonEl.classList.remove('colab-df-spinner');\n",
              "      quickchartButtonEl.classList.add('colab-df-quickchart-complete');\n",
              "    }\n",
              "    (() => {\n",
              "      let quickchartButtonEl =\n",
              "        document.querySelector('#df-07c7e40e-3cb1-49b8-aa62-bf088c3f4117 button');\n",
              "      quickchartButtonEl.style.display =\n",
              "        google.colab.kernel.accessAllowed ? 'block' : 'none';\n",
              "    })();\n",
              "  </script>\n",
              "</div>\n",
              "    </div>\n",
              "  </div>\n"
            ]
          },
          "metadata": {},
          "execution_count": 3
        }
      ]
    },
    {
      "cell_type": "code",
      "source": [
        "dados.columns # listando as colunas existentes"
      ],
      "metadata": {
        "colab": {
          "base_uri": "https://localhost:8080/"
        },
        "id": "qHN1sCxFnyKz",
        "outputId": "e3bf6c35-b0e5-47cf-b1b8-7005a613f449"
      },
      "execution_count": 4,
      "outputs": [
        {
          "output_type": "execute_result",
          "data": {
            "text/plain": [
              "Index(['Diagnósticos', 'Grupo', 'Estado', 'Subgrupo', 'Fase',\n",
              "       'Período de tempo', 'Etiqueta do período de tempo',\n",
              "       'Data de início do período', 'Data de término do período', 'Valor',\n",
              "       'CI baixo', 'CI alto', 'Intervalo de confiança', 'Faixa de quartil'],\n",
              "      dtype='object')"
            ]
          },
          "metadata": {},
          "execution_count": 4
        }
      ]
    },
    {
      "cell_type": "code",
      "source": [
        "dados.info() #informações sobre os tipos de dados e valores ausentes"
      ],
      "metadata": {
        "colab": {
          "base_uri": "https://localhost:8080/"
        },
        "id": "RqkSdlUMowdn",
        "outputId": "8b41665e-a0a1-4fbb-ccbc-d23aef7a2d05"
      },
      "execution_count": 5,
      "outputs": [
        {
          "output_type": "stream",
          "name": "stdout",
          "text": [
            "<class 'pandas.core.frame.DataFrame'>\n",
            "RangeIndex: 11484 entries, 0 to 11483\n",
            "Data columns (total 14 columns):\n",
            " #   Column                        Non-Null Count  Dtype  \n",
            "---  ------                        --------------  -----  \n",
            " 0   Diagnósticos                  11484 non-null  object \n",
            " 1   Grupo                         11484 non-null  object \n",
            " 2   Estado                        11484 non-null  object \n",
            " 3   Subgrupo                      11484 non-null  object \n",
            " 4   Fase                          11484 non-null  float64\n",
            " 5   Período de tempo              11484 non-null  int64  \n",
            " 6   Etiqueta do período de tempo  11484 non-null  object \n",
            " 7   Data de início do período     11484 non-null  object \n",
            " 8   Data de término do período    11484 non-null  object \n",
            " 9   Valor                         10944 non-null  float64\n",
            " 10  CI baixo                      10944 non-null  float64\n",
            " 11  CI alto                       10944 non-null  float64\n",
            " 12  Intervalo de confiança        10944 non-null  object \n",
            " 13  Faixa de quartil              7650 non-null   object \n",
            "dtypes: float64(4), int64(1), object(9)\n",
            "memory usage: 1.2+ MB\n"
          ]
        }
      ]
    },
    {
      "cell_type": "code",
      "source": [
        "dados.isnull().sum() # Ver se tem dados nulos (células vazias)"
      ],
      "metadata": {
        "colab": {
          "base_uri": "https://localhost:8080/"
        },
        "id": "RzX1RI8iJdV4",
        "outputId": "285c0083-7b8e-4610-c7bb-4e61258d2a99"
      },
      "execution_count": 6,
      "outputs": [
        {
          "output_type": "execute_result",
          "data": {
            "text/plain": [
              "Diagnósticos                       0\n",
              "Grupo                              0\n",
              "Estado                             0\n",
              "Subgrupo                           0\n",
              "Fase                               0\n",
              "Período de tempo                   0\n",
              "Etiqueta do período de tempo       0\n",
              "Data de início do período          0\n",
              "Data de término do período         0\n",
              "Valor                            540\n",
              "CI baixo                         540\n",
              "CI alto                          540\n",
              "Intervalo de confiança           540\n",
              "Faixa de quartil                3834\n",
              "dtype: int64"
            ]
          },
          "metadata": {},
          "execution_count": 6
        }
      ]
    },
    {
      "cell_type": "code",
      "source": [
        "dados.shape #verificando as dimensões dos dados"
      ],
      "metadata": {
        "colab": {
          "base_uri": "https://localhost:8080/"
        },
        "id": "5iibZ7UMlHj1",
        "outputId": "ef617bdd-df92-48bf-c964-84986514ac18"
      },
      "execution_count": 7,
      "outputs": [
        {
          "output_type": "execute_result",
          "data": {
            "text/plain": [
              "(11484, 14)"
            ]
          },
          "metadata": {},
          "execution_count": 7
        }
      ]
    },
    {
      "cell_type": "code",
      "source": [
        "dados.describe() #calculando estatísticas descritivas"
      ],
      "metadata": {
        "colab": {
          "base_uri": "https://localhost:8080/",
          "height": 300
        },
        "id": "6lCF9BnGo63T",
        "outputId": "abecc710-8925-4a9b-cf6b-bcbfd7f0b9c7"
      },
      "execution_count": 8,
      "outputs": [
        {
          "output_type": "execute_result",
          "data": {
            "text/plain": [
              "               Fase  Período de tempo         Valor      CI baixo  \\\n",
              "count  11484.000000      11484.000000  10944.000000  10944.000000   \n",
              "mean       2.421769         24.949843     29.881241     26.207575   \n",
              "std        1.188310         15.131457      8.007529      7.850670   \n",
              "min       -1.000000          1.000000      6.400000      4.500000   \n",
              "25%        1.000000         12.000000     24.400000     20.900000   \n",
              "50%        3.000000         25.000000     29.300000     25.600000   \n",
              "75%        3.200000         38.000000     34.600000     30.800000   \n",
              "max        3.600000         50.000000     78.600000     69.800000   \n",
              "\n",
              "            CI alto  \n",
              "count  10944.000000  \n",
              "mean      33.806990  \n",
              "std        8.385198  \n",
              "min        7.900000  \n",
              "25%       28.100000  \n",
              "50%       33.300000  \n",
              "75%       38.800000  \n",
              "max       85.800000  "
            ],
            "text/html": [
              "\n",
              "  <div id=\"df-8a4f3085-d6f9-4de8-b98b-e890795c6749\" class=\"colab-df-container\">\n",
              "    <div>\n",
              "<style scoped>\n",
              "    .dataframe tbody tr th:only-of-type {\n",
              "        vertical-align: middle;\n",
              "    }\n",
              "\n",
              "    .dataframe tbody tr th {\n",
              "        vertical-align: top;\n",
              "    }\n",
              "\n",
              "    .dataframe thead th {\n",
              "        text-align: right;\n",
              "    }\n",
              "</style>\n",
              "<table border=\"1\" class=\"dataframe\">\n",
              "  <thead>\n",
              "    <tr style=\"text-align: right;\">\n",
              "      <th></th>\n",
              "      <th>Fase</th>\n",
              "      <th>Período de tempo</th>\n",
              "      <th>Valor</th>\n",
              "      <th>CI baixo</th>\n",
              "      <th>CI alto</th>\n",
              "    </tr>\n",
              "  </thead>\n",
              "  <tbody>\n",
              "    <tr>\n",
              "      <th>count</th>\n",
              "      <td>11484.000000</td>\n",
              "      <td>11484.000000</td>\n",
              "      <td>10944.000000</td>\n",
              "      <td>10944.000000</td>\n",
              "      <td>10944.000000</td>\n",
              "    </tr>\n",
              "    <tr>\n",
              "      <th>mean</th>\n",
              "      <td>2.421769</td>\n",
              "      <td>24.949843</td>\n",
              "      <td>29.881241</td>\n",
              "      <td>26.207575</td>\n",
              "      <td>33.806990</td>\n",
              "    </tr>\n",
              "    <tr>\n",
              "      <th>std</th>\n",
              "      <td>1.188310</td>\n",
              "      <td>15.131457</td>\n",
              "      <td>8.007529</td>\n",
              "      <td>7.850670</td>\n",
              "      <td>8.385198</td>\n",
              "    </tr>\n",
              "    <tr>\n",
              "      <th>min</th>\n",
              "      <td>-1.000000</td>\n",
              "      <td>1.000000</td>\n",
              "      <td>6.400000</td>\n",
              "      <td>4.500000</td>\n",
              "      <td>7.900000</td>\n",
              "    </tr>\n",
              "    <tr>\n",
              "      <th>25%</th>\n",
              "      <td>1.000000</td>\n",
              "      <td>12.000000</td>\n",
              "      <td>24.400000</td>\n",
              "      <td>20.900000</td>\n",
              "      <td>28.100000</td>\n",
              "    </tr>\n",
              "    <tr>\n",
              "      <th>50%</th>\n",
              "      <td>3.000000</td>\n",
              "      <td>25.000000</td>\n",
              "      <td>29.300000</td>\n",
              "      <td>25.600000</td>\n",
              "      <td>33.300000</td>\n",
              "    </tr>\n",
              "    <tr>\n",
              "      <th>75%</th>\n",
              "      <td>3.200000</td>\n",
              "      <td>38.000000</td>\n",
              "      <td>34.600000</td>\n",
              "      <td>30.800000</td>\n",
              "      <td>38.800000</td>\n",
              "    </tr>\n",
              "    <tr>\n",
              "      <th>max</th>\n",
              "      <td>3.600000</td>\n",
              "      <td>50.000000</td>\n",
              "      <td>78.600000</td>\n",
              "      <td>69.800000</td>\n",
              "      <td>85.800000</td>\n",
              "    </tr>\n",
              "  </tbody>\n",
              "</table>\n",
              "</div>\n",
              "    <div class=\"colab-df-buttons\">\n",
              "\n",
              "  <div class=\"colab-df-container\">\n",
              "    <button class=\"colab-df-convert\" onclick=\"convertToInteractive('df-8a4f3085-d6f9-4de8-b98b-e890795c6749')\"\n",
              "            title=\"Convert this dataframe to an interactive table.\"\n",
              "            style=\"display:none;\">\n",
              "\n",
              "  <svg xmlns=\"http://www.w3.org/2000/svg\" height=\"24px\" viewBox=\"0 -960 960 960\">\n",
              "    <path d=\"M120-120v-720h720v720H120Zm60-500h600v-160H180v160Zm220 220h160v-160H400v160Zm0 220h160v-160H400v160ZM180-400h160v-160H180v160Zm440 0h160v-160H620v160ZM180-180h160v-160H180v160Zm440 0h160v-160H620v160Z\"/>\n",
              "  </svg>\n",
              "    </button>\n",
              "\n",
              "  <style>\n",
              "    .colab-df-container {\n",
              "      display:flex;\n",
              "      gap: 12px;\n",
              "    }\n",
              "\n",
              "    .colab-df-convert {\n",
              "      background-color: #E8F0FE;\n",
              "      border: none;\n",
              "      border-radius: 50%;\n",
              "      cursor: pointer;\n",
              "      display: none;\n",
              "      fill: #1967D2;\n",
              "      height: 32px;\n",
              "      padding: 0 0 0 0;\n",
              "      width: 32px;\n",
              "    }\n",
              "\n",
              "    .colab-df-convert:hover {\n",
              "      background-color: #E2EBFA;\n",
              "      box-shadow: 0px 1px 2px rgba(60, 64, 67, 0.3), 0px 1px 3px 1px rgba(60, 64, 67, 0.15);\n",
              "      fill: #174EA6;\n",
              "    }\n",
              "\n",
              "    .colab-df-buttons div {\n",
              "      margin-bottom: 4px;\n",
              "    }\n",
              "\n",
              "    [theme=dark] .colab-df-convert {\n",
              "      background-color: #3B4455;\n",
              "      fill: #D2E3FC;\n",
              "    }\n",
              "\n",
              "    [theme=dark] .colab-df-convert:hover {\n",
              "      background-color: #434B5C;\n",
              "      box-shadow: 0px 1px 3px 1px rgba(0, 0, 0, 0.15);\n",
              "      filter: drop-shadow(0px 1px 2px rgba(0, 0, 0, 0.3));\n",
              "      fill: #FFFFFF;\n",
              "    }\n",
              "  </style>\n",
              "\n",
              "    <script>\n",
              "      const buttonEl =\n",
              "        document.querySelector('#df-8a4f3085-d6f9-4de8-b98b-e890795c6749 button.colab-df-convert');\n",
              "      buttonEl.style.display =\n",
              "        google.colab.kernel.accessAllowed ? 'block' : 'none';\n",
              "\n",
              "      async function convertToInteractive(key) {\n",
              "        const element = document.querySelector('#df-8a4f3085-d6f9-4de8-b98b-e890795c6749');\n",
              "        const dataTable =\n",
              "          await google.colab.kernel.invokeFunction('convertToInteractive',\n",
              "                                                    [key], {});\n",
              "        if (!dataTable) return;\n",
              "\n",
              "        const docLinkHtml = 'Like what you see? Visit the ' +\n",
              "          '<a target=\"_blank\" href=https://colab.research.google.com/notebooks/data_table.ipynb>data table notebook</a>'\n",
              "          + ' to learn more about interactive tables.';\n",
              "        element.innerHTML = '';\n",
              "        dataTable['output_type'] = 'display_data';\n",
              "        await google.colab.output.renderOutput(dataTable, element);\n",
              "        const docLink = document.createElement('div');\n",
              "        docLink.innerHTML = docLinkHtml;\n",
              "        element.appendChild(docLink);\n",
              "      }\n",
              "    </script>\n",
              "  </div>\n",
              "\n",
              "\n",
              "<div id=\"df-47061f8f-be1e-40ac-8eb7-07a258ccff63\">\n",
              "  <button class=\"colab-df-quickchart\" onclick=\"quickchart('df-47061f8f-be1e-40ac-8eb7-07a258ccff63')\"\n",
              "            title=\"Suggest charts\"\n",
              "            style=\"display:none;\">\n",
              "\n",
              "<svg xmlns=\"http://www.w3.org/2000/svg\" height=\"24px\"viewBox=\"0 0 24 24\"\n",
              "     width=\"24px\">\n",
              "    <g>\n",
              "        <path d=\"M19 3H5c-1.1 0-2 .9-2 2v14c0 1.1.9 2 2 2h14c1.1 0 2-.9 2-2V5c0-1.1-.9-2-2-2zM9 17H7v-7h2v7zm4 0h-2V7h2v10zm4 0h-2v-4h2v4z\"/>\n",
              "    </g>\n",
              "</svg>\n",
              "  </button>\n",
              "\n",
              "<style>\n",
              "  .colab-df-quickchart {\n",
              "      --bg-color: #E8F0FE;\n",
              "      --fill-color: #1967D2;\n",
              "      --hover-bg-color: #E2EBFA;\n",
              "      --hover-fill-color: #174EA6;\n",
              "      --disabled-fill-color: #AAA;\n",
              "      --disabled-bg-color: #DDD;\n",
              "  }\n",
              "\n",
              "  [theme=dark] .colab-df-quickchart {\n",
              "      --bg-color: #3B4455;\n",
              "      --fill-color: #D2E3FC;\n",
              "      --hover-bg-color: #434B5C;\n",
              "      --hover-fill-color: #FFFFFF;\n",
              "      --disabled-bg-color: #3B4455;\n",
              "      --disabled-fill-color: #666;\n",
              "  }\n",
              "\n",
              "  .colab-df-quickchart {\n",
              "    background-color: var(--bg-color);\n",
              "    border: none;\n",
              "    border-radius: 50%;\n",
              "    cursor: pointer;\n",
              "    display: none;\n",
              "    fill: var(--fill-color);\n",
              "    height: 32px;\n",
              "    padding: 0;\n",
              "    width: 32px;\n",
              "  }\n",
              "\n",
              "  .colab-df-quickchart:hover {\n",
              "    background-color: var(--hover-bg-color);\n",
              "    box-shadow: 0 1px 2px rgba(60, 64, 67, 0.3), 0 1px 3px 1px rgba(60, 64, 67, 0.15);\n",
              "    fill: var(--button-hover-fill-color);\n",
              "  }\n",
              "\n",
              "  .colab-df-quickchart-complete:disabled,\n",
              "  .colab-df-quickchart-complete:disabled:hover {\n",
              "    background-color: var(--disabled-bg-color);\n",
              "    fill: var(--disabled-fill-color);\n",
              "    box-shadow: none;\n",
              "  }\n",
              "\n",
              "  .colab-df-spinner {\n",
              "    border: 2px solid var(--fill-color);\n",
              "    border-color: transparent;\n",
              "    border-bottom-color: var(--fill-color);\n",
              "    animation:\n",
              "      spin 1s steps(1) infinite;\n",
              "  }\n",
              "\n",
              "  @keyframes spin {\n",
              "    0% {\n",
              "      border-color: transparent;\n",
              "      border-bottom-color: var(--fill-color);\n",
              "      border-left-color: var(--fill-color);\n",
              "    }\n",
              "    20% {\n",
              "      border-color: transparent;\n",
              "      border-left-color: var(--fill-color);\n",
              "      border-top-color: var(--fill-color);\n",
              "    }\n",
              "    30% {\n",
              "      border-color: transparent;\n",
              "      border-left-color: var(--fill-color);\n",
              "      border-top-color: var(--fill-color);\n",
              "      border-right-color: var(--fill-color);\n",
              "    }\n",
              "    40% {\n",
              "      border-color: transparent;\n",
              "      border-right-color: var(--fill-color);\n",
              "      border-top-color: var(--fill-color);\n",
              "    }\n",
              "    60% {\n",
              "      border-color: transparent;\n",
              "      border-right-color: var(--fill-color);\n",
              "    }\n",
              "    80% {\n",
              "      border-color: transparent;\n",
              "      border-right-color: var(--fill-color);\n",
              "      border-bottom-color: var(--fill-color);\n",
              "    }\n",
              "    90% {\n",
              "      border-color: transparent;\n",
              "      border-bottom-color: var(--fill-color);\n",
              "    }\n",
              "  }\n",
              "</style>\n",
              "\n",
              "  <script>\n",
              "    async function quickchart(key) {\n",
              "      const quickchartButtonEl =\n",
              "        document.querySelector('#' + key + ' button');\n",
              "      quickchartButtonEl.disabled = true;  // To prevent multiple clicks.\n",
              "      quickchartButtonEl.classList.add('colab-df-spinner');\n",
              "      try {\n",
              "        const charts = await google.colab.kernel.invokeFunction(\n",
              "            'suggestCharts', [key], {});\n",
              "      } catch (error) {\n",
              "        console.error('Error during call to suggestCharts:', error);\n",
              "      }\n",
              "      quickchartButtonEl.classList.remove('colab-df-spinner');\n",
              "      quickchartButtonEl.classList.add('colab-df-quickchart-complete');\n",
              "    }\n",
              "    (() => {\n",
              "      let quickchartButtonEl =\n",
              "        document.querySelector('#df-47061f8f-be1e-40ac-8eb7-07a258ccff63 button');\n",
              "      quickchartButtonEl.style.display =\n",
              "        google.colab.kernel.accessAllowed ? 'block' : 'none';\n",
              "    })();\n",
              "  </script>\n",
              "</div>\n",
              "    </div>\n",
              "  </div>\n"
            ]
          },
          "metadata": {},
          "execution_count": 8
        }
      ]
    },
    {
      "cell_type": "code",
      "source": [
        "dados.dtypes #informações sobre as colunas e os seus tipos de dados"
      ],
      "metadata": {
        "colab": {
          "base_uri": "https://localhost:8080/"
        },
        "id": "uuh_cUqO0R_q",
        "outputId": "3ba57eb1-7bf7-4b94-f1e6-d08377da322a"
      },
      "execution_count": 9,
      "outputs": [
        {
          "output_type": "execute_result",
          "data": {
            "text/plain": [
              "Diagnósticos                     object\n",
              "Grupo                            object\n",
              "Estado                           object\n",
              "Subgrupo                         object\n",
              "Fase                            float64\n",
              "Período de tempo                  int64\n",
              "Etiqueta do período de tempo     object\n",
              "Data de início do período        object\n",
              "Data de término do período       object\n",
              "Valor                           float64\n",
              "CI baixo                        float64\n",
              "CI alto                         float64\n",
              "Intervalo de confiança           object\n",
              "Faixa de quartil                 object\n",
              "dtype: object"
            ]
          },
          "metadata": {},
          "execution_count": 9
        }
      ]
    },
    {
      "cell_type": "code",
      "source": [
        "dados.hist(figsize=(15,12)); #distribuição das variáveis qualitativas"
      ],
      "metadata": {
        "colab": {
          "base_uri": "https://localhost:8080/",
          "height": 915
        },
        "id": "u8EWHsGz0zZN",
        "outputId": "894aabfd-62e6-4f5d-b93f-a3969f40820d"
      },
      "execution_count": 10,
      "outputs": [
        {
          "output_type": "display_data",
          "data": {
            "text/plain": [
              "<Figure size 1500x1200 with 6 Axes>"
            ],
            "image/png": "[encoded data removed]"
          },
          "metadata": {}
        }
      ]
    },
    {
      "cell_type": "code",
      "source": [
        "#Analisando correlações entre váriáveis\n",
        "correlacao = dados.corr()\n",
        "correlacao\n",
        "\n",
        "#Plotando o gráfico de correlação\n",
        "sns.heatmap(correlacao, cmap='RdBu', annot=True)"
      ],
      "metadata": {
        "colab": {
          "base_uri": "https://localhost:8080/",
          "height": 508
        },
        "id": "_o2UzfPE1hMD",
        "outputId": "64eff34c-b91b-44ac-9fd3-a2fcbcb6e75f"
      },
      "execution_count": 11,
      "outputs": [
        {
          "output_type": "stream",
          "name": "stderr",
          "text": [
            "<ipython-input-11-63696d2671e1>:2: FutureWarning: The default value of numeric_only in DataFrame.corr is deprecated. In a future version, it will default to False. Select only valid columns or specify the value of numeric_only to silence this warning.\n",
            "  correlacao = dados.corr()\n"
          ]
        },
        {
          "output_type": "execute_result",
          "data": {
            "text/plain": [
              "<Axes: >"
            ]
          },
          "metadata": {},
          "execution_count": 11
        },
        {
          "output_type": "display_data",
          "data": {
            "text/plain": [
              "<Figure size 640x480 with 2 Axes>"
            ],
            "image/png": "[encoded data removed]"
          },
          "metadata": {}
        }
      ]
    },
    {
      "cell_type": "markdown",
      "source": [
        "##Gráficos"
      ],
      "metadata": {
        "id": "zII4woN3yJjT"
      }
    },
    {
      "cell_type": "markdown",
      "source": [
        "Gráfico de dispersão para explorar relações entre pares de variáveis numéricas:"
      ],
      "metadata": {
        "id": "QNJHbn-e4Hc0"
      }
    },
    {
      "cell_type": "code",
      "source": [
        "#Nomeando gráfico\n",
        "plt.title('Relação entre CI baixo e CI alto')\n",
        "plt.xlabel(\"CI baixo\")\n",
        "plt.ylabel(\"CI alto\")\n",
        "\n",
        "#Gerando gráfico\n",
        "sns.scatterplot(x='CI baixo', y='CI alto', data=dados)\n",
        "\n",
        "#Mostrando gráfico\n",
        "plt.show()"
      ],
      "metadata": {
        "colab": {
          "base_uri": "https://localhost:8080/",
          "height": 472
        },
        "id": "oyoIX1bPqkGf",
        "outputId": "29f29a6d-ded9-4fe5-f025-fc8a201253ed"
      },
      "execution_count": 12,
      "outputs": [
        {
          "output_type": "display_data",
          "data": {
            "text/plain": [
              "<Figure size 640x480 with 1 Axes>"
            ],
            "image/png": "[encoded data removed]"
          },
          "metadata": {}
        }
      ]
    },
    {
      "cell_type": "markdown",
      "source": [
        "A seguir um histograma para saber a frequência da classe de valores:"
      ],
      "metadata": {
        "id": "EJ1cc6hlw9Jn"
      }
    },
    {
      "cell_type": "code",
      "source": [
        "# Gerando gráfico\n",
        "plt.hist(\"Valor\", data=dados.dropna())\n",
        "\n",
        "# Nomeando o gráfico\n",
        "plt.title(\"Análise da frequência do Valor\")\n",
        "plt.ylabel(\"Quantidade de ocorrências\")\n",
        "plt.xlabel(\"Valor\")\n",
        "\n",
        "# Mostrar gráfico\n",
        "plt.show()"
      ],
      "metadata": {
        "colab": {
          "base_uri": "https://localhost:8080/",
          "height": 472
        },
        "id": "S4Kr_KLj40ej",
        "outputId": "81578822-63b2-44b3-e923-269f7f1a1955"
      },
      "execution_count": 13,
      "outputs": [
        {
          "output_type": "display_data",
          "data": {
            "text/plain": [
              "<Figure size 640x480 with 1 Axes>"
            ],
            "image/png": "[encoded data removed]"
          },
          "metadata": {}
        }
      ]
    },
    {
      "cell_type": "markdown",
      "source": [
        "O gráfico a seguir é um histograma que representa a distribuição de dados para duas variáveis diferentes:"
      ],
      "metadata": {
        "id": "wQfeEIdoLR0J"
      }
    },
    {
      "cell_type": "markdown",
      "source": [
        "Primeiro, dataframes com informações de cada transtorno."
      ],
      "metadata": {
        "id": "hlzjVxQ6iybD"
      }
    },
    {
      "cell_type": "code",
      "source": [
        "dados_ans = dados[dados['Diagnósticos']=='Symptoms of Anxiety Disorder'] #Criando dataframe com informações de transtorno de ansiedade"
      ],
      "metadata": {
        "id": "zBEtamSYVm4I"
      },
      "execution_count": 14,
      "outputs": []
    },
    {
      "cell_type": "code",
      "source": [
        "dados_ans.head()"
      ],
      "metadata": {
        "colab": {
          "base_uri": "https://localhost:8080/",
          "height": 431
        },
        "id": "Xz-zvsD2WDUn",
        "outputId": "d16c6e55-cb7e-48a4-bc14-d6521f8e593f"
      },
      "execution_count": 15,
      "outputs": [
        {
          "output_type": "execute_result",
          "data": {
            "text/plain": [
              "                    Diagnósticos              Grupo         Estado  \\\n",
              "70  Symptoms of Anxiety Disorder  National Estimate  United States   \n",
              "71  Symptoms of Anxiety Disorder             By Age  United States   \n",
              "72  Symptoms of Anxiety Disorder             By Age  United States   \n",
              "73  Symptoms of Anxiety Disorder             By Age  United States   \n",
              "74  Symptoms of Anxiety Disorder             By Age  United States   \n",
              "\n",
              "         Subgrupo  Fase  Período de tempo Etiqueta do período de tempo  \\\n",
              "70  United States   1.0                 1         Apr 23 - May 5, 2020   \n",
              "71  18 - 29 years   1.0                 1         Apr 23 - May 5, 2020   \n",
              "72  30 - 39 years   1.0                 1         Apr 23 - May 5, 2020   \n",
              "73  40 - 49 years   1.0                 1         Apr 23 - May 5, 2020   \n",
              "74  50 - 59 years   1.0                 1         Apr 23 - May 5, 2020   \n",
              "\n",
              "   Data de início do período Data de término do período  Valor  CI baixo  \\\n",
              "70                04/23/2020        2020-05-05 00:00:00   30.8      30.0   \n",
              "71                04/23/2020        2020-05-05 00:00:00   40.2      38.1   \n",
              "72                04/23/2020        2020-05-05 00:00:00   34.4      32.6   \n",
              "73                04/23/2020        2020-05-05 00:00:00   34.1      32.1   \n",
              "74                04/23/2020        2020-05-05 00:00:00   31.0      29.0   \n",
              "\n",
              "    CI alto Intervalo de confiança Faixa de quartil  \n",
              "70     31.7            30.0 - 31.7              NaN  \n",
              "71     42.4            38.1 - 42.4              NaN  \n",
              "72     36.1            32.6 - 36.1              NaN  \n",
              "73     36.2            32.1 - 36.2              NaN  \n",
              "74     33.1            29.0 - 33.1              NaN  "
            ],
            "text/html": [
              "\n",
              "  <div id=\"df-6f1eb213-0bbf-44a7-b9f1-a020d46698c2\" class=\"colab-df-container\">\n",
              "    <div>\n",
              "<style scoped>\n",
              "    .dataframe tbody tr th:only-of-type {\n",
              "        vertical-align: middle;\n",
              "    }\n",
              "\n",
              "    .dataframe tbody tr th {\n",
              "        vertical-align: top;\n",
              "    }\n",
              "\n",
              "    .dataframe thead th {\n",
              "        text-align: right;\n",
              "    }\n",
              "</style>\n",
              "<table border=\"1\" class=\"dataframe\">\n",
              "  <thead>\n",
              "    <tr style=\"text-align: right;\">\n",
              "      <th></th>\n",
              "      <th>Diagnósticos</th>\n",
              "      <th>Grupo</th>\n",
              "      <th>Estado</th>\n",
              "      <th>Subgrupo</th>\n",
              "      <th>Fase</th>\n",
              "      <th>Período de tempo</th>\n",
              "      <th>Etiqueta do período de tempo</th>\n",
              "      <th>Data de início do período</th>\n",
              "      <th>Data de término do período</th>\n",
              "      <th>Valor</th>\n",
              "      <th>CI baixo</th>\n",
              "      <th>CI alto</th>\n",
              "      <th>Intervalo de confiança</th>\n",
              "      <th>Faixa de quartil</th>\n",
              "    </tr>\n",
              "  </thead>\n",
              "  <tbody>\n",
              "    <tr>\n",
              "      <th>70</th>\n",
              "      <td>Symptoms of Anxiety Disorder</td>\n",
              "      <td>National Estimate</td>\n",
              "      <td>United States</td>\n",
              "      <td>United States</td>\n",
              "      <td>1.0</td>\n",
              "      <td>1</td>\n",
              "      <td>Apr 23 - May 5, 2020</td>\n",
              "      <td>04/23/2020</td>\n",
              "      <td>2020-05-05 00:00:00</td>\n",
              "      <td>30.8</td>\n",
              "      <td>30.0</td>\n",
              "      <td>31.7</td>\n",
              "      <td>30.0 - 31.7</td>\n",
              "      <td>NaN</td>\n",
              "    </tr>\n",
              "    <tr>\n",
              "      <th>71</th>\n",
              "      <td>Symptoms of Anxiety Disorder</td>\n",
              "      <td>By Age</td>\n",
              "      <td>United States</td>\n",
              "      <td>18 - 29 years</td>\n",
              "      <td>1.0</td>\n",
              "      <td>1</td>\n",
              "      <td>Apr 23 - May 5, 2020</td>\n",
              "      <td>04/23/2020</td>\n",
              "      <td>2020-05-05 00:00:00</td>\n",
              "      <td>40.2</td>\n",
              "      <td>38.1</td>\n",
              "      <td>42.4</td>\n",
              "      <td>38.1 - 42.4</td>\n",
              "      <td>NaN</td>\n",
              "    </tr>\n",
              "    <tr>\n",
              "      <th>72</th>\n",
              "      <td>Symptoms of Anxiety Disorder</td>\n",
              "      <td>By Age</td>\n",
              "      <td>United States</td>\n",
              "      <td>30 - 39 years</td>\n",
              "      <td>1.0</td>\n",
              "      <td>1</td>\n",
              "      <td>Apr 23 - May 5, 2020</td>\n",
              "      <td>04/23/2020</td>\n",
              "      <td>2020-05-05 00:00:00</td>\n",
              "      <td>34.4</td>\n",
              "      <td>32.6</td>\n",
              "      <td>36.1</td>\n",
              "      <td>32.6 - 36.1</td>\n",
              "      <td>NaN</td>\n",
              "    </tr>\n",
              "    <tr>\n",
              "      <th>73</th>\n",
              "      <td>Symptoms of Anxiety Disorder</td>\n",
              "      <td>By Age</td>\n",
              "      <td>United States</td>\n",
              "      <td>40 - 49 years</td>\n",
              "      <td>1.0</td>\n",
              "      <td>1</td>\n",
              "      <td>Apr 23 - May 5, 2020</td>\n",
              "      <td>04/23/2020</td>\n",
              "      <td>2020-05-05 00:00:00</td>\n",
              "      <td>34.1</td>\n",
              "      <td>32.1</td>\n",
              "      <td>36.2</td>\n",
              "      <td>32.1 - 36.2</td>\n",
              "      <td>NaN</td>\n",
              "    </tr>\n",
              "    <tr>\n",
              "      <th>74</th>\n",
              "      <td>Symptoms of Anxiety Disorder</td>\n",
              "      <td>By Age</td>\n",
              "      <td>United States</td>\n",
              "      <td>50 - 59 years</td>\n",
              "      <td>1.0</td>\n",
              "      <td>1</td>\n",
              "      <td>Apr 23 - May 5, 2020</td>\n",
              "      <td>04/23/2020</td>\n",
              "      <td>2020-05-05 00:00:00</td>\n",
              "      <td>31.0</td>\n",
              "      <td>29.0</td>\n",
              "      <td>33.1</td>\n",
              "      <td>29.0 - 33.1</td>\n",
              "      <td>NaN</td>\n",
              "    </tr>\n",
              "  </tbody>\n",
              "</table>\n",
              "</div>\n",
              "    <div class=\"colab-df-buttons\">\n",
              "\n",
              "  <div class=\"colab-df-container\">\n",
              "    <button class=\"colab-df-convert\" onclick=\"convertToInteractive('df-6f1eb213-0bbf-44a7-b9f1-a020d46698c2')\"\n",
              "            title=\"Convert this dataframe to an interactive table.\"\n",
              "            style=\"display:none;\">\n",
              "\n",
              "  <svg xmlns=\"http://www.w3.org/2000/svg\" height=\"24px\" viewBox=\"0 -960 960 960\">\n",
              "    <path d=\"M120-120v-720h720v720H120Zm60-500h600v-160H180v160Zm220 220h160v-160H400v160Zm0 220h160v-160H400v160ZM180-400h160v-160H180v160Zm440 0h160v-160H620v160ZM180-180h160v-160H180v160Zm440 0h160v-160H620v160Z\"/>\n",
              "  </svg>\n",
              "    </button>\n",
              "\n",
              "  <style>\n",
              "    .colab-df-container {\n",
              "      display:flex;\n",
              "      gap: 12px;\n",
              "    }\n",
              "\n",
              "    .colab-df-convert {\n",
              "      background-color: #E8F0FE;\n",
              "      border: none;\n",
              "      border-radius: 50%;\n",
              "      cursor: pointer;\n",
              "      display: none;\n",
              "      fill: #1967D2;\n",
              "      height: 32px;\n",
              "      padding: 0 0 0 0;\n",
              "      width: 32px;\n",
              "    }\n",
              "\n",
              "    .colab-df-convert:hover {\n",
              "      background-color: #E2EBFA;\n",
              "      box-shadow: 0px 1px 2px rgba(60, 64, 67, 0.3), 0px 1px 3px 1px rgba(60, 64, 67, 0.15);\n",
              "      fill: #174EA6;\n",
              "    }\n",
              "\n",
              "    .colab-df-buttons div {\n",
              "      margin-bottom: 4px;\n",
              "    }\n",
              "\n",
              "    [theme=dark] .colab-df-convert {\n",
              "      background-color: #3B4455;\n",
              "      fill: #D2E3FC;\n",
              "    }\n",
              "\n",
              "    [theme=dark] .colab-df-convert:hover {\n",
              "      background-color: #434B5C;\n",
              "      box-shadow: 0px 1px 3px 1px rgba(0, 0, 0, 0.15);\n",
              "      filter: drop-shadow(0px 1px 2px rgba(0, 0, 0, 0.3));\n",
              "      fill: #FFFFFF;\n",
              "    }\n",
              "  </style>\n",
              "\n",
              "    <script>\n",
              "      const buttonEl =\n",
              "        document.querySelector('#df-6f1eb213-0bbf-44a7-b9f1-a020d46698c2 button.colab-df-convert');\n",
              "      buttonEl.style.display =\n",
              "        google.colab.kernel.accessAllowed ? 'block' : 'none';\n",
              "\n",
              "      async function convertToInteractive(key) {\n",
              "        const element = document.querySelector('#df-6f1eb213-0bbf-44a7-b9f1-a020d46698c2');\n",
              "        const dataTable =\n",
              "          await google.colab.kernel.invokeFunction('convertToInteractive',\n",
              "                                                    [key], {});\n",
              "        if (!dataTable) return;\n",
              "\n",
              "        const docLinkHtml = 'Like what you see? Visit the ' +\n",
              "          '<a target=\"_blank\" href=https://colab.research.google.com/notebooks/data_table.ipynb>data table notebook</a>'\n",
              "          + ' to learn more about interactive tables.';\n",
              "        element.innerHTML = '';\n",
              "        dataTable['output_type'] = 'display_data';\n",
              "        await google.colab.output.renderOutput(dataTable, element);\n",
              "        const docLink = document.createElement('div');\n",
              "        docLink.innerHTML = docLinkHtml;\n",
              "        element.appendChild(docLink);\n",
              "      }\n",
              "    </script>\n",
              "  </div>\n",
              "\n",
              "\n",
              "<div id=\"df-aba92f1f-cc79-4ee1-8195-1776059298e0\">\n",
              "  <button class=\"colab-df-quickchart\" onclick=\"quickchart('df-aba92f1f-cc79-4ee1-8195-1776059298e0')\"\n",
              "            title=\"Suggest charts\"\n",
              "            style=\"display:none;\">\n",
              "\n",
              "<svg xmlns=\"http://www.w3.org/2000/svg\" height=\"24px\"viewBox=\"0 0 24 24\"\n",
              "     width=\"24px\">\n",
              "    <g>\n",
              "        <path d=\"M19 3H5c-1.1 0-2 .9-2 2v14c0 1.1.9 2 2 2h14c1.1 0 2-.9 2-2V5c0-1.1-.9-2-2-2zM9 17H7v-7h2v7zm4 0h-2V7h2v10zm4 0h-2v-4h2v4z\"/>\n",
              "    </g>\n",
              "</svg>\n",
              "  </button>\n",
              "\n",
              "<style>\n",
              "  .colab-df-quickchart {\n",
              "      --bg-color: #E8F0FE;\n",
              "      --fill-color: #1967D2;\n",
              "      --hover-bg-color: #E2EBFA;\n",
              "      --hover-fill-color: #174EA6;\n",
              "      --disabled-fill-color: #AAA;\n",
              "      --disabled-bg-color: #DDD;\n",
              "  }\n",
              "\n",
              "  [theme=dark] .colab-df-quickchart {\n",
              "      --bg-color: #3B4455;\n",
              "      --fill-color: #D2E3FC;\n",
              "      --hover-bg-color: #434B5C;\n",
              "      --hover-fill-color: #FFFFFF;\n",
              "      --disabled-bg-color: #3B4455;\n",
              "      --disabled-fill-color: #666;\n",
              "  }\n",
              "\n",
              "  .colab-df-quickchart {\n",
              "    background-color: var(--bg-color);\n",
              "    border: none;\n",
              "    border-radius: 50%;\n",
              "    cursor: pointer;\n",
              "    display: none;\n",
              "    fill: var(--fill-color);\n",
              "    height: 32px;\n",
              "    padding: 0;\n",
              "    width: 32px;\n",
              "  }\n",
              "\n",
              "  .colab-df-quickchart:hover {\n",
              "    background-color: var(--hover-bg-color);\n",
              "    box-shadow: 0 1px 2px rgba(60, 64, 67, 0.3), 0 1px 3px 1px rgba(60, 64, 67, 0.15);\n",
              "    fill: var(--button-hover-fill-color);\n",
              "  }\n",
              "\n",
              "  .colab-df-quickchart-complete:disabled,\n",
              "  .colab-df-quickchart-complete:disabled:hover {\n",
              "    background-color: var(--disabled-bg-color);\n",
              "    fill: var(--disabled-fill-color);\n",
              "    box-shadow: none;\n",
              "  }\n",
              "\n",
              "  .colab-df-spinner {\n",
              "    border: 2px solid var(--fill-color);\n",
              "    border-color: transparent;\n",
              "    border-bottom-color: var(--fill-color);\n",
              "    animation:\n",
              "      spin 1s steps(1) infinite;\n",
              "  }\n",
              "\n",
              "  @keyframes spin {\n",
              "    0% {\n",
              "      border-color: transparent;\n",
              "      border-bottom-color: var(--fill-color);\n",
              "      border-left-color: var(--fill-color);\n",
              "    }\n",
              "    20% {\n",
              "      border-color: transparent;\n",
              "      border-left-color: var(--fill-color);\n",
              "      border-top-color: var(--fill-color);\n",
              "    }\n",
              "    30% {\n",
              "      border-color: transparent;\n",
              "      border-left-color: var(--fill-color);\n",
              "      border-top-color: var(--fill-color);\n",
              "      border-right-color: var(--fill-color);\n",
              "    }\n",
              "    40% {\n",
              "      border-color: transparent;\n",
              "      border-right-color: var(--fill-color);\n",
              "      border-top-color: var(--fill-color);\n",
              "    }\n",
              "    60% {\n",
              "      border-color: transparent;\n",
              "      border-right-color: var(--fill-color);\n",
              "    }\n",
              "    80% {\n",
              "      border-color: transparent;\n",
              "      border-right-color: var(--fill-color);\n",
              "      border-bottom-color: var(--fill-color);\n",
              "    }\n",
              "    90% {\n",
              "      border-color: transparent;\n",
              "      border-bottom-color: var(--fill-color);\n",
              "    }\n",
              "  }\n",
              "</style>\n",
              "\n",
              "  <script>\n",
              "    async function quickchart(key) {\n",
              "      const quickchartButtonEl =\n",
              "        document.querySelector('#' + key + ' button');\n",
              "      quickchartButtonEl.disabled = true;  // To prevent multiple clicks.\n",
              "      quickchartButtonEl.classList.add('colab-df-spinner');\n",
              "      try {\n",
              "        const charts = await google.colab.kernel.invokeFunction(\n",
              "            'suggestCharts', [key], {});\n",
              "      } catch (error) {\n",
              "        console.error('Error during call to suggestCharts:', error);\n",
              "      }\n",
              "      quickchartButtonEl.classList.remove('colab-df-spinner');\n",
              "      quickchartButtonEl.classList.add('colab-df-quickchart-complete');\n",
              "    }\n",
              "    (() => {\n",
              "      let quickchartButtonEl =\n",
              "        document.querySelector('#df-aba92f1f-cc79-4ee1-8195-1776059298e0 button');\n",
              "      quickchartButtonEl.style.display =\n",
              "        google.colab.kernel.accessAllowed ? 'block' : 'none';\n",
              "    })();\n",
              "  </script>\n",
              "</div>\n",
              "    </div>\n",
              "  </div>\n"
            ]
          },
          "metadata": {},
          "execution_count": 15
        }
      ]
    },
    {
      "cell_type": "code",
      "source": [
        "dados_depre = dados[dados['Diagnósticos']=='Symptoms of Depressive Disorder'] #Criando dataframe com informações de transtorno depressivo"
      ],
      "metadata": {
        "id": "xSpWdbhBWKCs"
      },
      "execution_count": 16,
      "outputs": []
    },
    {
      "cell_type": "code",
      "source": [
        "dados_depre.head()"
      ],
      "metadata": {
        "colab": {
          "base_uri": "https://localhost:8080/",
          "height": 431
        },
        "id": "LT98imNDWQ-z",
        "outputId": "648f3148-5103-4d6f-8192-ac40b10765a6"
      },
      "execution_count": 17,
      "outputs": [
        {
          "output_type": "execute_result",
          "data": {
            "text/plain": [
              "                      Diagnósticos              Grupo         Estado  \\\n",
              "0  Symptoms of Depressive Disorder  National Estimate  United States   \n",
              "1  Symptoms of Depressive Disorder             By Age  United States   \n",
              "2  Symptoms of Depressive Disorder             By Age  United States   \n",
              "3  Symptoms of Depressive Disorder             By Age  United States   \n",
              "4  Symptoms of Depressive Disorder             By Age  United States   \n",
              "\n",
              "        Subgrupo  Fase  Período de tempo Etiqueta do período de tempo  \\\n",
              "0  United States   1.0                 1         Apr 23 - May 5, 2020   \n",
              "1  18 - 29 years   1.0                 1         Apr 23 - May 5, 2020   \n",
              "2  30 - 39 years   1.0                 1         Apr 23 - May 5, 2020   \n",
              "3  40 - 49 years   1.0                 1         Apr 23 - May 5, 2020   \n",
              "4  50 - 59 years   1.0                 1         Apr 23 - May 5, 2020   \n",
              "\n",
              "  Data de início do período Data de término do período  Valor  CI baixo  \\\n",
              "0                04/23/2020        2020-05-05 00:00:00   23.5      22.7   \n",
              "1                04/23/2020        2020-05-05 00:00:00   32.7      30.2   \n",
              "2                04/23/2020        2020-05-05 00:00:00   25.7      24.1   \n",
              "3                04/23/2020        2020-05-05 00:00:00   24.8      23.3   \n",
              "4                04/23/2020        2020-05-05 00:00:00   23.2      21.5   \n",
              "\n",
              "   CI alto Intervalo de confiança Faixa de quartil  \n",
              "0     24.3            22.7 - 24.3              NaN  \n",
              "1     35.2            30.2 - 35.2              NaN  \n",
              "2     27.3            24.1 - 27.3              NaN  \n",
              "3     26.2            23.3 - 26.2              NaN  \n",
              "4     25.0            21.5 - 25.0              NaN  "
            ],
            "text/html": [
              "\n",
              "  <div id=\"df-1bccdf37-52a3-41d6-b20f-e5e9dd88f4ea\" class=\"colab-df-container\">\n",
              "    <div>\n",
              "<style scoped>\n",
              "    .dataframe tbody tr th:only-of-type {\n",
              "        vertical-align: middle;\n",
              "    }\n",
              "\n",
              "    .dataframe tbody tr th {\n",
              "        vertical-align: top;\n",
              "    }\n",
              "\n",
              "    .dataframe thead th {\n",
              "        text-align: right;\n",
              "    }\n",
              "</style>\n",
              "<table border=\"1\" class=\"dataframe\">\n",
              "  <thead>\n",
              "    <tr style=\"text-align: right;\">\n",
              "      <th></th>\n",
              "      <th>Diagnósticos</th>\n",
              "      <th>Grupo</th>\n",
              "      <th>Estado</th>\n",
              "      <th>Subgrupo</th>\n",
              "      <th>Fase</th>\n",
              "      <th>Período de tempo</th>\n",
              "      <th>Etiqueta do período de tempo</th>\n",
              "      <th>Data de início do período</th>\n",
              "      <th>Data de término do período</th>\n",
              "      <th>Valor</th>\n",
              "      <th>CI baixo</th>\n",
              "      <th>CI alto</th>\n",
              "      <th>Intervalo de confiança</th>\n",
              "      <th>Faixa de quartil</th>\n",
              "    </tr>\n",
              "  </thead>\n",
              "  <tbody>\n",
              "    <tr>\n",
              "      <th>0</th>\n",
              "      <td>Symptoms of Depressive Disorder</td>\n",
              "      <td>National Estimate</td>\n",
              "      <td>United States</td>\n",
              "      <td>United States</td>\n",
              "      <td>1.0</td>\n",
              "      <td>1</td>\n",
              "      <td>Apr 23 - May 5, 2020</td>\n",
              "      <td>04/23/2020</td>\n",
              "      <td>2020-05-05 00:00:00</td>\n",
              "      <td>23.5</td>\n",
              "      <td>22.7</td>\n",
              "      <td>24.3</td>\n",
              "      <td>22.7 - 24.3</td>\n",
              "      <td>NaN</td>\n",
              "    </tr>\n",
              "    <tr>\n",
              "      <th>1</th>\n",
              "      <td>Symptoms of Depressive Disorder</td>\n",
              "      <td>By Age</td>\n",
              "      <td>United States</td>\n",
              "      <td>18 - 29 years</td>\n",
              "      <td>1.0</td>\n",
              "      <td>1</td>\n",
              "      <td>Apr 23 - May 5, 2020</td>\n",
              "      <td>04/23/2020</td>\n",
              "      <td>2020-05-05 00:00:00</td>\n",
              "      <td>32.7</td>\n",
              "      <td>30.2</td>\n",
              "      <td>35.2</td>\n",
              "      <td>30.2 - 35.2</td>\n",
              "      <td>NaN</td>\n",
              "    </tr>\n",
              "    <tr>\n",
              "      <th>2</th>\n",
              "      <td>Symptoms of Depressive Disorder</td>\n",
              "      <td>By Age</td>\n",
              "      <td>United States</td>\n",
              "      <td>30 - 39 years</td>\n",
              "      <td>1.0</td>\n",
              "      <td>1</td>\n",
              "      <td>Apr 23 - May 5, 2020</td>\n",
              "      <td>04/23/2020</td>\n",
              "      <td>2020-05-05 00:00:00</td>\n",
              "      <td>25.7</td>\n",
              "      <td>24.1</td>\n",
              "      <td>27.3</td>\n",
              "      <td>24.1 - 27.3</td>\n",
              "      <td>NaN</td>\n",
              "    </tr>\n",
              "    <tr>\n",
              "      <th>3</th>\n",
              "      <td>Symptoms of Depressive Disorder</td>\n",
              "      <td>By Age</td>\n",
              "      <td>United States</td>\n",
              "      <td>40 - 49 years</td>\n",
              "      <td>1.0</td>\n",
              "      <td>1</td>\n",
              "      <td>Apr 23 - May 5, 2020</td>\n",
              "      <td>04/23/2020</td>\n",
              "      <td>2020-05-05 00:00:00</td>\n",
              "      <td>24.8</td>\n",
              "      <td>23.3</td>\n",
              "      <td>26.2</td>\n",
              "      <td>23.3 - 26.2</td>\n",
              "      <td>NaN</td>\n",
              "    </tr>\n",
              "    <tr>\n",
              "      <th>4</th>\n",
              "      <td>Symptoms of Depressive Disorder</td>\n",
              "      <td>By Age</td>\n",
              "      <td>United States</td>\n",
              "      <td>50 - 59 years</td>\n",
              "      <td>1.0</td>\n",
              "      <td>1</td>\n",
              "      <td>Apr 23 - May 5, 2020</td>\n",
              "      <td>04/23/2020</td>\n",
              "      <td>2020-05-05 00:00:00</td>\n",
              "      <td>23.2</td>\n",
              "      <td>21.5</td>\n",
              "      <td>25.0</td>\n",
              "      <td>21.5 - 25.0</td>\n",
              "      <td>NaN</td>\n",
              "    </tr>\n",
              "  </tbody>\n",
              "</table>\n",
              "</div>\n",
              "    <div class=\"colab-df-buttons\">\n",
              "\n",
              "  <div class=\"colab-df-container\">\n",
              "    <button class=\"colab-df-convert\" onclick=\"convertToInteractive('df-1bccdf37-52a3-41d6-b20f-e5e9dd88f4ea')\"\n",
              "            title=\"Convert this dataframe to an interactive table.\"\n",
              "            style=\"display:none;\">\n",
              "\n",
              "  <svg xmlns=\"http://www.w3.org/2000/svg\" height=\"24px\" viewBox=\"0 -960 960 960\">\n",
              "    <path d=\"M120-120v-720h720v720H120Zm60-500h600v-160H180v160Zm220 220h160v-160H400v160Zm0 220h160v-160H400v160ZM180-400h160v-160H180v160Zm440 0h160v-160H620v160ZM180-180h160v-160H180v160Zm440 0h160v-160H620v160Z\"/>\n",
              "  </svg>\n",
              "    </button>\n",
              "\n",
              "  <style>\n",
              "    .colab-df-container {\n",
              "      display:flex;\n",
              "      gap: 12px;\n",
              "    }\n",
              "\n",
              "    .colab-df-convert {\n",
              "      background-color: #E8F0FE;\n",
              "      border: none;\n",
              "      border-radius: 50%;\n",
              "      cursor: pointer;\n",
              "      display: none;\n",
              "      fill: #1967D2;\n",
              "      height: 32px;\n",
              "      padding: 0 0 0 0;\n",
              "      width: 32px;\n",
              "    }\n",
              "\n",
              "    .colab-df-convert:hover {\n",
              "      background-color: #E2EBFA;\n",
              "      box-shadow: 0px 1px 2px rgba(60, 64, 67, 0.3), 0px 1px 3px 1px rgba(60, 64, 67, 0.15);\n",
              "      fill: #174EA6;\n",
              "    }\n",
              "\n",
              "    .colab-df-buttons div {\n",
              "      margin-bottom: 4px;\n",
              "    }\n",
              "\n",
              "    [theme=dark] .colab-df-convert {\n",
              "      background-color: #3B4455;\n",
              "      fill: #D2E3FC;\n",
              "    }\n",
              "\n",
              "    [theme=dark] .colab-df-convert:hover {\n",
              "      background-color: #434B5C;\n",
              "      box-shadow: 0px 1px 3px 1px rgba(0, 0, 0, 0.15);\n",
              "      filter: drop-shadow(0px 1px 2px rgba(0, 0, 0, 0.3));\n",
              "      fill: #FFFFFF;\n",
              "    }\n",
              "  </style>\n",
              "\n",
              "    <script>\n",
              "      const buttonEl =\n",
              "        document.querySelector('#df-1bccdf37-52a3-41d6-b20f-e5e9dd88f4ea button.colab-df-convert');\n",
              "      buttonEl.style.display =\n",
              "        google.colab.kernel.accessAllowed ? 'block' : 'none';\n",
              "\n",
              "      async function convertToInteractive(key) {\n",
              "        const element = document.querySelector('#df-1bccdf37-52a3-41d6-b20f-e5e9dd88f4ea');\n",
              "        const dataTable =\n",
              "          await google.colab.kernel.invokeFunction('convertToInteractive',\n",
              "                                                    [key], {});\n",
              "        if (!dataTable) return;\n",
              "\n",
              "        const docLinkHtml = 'Like what you see? Visit the ' +\n",
              "          '<a target=\"_blank\" href=https://colab.research.google.com/notebooks/data_table.ipynb>data table notebook</a>'\n",
              "          + ' to learn more about interactive tables.';\n",
              "        element.innerHTML = '';\n",
              "        dataTable['output_type'] = 'display_data';\n",
              "        await google.colab.output.renderOutput(dataTable, element);\n",
              "        const docLink = document.createElement('div');\n",
              "        docLink.innerHTML = docLinkHtml;\n",
              "        element.appendChild(docLink);\n",
              "      }\n",
              "    </script>\n",
              "  </div>\n",
              "\n",
              "\n",
              "<div id=\"df-97663060-8296-46a9-8468-5610b39b7621\">\n",
              "  <button class=\"colab-df-quickchart\" onclick=\"quickchart('df-97663060-8296-46a9-8468-5610b39b7621')\"\n",
              "            title=\"Suggest charts\"\n",
              "            style=\"display:none;\">\n",
              "\n",
              "<svg xmlns=\"http://www.w3.org/2000/svg\" height=\"24px\"viewBox=\"0 0 24 24\"\n",
              "     width=\"24px\">\n",
              "    <g>\n",
              "        <path d=\"M19 3H5c-1.1 0-2 .9-2 2v14c0 1.1.9 2 2 2h14c1.1 0 2-.9 2-2V5c0-1.1-.9-2-2-2zM9 17H7v-7h2v7zm4 0h-2V7h2v10zm4 0h-2v-4h2v4z\"/>\n",
              "    </g>\n",
              "</svg>\n",
              "  </button>\n",
              "\n",
              "<style>\n",
              "  .colab-df-quickchart {\n",
              "      --bg-color: #E8F0FE;\n",
              "      --fill-color: #1967D2;\n",
              "      --hover-bg-color: #E2EBFA;\n",
              "      --hover-fill-color: #174EA6;\n",
              "      --disabled-fill-color: #AAA;\n",
              "      --disabled-bg-color: #DDD;\n",
              "  }\n",
              "\n",
              "  [theme=dark] .colab-df-quickchart {\n",
              "      --bg-color: #3B4455;\n",
              "      --fill-color: #D2E3FC;\n",
              "      --hover-bg-color: #434B5C;\n",
              "      --hover-fill-color: #FFFFFF;\n",
              "      --disabled-bg-color: #3B4455;\n",
              "      --disabled-fill-color: #666;\n",
              "  }\n",
              "\n",
              "  .colab-df-quickchart {\n",
              "    background-color: var(--bg-color);\n",
              "    border: none;\n",
              "    border-radius: 50%;\n",
              "    cursor: pointer;\n",
              "    display: none;\n",
              "    fill: var(--fill-color);\n",
              "    height: 32px;\n",
              "    padding: 0;\n",
              "    width: 32px;\n",
              "  }\n",
              "\n",
              "  .colab-df-quickchart:hover {\n",
              "    background-color: var(--hover-bg-color);\n",
              "    box-shadow: 0 1px 2px rgba(60, 64, 67, 0.3), 0 1px 3px 1px rgba(60, 64, 67, 0.15);\n",
              "    fill: var(--button-hover-fill-color);\n",
              "  }\n",
              "\n",
              "  .colab-df-quickchart-complete:disabled,\n",
              "  .colab-df-quickchart-complete:disabled:hover {\n",
              "    background-color: var(--disabled-bg-color);\n",
              "    fill: var(--disabled-fill-color);\n",
              "    box-shadow: none;\n",
              "  }\n",
              "\n",
              "  .colab-df-spinner {\n",
              "    border: 2px solid var(--fill-color);\n",
              "    border-color: transparent;\n",
              "    border-bottom-color: var(--fill-color);\n",
              "    animation:\n",
              "      spin 1s steps(1) infinite;\n",
              "  }\n",
              "\n",
              "  @keyframes spin {\n",
              "    0% {\n",
              "      border-color: transparent;\n",
              "      border-bottom-color: var(--fill-color);\n",
              "      border-left-color: var(--fill-color);\n",
              "    }\n",
              "    20% {\n",
              "      border-color: transparent;\n",
              "      border-left-color: var(--fill-color);\n",
              "      border-top-color: var(--fill-color);\n",
              "    }\n",
              "    30% {\n",
              "      border-color: transparent;\n",
              "      border-left-color: var(--fill-color);\n",
              "      border-top-color: var(--fill-color);\n",
              "      border-right-color: var(--fill-color);\n",
              "    }\n",
              "    40% {\n",
              "      border-color: transparent;\n",
              "      border-right-color: var(--fill-color);\n",
              "      border-top-color: var(--fill-color);\n",
              "    }\n",
              "    60% {\n",
              "      border-color: transparent;\n",
              "      border-right-color: var(--fill-color);\n",
              "    }\n",
              "    80% {\n",
              "      border-color: transparent;\n",
              "      border-right-color: var(--fill-color);\n",
              "      border-bottom-color: var(--fill-color);\n",
              "    }\n",
              "    90% {\n",
              "      border-color: transparent;\n",
              "      border-bottom-color: var(--fill-color);\n",
              "    }\n",
              "  }\n",
              "</style>\n",
              "\n",
              "  <script>\n",
              "    async function quickchart(key) {\n",
              "      const quickchartButtonEl =\n",
              "        document.querySelector('#' + key + ' button');\n",
              "      quickchartButtonEl.disabled = true;  // To prevent multiple clicks.\n",
              "      quickchartButtonEl.classList.add('colab-df-spinner');\n",
              "      try {\n",
              "        const charts = await google.colab.kernel.invokeFunction(\n",
              "            'suggestCharts', [key], {});\n",
              "      } catch (error) {\n",
              "        console.error('Error during call to suggestCharts:', error);\n",
              "      }\n",
              "      quickchartButtonEl.classList.remove('colab-df-spinner');\n",
              "      quickchartButtonEl.classList.add('colab-df-quickchart-complete');\n",
              "    }\n",
              "    (() => {\n",
              "      let quickchartButtonEl =\n",
              "        document.querySelector('#df-97663060-8296-46a9-8468-5610b39b7621 button');\n",
              "      quickchartButtonEl.style.display =\n",
              "        google.colab.kernel.accessAllowed ? 'block' : 'none';\n",
              "    })();\n",
              "  </script>\n",
              "</div>\n",
              "    </div>\n",
              "  </div>\n"
            ]
          },
          "metadata": {},
          "execution_count": 17
        }
      ]
    },
    {
      "cell_type": "code",
      "source": [
        "# Criando uma figura e um conjunto de eixos\n",
        "fig, axes = plt.subplots(1, 2, figsize=(25, 9))\n",
        "\n",
        "# Nomeando\n",
        "fig.suptitle('Análise dos Transtornos por Período')\n",
        "\n",
        "# Convertendo as colunas para o tipo datetime\n",
        "dados_ans['Data de início do período'] = pd.to_datetime(dados_ans['Data de início do período'], errors='coerce')\n",
        "dados_depre['Data de término do período'] = pd.to_datetime(dados_depre['Data de término do período'], errors='coerce')\n",
        "\n",
        "# Gerando histograma\n",
        "sns.histplot(ax=axes[0],\n",
        "             data=dados_ans['Data de início do período'],\n",
        "             kde=True,\n",
        "             bins=10,\n",
        "             linewidth=0.7,\n",
        "             color='blue'\n",
        "             )\n",
        "# Gerando histograma\n",
        "sns.histplot(ax=axes[1],\n",
        "             data=dados_depre['Data de término do período'],\n",
        "             kde=True,\n",
        "             bins=10,\n",
        "             linewidth=0.7,\n",
        "             color='red'\n",
        "             )\n",
        "# Nomeando\n",
        "axes[0].set(xlabel='Porcentagem', ylabel='Transtorno Depressivo')\n",
        "axes[1].set(xlabel='Porcentagem', ylabel='Transtorno de Ansiedade')\n",
        "\n",
        "# Exibindo a figura\n",
        "plt.show()"
      ],
      "metadata": {
        "colab": {
          "base_uri": "https://localhost:8080/",
          "height": 693
        },
        "id": "d7alM_O7Aq3K",
        "outputId": "c5ba8435-a8b8-4f2d-946c-567b208e4976"
      },
      "execution_count": 18,
      "outputs": [
        {
          "output_type": "stream",
          "name": "stderr",
          "text": [
            "<ipython-input-18-cda634133557>:8: SettingWithCopyWarning: \n",
            "A value is trying to be set on a copy of a slice from a DataFrame.\n",
            "Try using .loc[row_indexer,col_indexer] = value instead\n",
            "\n",
            "See the caveats in the documentation: https://pandas.pydata.org/pandas-docs/stable/user_guide/indexing.html#returning-a-view-versus-a-copy\n",
            "  dados_ans['Data de início do período'] = pd.to_datetime(dados_ans['Data de início do período'], errors='coerce')\n",
            "<ipython-input-18-cda634133557>:9: SettingWithCopyWarning: \n",
            "A value is trying to be set on a copy of a slice from a DataFrame.\n",
            "Try using .loc[row_indexer,col_indexer] = value instead\n",
            "\n",
            "See the caveats in the documentation: https://pandas.pydata.org/pandas-docs/stable/user_guide/indexing.html#returning-a-view-versus-a-copy\n",
            "  dados_depre['Data de término do período'] = pd.to_datetime(dados_depre['Data de término do período'], errors='coerce')\n"
          ]
        },
        {
          "output_type": "display_data",
          "data": {
            "text/plain": [
              "<Figure size 2500x900 with 2 Axes>"
            ],
            "image/png": "[encoded data removed]"
          },
          "metadata": {}
        }
      ]
    },
    {
      "cell_type": "markdown",
      "source": [
        "Gráfico para análisar a fase dos transtornos por período de tempo."
      ],
      "metadata": {
        "id": "LRXT21pviEtD"
      }
    },
    {
      "cell_type": "code",
      "source": [
        "# Criando uma figura e um conjunto de eixos\n",
        "fig, ax = plt.subplots()\n",
        "\n",
        "# Convertendo as colunas para float\n",
        "dados['Fase'] = dados['Fase'].astype(float)\n",
        "\n",
        "# Plotando os pontos no gráfico\n",
        "ax.plot(dados['Período de tempo'], dados['Fase'])\n",
        "\n",
        "# Definindo o título, rótulos do eixo x e y\n",
        "ax.set_title('Fases por período de tempo')\n",
        "ax.set_xlabel('Período de tempo')\n",
        "ax.set_ylabel('Fase')\n",
        "\n",
        "# Exibindo o gráfico\n",
        "plt.show()"
      ],
      "metadata": {
        "colab": {
          "base_uri": "https://localhost:8080/",
          "height": 473
        },
        "id": "v0We9yUOODgX",
        "outputId": "c7fe0d79-bc0c-4095-af45-e6a11c3cc278"
      },
      "execution_count": 19,
      "outputs": [
        {
          "output_type": "display_data",
          "data": {
            "text/plain": [
              "<Figure size 640x480 with 1 Axes>"
            ],
            "image/png": "[encoded data removed]"
          },
          "metadata": {}
        }
      ]
    },
    {
      "cell_type": "markdown",
      "source": [
        "A seguir um gráfico de comparação entre 3 estados para análisar a Depressão, por CI baixo:"
      ],
      "metadata": {
        "id": "XgvnX-LwiSge"
      }
    },
    {
      "cell_type": "markdown",
      "source": [
        "Primeiro, criando dataframes com informações de cada estado."
      ],
      "metadata": {
        "id": "IUCUeF48m1Wg"
      }
    },
    {
      "cell_type": "code",
      "source": [
        "dados_ala = dados[dados['Estado']=='Alabama'] #Criando dataframe com informações do Alabama"
      ],
      "metadata": {
        "id": "ZL1whAjEcxgu"
      },
      "execution_count": 20,
      "outputs": []
    },
    {
      "cell_type": "code",
      "source": [
        "dados_ala.head()"
      ],
      "metadata": {
        "colab": {
          "base_uri": "https://localhost:8080/",
          "height": 449
        },
        "id": "f2WulqQGc2r0",
        "outputId": "c7e1bad7-5dc7-4d4f-e8ad-85580bf81da1"
      },
      "execution_count": 21,
      "outputs": [
        {
          "output_type": "execute_result",
          "data": {
            "text/plain": [
              "                                          Diagnósticos     Grupo   Estado  \\\n",
              "19                     Symptoms of Depressive Disorder  By State  Alabama   \n",
              "89                        Symptoms of Anxiety Disorder  By State  Alabama   \n",
              "159  Symptoms of Anxiety Disorder or Depressive Dis...  By State  Alabama   \n",
              "229                    Symptoms of Depressive Disorder  By State  Alabama   \n",
              "299                       Symptoms of Anxiety Disorder  By State  Alabama   \n",
              "\n",
              "    Subgrupo  Fase  Período de tempo Etiqueta do período de tempo  \\\n",
              "19   Alabama   1.0                 1         Apr 23 - May 5, 2020   \n",
              "89   Alabama   1.0                 1         Apr 23 - May 5, 2020   \n",
              "159  Alabama   1.0                 1         Apr 23 - May 5, 2020   \n",
              "229  Alabama   1.0                 2         May 7 - May 12, 2020   \n",
              "299  Alabama   1.0                 2         May 7 - May 12, 2020   \n",
              "\n",
              "    Data de início do período Data de término do período  Valor  CI baixo  \\\n",
              "19                 04/23/2020        2020-05-05 00:00:00   18.6      14.6   \n",
              "89                 04/23/2020        2020-05-05 00:00:00   25.6      20.7   \n",
              "159                04/23/2020        2020-05-05 00:00:00   30.3      24.8   \n",
              "229       2020-07-05 00:00:00        2020-12-05 00:00:00   22.5      16.4   \n",
              "299       2020-07-05 00:00:00        2020-12-05 00:00:00   27.2      21.1   \n",
              "\n",
              "     CI alto Intervalo de confiança Faixa de quartil  \n",
              "19      23.1            14.6 - 23.1      16.5 - 20.7  \n",
              "89      30.9            20.7 - 30.9      21.7 - 27.8  \n",
              "159     36.2            24.8 - 36.2      25.6 - 33.3  \n",
              "229     29.5            16.4 - 29.5      20.7 - 23.0  \n",
              "299     34.1            21.1 - 34.1      26.3 - 28.7  "
            ],
            "text/html": [
              "\n",
              "  <div id=\"df-e709827d-7812-4417-8865-932b3d8fc26f\" class=\"colab-df-container\">\n",
              "    <div>\n",
              "<style scoped>\n",
              "    .dataframe tbody tr th:only-of-type {\n",
              "        vertical-align: middle;\n",
              "    }\n",
              "\n",
              "    .dataframe tbody tr th {\n",
              "        vertical-align: top;\n",
              "    }\n",
              "\n",
              "    .dataframe thead th {\n",
              "        text-align: right;\n",
              "    }\n",
              "</style>\n",
              "<table border=\"1\" class=\"dataframe\">\n",
              "  <thead>\n",
              "    <tr style=\"text-align: right;\">\n",
              "      <th></th>\n",
              "      <th>Diagnósticos</th>\n",
              "      <th>Grupo</th>\n",
              "      <th>Estado</th>\n",
              "      <th>Subgrupo</th>\n",
              "      <th>Fase</th>\n",
              "      <th>Período de tempo</th>\n",
              "      <th>Etiqueta do período de tempo</th>\n",
              "      <th>Data de início do período</th>\n",
              "      <th>Data de término do período</th>\n",
              "      <th>Valor</th>\n",
              "      <th>CI baixo</th>\n",
              "      <th>CI alto</th>\n",
              "      <th>Intervalo de confiança</th>\n",
              "      <th>Faixa de quartil</th>\n",
              "    </tr>\n",
              "  </thead>\n",
              "  <tbody>\n",
              "    <tr>\n",
              "      <th>19</th>\n",
              "      <td>Symptoms of Depressive Disorder</td>\n",
              "      <td>By State</td>\n",
              "      <td>Alabama</td>\n",
              "      <td>Alabama</td>\n",
              "      <td>1.0</td>\n",
              "      <td>1</td>\n",
              "      <td>Apr 23 - May 5, 2020</td>\n",
              "      <td>04/23/2020</td>\n",
              "      <td>2020-05-05 00:00:00</td>\n",
              "      <td>18.6</td>\n",
              "      <td>14.6</td>\n",
              "      <td>23.1</td>\n",
              "      <td>14.6 - 23.1</td>\n",
              "      <td>16.5 - 20.7</td>\n",
              "    </tr>\n",
              "    <tr>\n",
              "      <th>89</th>\n",
              "      <td>Symptoms of Anxiety Disorder</td>\n",
              "      <td>By State</td>\n",
              "      <td>Alabama</td>\n",
              "      <td>Alabama</td>\n",
              "      <td>1.0</td>\n",
              "      <td>1</td>\n",
              "      <td>Apr 23 - May 5, 2020</td>\n",
              "      <td>04/23/2020</td>\n",
              "      <td>2020-05-05 00:00:00</td>\n",
              "      <td>25.6</td>\n",
              "      <td>20.7</td>\n",
              "      <td>30.9</td>\n",
              "      <td>20.7 - 30.9</td>\n",
              "      <td>21.7 - 27.8</td>\n",
              "    </tr>\n",
              "    <tr>\n",
              "      <th>159</th>\n",
              "      <td>Symptoms of Anxiety Disorder or Depressive Dis...</td>\n",
              "      <td>By State</td>\n",
              "      <td>Alabama</td>\n",
              "      <td>Alabama</td>\n",
              "      <td>1.0</td>\n",
              "      <td>1</td>\n",
              "      <td>Apr 23 - May 5, 2020</td>\n",
              "      <td>04/23/2020</td>\n",
              "      <td>2020-05-05 00:00:00</td>\n",
              "      <td>30.3</td>\n",
              "      <td>24.8</td>\n",
              "      <td>36.2</td>\n",
              "      <td>24.8 - 36.2</td>\n",
              "      <td>25.6 - 33.3</td>\n",
              "    </tr>\n",
              "    <tr>\n",
              "      <th>229</th>\n",
              "      <td>Symptoms of Depressive Disorder</td>\n",
              "      <td>By State</td>\n",
              "      <td>Alabama</td>\n",
              "      <td>Alabama</td>\n",
              "      <td>1.0</td>\n",
              "      <td>2</td>\n",
              "      <td>May 7 - May 12, 2020</td>\n",
              "      <td>2020-07-05 00:00:00</td>\n",
              "      <td>2020-12-05 00:00:00</td>\n",
              "      <td>22.5</td>\n",
              "      <td>16.4</td>\n",
              "      <td>29.5</td>\n",
              "      <td>16.4 - 29.5</td>\n",
              "      <td>20.7 - 23.0</td>\n",
              "    </tr>\n",
              "    <tr>\n",
              "      <th>299</th>\n",
              "      <td>Symptoms of Anxiety Disorder</td>\n",
              "      <td>By State</td>\n",
              "      <td>Alabama</td>\n",
              "      <td>Alabama</td>\n",
              "      <td>1.0</td>\n",
              "      <td>2</td>\n",
              "      <td>May 7 - May 12, 2020</td>\n",
              "      <td>2020-07-05 00:00:00</td>\n",
              "      <td>2020-12-05 00:00:00</td>\n",
              "      <td>27.2</td>\n",
              "      <td>21.1</td>\n",
              "      <td>34.1</td>\n",
              "      <td>21.1 - 34.1</td>\n",
              "      <td>26.3 - 28.7</td>\n",
              "    </tr>\n",
              "  </tbody>\n",
              "</table>\n",
              "</div>\n",
              "    <div class=\"colab-df-buttons\">\n",
              "\n",
              "  <div class=\"colab-df-container\">\n",
              "    <button class=\"colab-df-convert\" onclick=\"convertToInteractive('df-e709827d-7812-4417-8865-932b3d8fc26f')\"\n",
              "            title=\"Convert this dataframe to an interactive table.\"\n",
              "            style=\"display:none;\">\n",
              "\n",
              "  <svg xmlns=\"http://www.w3.org/2000/svg\" height=\"24px\" viewBox=\"0 -960 960 960\">\n",
              "    <path d=\"M120-120v-720h720v720H120Zm60-500h600v-160H180v160Zm220 220h160v-160H400v160Zm0 220h160v-160H400v160ZM180-400h160v-160H180v160Zm440 0h160v-160H620v160ZM180-180h160v-160H180v160Zm440 0h160v-160H620v160Z\"/>\n",
              "  </svg>\n",
              "    </button>\n",
              "\n",
              "  <style>\n",
              "    .colab-df-container {\n",
              "      display:flex;\n",
              "      gap: 12px;\n",
              "    }\n",
              "\n",
              "    .colab-df-convert {\n",
              "      background-color: #E8F0FE;\n",
              "      border: none;\n",
              "      border-radius: 50%;\n",
              "      cursor: pointer;\n",
              "      display: none;\n",
              "      fill: #1967D2;\n",
              "      height: 32px;\n",
              "      padding: 0 0 0 0;\n",
              "      width: 32px;\n",
              "    }\n",
              "\n",
              "    .colab-df-convert:hover {\n",
              "      background-color: #E2EBFA;\n",
              "      box-shadow: 0px 1px 2px rgba(60, 64, 67, 0.3), 0px 1px 3px 1px rgba(60, 64, 67, 0.15);\n",
              "      fill: #174EA6;\n",
              "    }\n",
              "\n",
              "    .colab-df-buttons div {\n",
              "      margin-bottom: 4px;\n",
              "    }\n",
              "\n",
              "    [theme=dark] .colab-df-convert {\n",
              "      background-color: #3B4455;\n",
              "      fill: #D2E3FC;\n",
              "    }\n",
              "\n",
              "    [theme=dark] .colab-df-convert:hover {\n",
              "      background-color: #434B5C;\n",
              "      box-shadow: 0px 1px 3px 1px rgba(0, 0, 0, 0.15);\n",
              "      filter: drop-shadow(0px 1px 2px rgba(0, 0, 0, 0.3));\n",
              "      fill: #FFFFFF;\n",
              "    }\n",
              "  </style>\n",
              "\n",
              "    <script>\n",
              "      const buttonEl =\n",
              "        document.querySelector('#df-e709827d-7812-4417-8865-932b3d8fc26f button.colab-df-convert');\n",
              "      buttonEl.style.display =\n",
              "        google.colab.kernel.accessAllowed ? 'block' : 'none';\n",
              "\n",
              "      async function convertToInteractive(key) {\n",
              "        const element = document.querySelector('#df-e709827d-7812-4417-8865-932b3d8fc26f');\n",
              "        const dataTable =\n",
              "          await google.colab.kernel.invokeFunction('convertToInteractive',\n",
              "                                                    [key], {});\n",
              "        if (!dataTable) return;\n",
              "\n",
              "        const docLinkHtml = 'Like what you see? Visit the ' +\n",
              "          '<a target=\"_blank\" href=https://colab.research.google.com/notebooks/data_table.ipynb>data table notebook</a>'\n",
              "          + ' to learn more about interactive tables.';\n",
              "        element.innerHTML = '';\n",
              "        dataTable['output_type'] = 'display_data';\n",
              "        await google.colab.output.renderOutput(dataTable, element);\n",
              "        const docLink = document.createElement('div');\n",
              "        docLink.innerHTML = docLinkHtml;\n",
              "        element.appendChild(docLink);\n",
              "      }\n",
              "    </script>\n",
              "  </div>\n",
              "\n",
              "\n",
              "<div id=\"df-74083a9d-d425-4eda-9fa2-7399a2c7b2a9\">\n",
              "  <button class=\"colab-df-quickchart\" onclick=\"quickchart('df-74083a9d-d425-4eda-9fa2-7399a2c7b2a9')\"\n",
              "            title=\"Suggest charts\"\n",
              "            style=\"display:none;\">\n",
              "\n",
              "<svg xmlns=\"http://www.w3.org/2000/svg\" height=\"24px\"viewBox=\"0 0 24 24\"\n",
              "     width=\"24px\">\n",
              "    <g>\n",
              "        <path d=\"M19 3H5c-1.1 0-2 .9-2 2v14c0 1.1.9 2 2 2h14c1.1 0 2-.9 2-2V5c0-1.1-.9-2-2-2zM9 17H7v-7h2v7zm4 0h-2V7h2v10zm4 0h-2v-4h2v4z\"/>\n",
              "    </g>\n",
              "</svg>\n",
              "  </button>\n",
              "\n",
              "<style>\n",
              "  .colab-df-quickchart {\n",
              "      --bg-color: #E8F0FE;\n",
              "      --fill-color: #1967D2;\n",
              "      --hover-bg-color: #E2EBFA;\n",
              "      --hover-fill-color: #174EA6;\n",
              "      --disabled-fill-color: #AAA;\n",
              "      --disabled-bg-color: #DDD;\n",
              "  }\n",
              "\n",
              "  [theme=dark] .colab-df-quickchart {\n",
              "      --bg-color: #3B4455;\n",
              "      --fill-color: #D2E3FC;\n",
              "      --hover-bg-color: #434B5C;\n",
              "      --hover-fill-color: #FFFFFF;\n",
              "      --disabled-bg-color: #3B4455;\n",
              "      --disabled-fill-color: #666;\n",
              "  }\n",
              "\n",
              "  .colab-df-quickchart {\n",
              "    background-color: var(--bg-color);\n",
              "    border: none;\n",
              "    border-radius: 50%;\n",
              "    cursor: pointer;\n",
              "    display: none;\n",
              "    fill: var(--fill-color);\n",
              "    height: 32px;\n",
              "    padding: 0;\n",
              "    width: 32px;\n",
              "  }\n",
              "\n",
              "  .colab-df-quickchart:hover {\n",
              "    background-color: var(--hover-bg-color);\n",
              "    box-shadow: 0 1px 2px rgba(60, 64, 67, 0.3), 0 1px 3px 1px rgba(60, 64, 67, 0.15);\n",
              "    fill: var(--button-hover-fill-color);\n",
              "  }\n",
              "\n",
              "  .colab-df-quickchart-complete:disabled,\n",
              "  .colab-df-quickchart-complete:disabled:hover {\n",
              "    background-color: var(--disabled-bg-color);\n",
              "    fill: var(--disabled-fill-color);\n",
              "    box-shadow: none;\n",
              "  }\n",
              "\n",
              "  .colab-df-spinner {\n",
              "    border: 2px solid var(--fill-color);\n",
              "    border-color: transparent;\n",
              "    border-bottom-color: var(--fill-color);\n",
              "    animation:\n",
              "      spin 1s steps(1) infinite;\n",
              "  }\n",
              "\n",
              "  @keyframes spin {\n",
              "    0% {\n",
              "      border-color: transparent;\n",
              "      border-bottom-color: var(--fill-color);\n",
              "      border-left-color: var(--fill-color);\n",
              "    }\n",
              "    20% {\n",
              "      border-color: transparent;\n",
              "      border-left-color: var(--fill-color);\n",
              "      border-top-color: var(--fill-color);\n",
              "    }\n",
              "    30% {\n",
              "      border-color: transparent;\n",
              "      border-left-color: var(--fill-color);\n",
              "      border-top-color: var(--fill-color);\n",
              "      border-right-color: var(--fill-color);\n",
              "    }\n",
              "    40% {\n",
              "      border-color: transparent;\n",
              "      border-right-color: var(--fill-color);\n",
              "      border-top-color: var(--fill-color);\n",
              "    }\n",
              "    60% {\n",
              "      border-color: transparent;\n",
              "      border-right-color: var(--fill-color);\n",
              "    }\n",
              "    80% {\n",
              "      border-color: transparent;\n",
              "      border-right-color: var(--fill-color);\n",
              "      border-bottom-color: var(--fill-color);\n",
              "    }\n",
              "    90% {\n",
              "      border-color: transparent;\n",
              "      border-bottom-color: var(--fill-color);\n",
              "    }\n",
              "  }\n",
              "</style>\n",
              "\n",
              "  <script>\n",
              "    async function quickchart(key) {\n",
              "      const quickchartButtonEl =\n",
              "        document.querySelector('#' + key + ' button');\n",
              "      quickchartButtonEl.disabled = true;  // To prevent multiple clicks.\n",
              "      quickchartButtonEl.classList.add('colab-df-spinner');\n",
              "      try {\n",
              "        const charts = await google.colab.kernel.invokeFunction(\n",
              "            'suggestCharts', [key], {});\n",
              "      } catch (error) {\n",
              "        console.error('Error during call to suggestCharts:', error);\n",
              "      }\n",
              "      quickchartButtonEl.classList.remove('colab-df-spinner');\n",
              "      quickchartButtonEl.classList.add('colab-df-quickchart-complete');\n",
              "    }\n",
              "    (() => {\n",
              "      let quickchartButtonEl =\n",
              "        document.querySelector('#df-74083a9d-d425-4eda-9fa2-7399a2c7b2a9 button');\n",
              "      quickchartButtonEl.style.display =\n",
              "        google.colab.kernel.accessAllowed ? 'block' : 'none';\n",
              "    })();\n",
              "  </script>\n",
              "</div>\n",
              "    </div>\n",
              "  </div>\n"
            ]
          },
          "metadata": {},
          "execution_count": 21
        }
      ]
    },
    {
      "cell_type": "code",
      "source": [
        "dados_cali = dados[dados['Estado']=='California'] #Criando dataframe com informações da California"
      ],
      "metadata": {
        "id": "N2vk-HHlc7om"
      },
      "execution_count": 22,
      "outputs": []
    },
    {
      "cell_type": "code",
      "source": [
        "dados_cali.head()"
      ],
      "metadata": {
        "colab": {
          "base_uri": "https://localhost:8080/",
          "height": 449
        },
        "id": "8hPZp2LJc_6F",
        "outputId": "8f4b9178-dafe-4adf-a5f8-69870d4d8fd2"
      },
      "execution_count": 23,
      "outputs": [
        {
          "output_type": "execute_result",
          "data": {
            "text/plain": [
              "                                          Diagnósticos     Grupo      Estado  \\\n",
              "23                     Symptoms of Depressive Disorder  By State  California   \n",
              "93                        Symptoms of Anxiety Disorder  By State  California   \n",
              "163  Symptoms of Anxiety Disorder or Depressive Dis...  By State  California   \n",
              "233                    Symptoms of Depressive Disorder  By State  California   \n",
              "303                       Symptoms of Anxiety Disorder  By State  California   \n",
              "\n",
              "       Subgrupo  Fase  Período de tempo Etiqueta do período de tempo  \\\n",
              "23   California   1.0                 1         Apr 23 - May 5, 2020   \n",
              "93   California   1.0                 1         Apr 23 - May 5, 2020   \n",
              "163  California   1.0                 1         Apr 23 - May 5, 2020   \n",
              "233  California   1.0                 2         May 7 - May 12, 2020   \n",
              "303  California   1.0                 2         May 7 - May 12, 2020   \n",
              "\n",
              "    Data de início do período Data de término do período  Valor  CI baixo  \\\n",
              "23                 04/23/2020        2020-05-05 00:00:00   25.4      22.5   \n",
              "93                 04/23/2020        2020-05-05 00:00:00   30.8      28.2   \n",
              "163                04/23/2020        2020-05-05 00:00:00   37.4      34.2   \n",
              "233       2020-07-05 00:00:00        2020-12-05 00:00:00   22.8      19.2   \n",
              "303       2020-07-05 00:00:00        2020-12-05 00:00:00   31.4      27.4   \n",
              "\n",
              "     CI alto Intervalo de confiança Faixa de quartil  \n",
              "23      28.6            22.5 - 28.6      24.1 - 28.7  \n",
              "93      33.5            28.2 - 33.5      30.4 - 31.6  \n",
              "163     40.6            34.2 - 40.6      36.8 - 41.4  \n",
              "233     26.8            19.2 - 26.8      20.7 - 23.0  \n",
              "303     35.6            27.4 - 35.6      28.8 - 31.5  "
            ],
            "text/html": [
              "\n",
              "  <div id=\"df-2d24c894-bc11-453d-a83b-080866d85b93\" class=\"colab-df-container\">\n",
              "    <div>\n",
              "<style scoped>\n",
              "    .dataframe tbody tr th:only-of-type {\n",
              "        vertical-align: middle;\n",
              "    }\n",
              "\n",
              "    .dataframe tbody tr th {\n",
              "        vertical-align: top;\n",
              "    }\n",
              "\n",
              "    .dataframe thead th {\n",
              "        text-align: right;\n",
              "    }\n",
              "</style>\n",
              "<table border=\"1\" class=\"dataframe\">\n",
              "  <thead>\n",
              "    <tr style=\"text-align: right;\">\n",
              "      <th></th>\n",
              "      <th>Diagnósticos</th>\n",
              "      <th>Grupo</th>\n",
              "      <th>Estado</th>\n",
              "      <th>Subgrupo</th>\n",
              "      <th>Fase</th>\n",
              "      <th>Período de tempo</th>\n",
              "      <th>Etiqueta do período de tempo</th>\n",
              "      <th>Data de início do período</th>\n",
              "      <th>Data de término do período</th>\n",
              "      <th>Valor</th>\n",
              "      <th>CI baixo</th>\n",
              "      <th>CI alto</th>\n",
              "      <th>Intervalo de confiança</th>\n",
              "      <th>Faixa de quartil</th>\n",
              "    </tr>\n",
              "  </thead>\n",
              "  <tbody>\n",
              "    <tr>\n",
              "      <th>23</th>\n",
              "      <td>Symptoms of Depressive Disorder</td>\n",
              "      <td>By State</td>\n",
              "      <td>California</td>\n",
              "      <td>California</td>\n",
              "      <td>1.0</td>\n",
              "      <td>1</td>\n",
              "      <td>Apr 23 - May 5, 2020</td>\n",
              "      <td>04/23/2020</td>\n",
              "      <td>2020-05-05 00:00:00</td>\n",
              "      <td>25.4</td>\n",
              "      <td>22.5</td>\n",
              "      <td>28.6</td>\n",
              "      <td>22.5 - 28.6</td>\n",
              "      <td>24.1 - 28.7</td>\n",
              "    </tr>\n",
              "    <tr>\n",
              "      <th>93</th>\n",
              "      <td>Symptoms of Anxiety Disorder</td>\n",
              "      <td>By State</td>\n",
              "      <td>California</td>\n",
              "      <td>California</td>\n",
              "      <td>1.0</td>\n",
              "      <td>1</td>\n",
              "      <td>Apr 23 - May 5, 2020</td>\n",
              "      <td>04/23/2020</td>\n",
              "      <td>2020-05-05 00:00:00</td>\n",
              "      <td>30.8</td>\n",
              "      <td>28.2</td>\n",
              "      <td>33.5</td>\n",
              "      <td>28.2 - 33.5</td>\n",
              "      <td>30.4 - 31.6</td>\n",
              "    </tr>\n",
              "    <tr>\n",
              "      <th>163</th>\n",
              "      <td>Symptoms of Anxiety Disorder or Depressive Dis...</td>\n",
              "      <td>By State</td>\n",
              "      <td>California</td>\n",
              "      <td>California</td>\n",
              "      <td>1.0</td>\n",
              "      <td>1</td>\n",
              "      <td>Apr 23 - May 5, 2020</td>\n",
              "      <td>04/23/2020</td>\n",
              "      <td>2020-05-05 00:00:00</td>\n",
              "      <td>37.4</td>\n",
              "      <td>34.2</td>\n",
              "      <td>40.6</td>\n",
              "      <td>34.2 - 40.6</td>\n",
              "      <td>36.8 - 41.4</td>\n",
              "    </tr>\n",
              "    <tr>\n",
              "      <th>233</th>\n",
              "      <td>Symptoms of Depressive Disorder</td>\n",
              "      <td>By State</td>\n",
              "      <td>California</td>\n",
              "      <td>California</td>\n",
              "      <td>1.0</td>\n",
              "      <td>2</td>\n",
              "      <td>May 7 - May 12, 2020</td>\n",
              "      <td>2020-07-05 00:00:00</td>\n",
              "      <td>2020-12-05 00:00:00</td>\n",
              "      <td>22.8</td>\n",
              "      <td>19.2</td>\n",
              "      <td>26.8</td>\n",
              "      <td>19.2 - 26.8</td>\n",
              "      <td>20.7 - 23.0</td>\n",
              "    </tr>\n",
              "    <tr>\n",
              "      <th>303</th>\n",
              "      <td>Symptoms of Anxiety Disorder</td>\n",
              "      <td>By State</td>\n",
              "      <td>California</td>\n",
              "      <td>California</td>\n",
              "      <td>1.0</td>\n",
              "      <td>2</td>\n",
              "      <td>May 7 - May 12, 2020</td>\n",
              "      <td>2020-07-05 00:00:00</td>\n",
              "      <td>2020-12-05 00:00:00</td>\n",
              "      <td>31.4</td>\n",
              "      <td>27.4</td>\n",
              "      <td>35.6</td>\n",
              "      <td>27.4 - 35.6</td>\n",
              "      <td>28.8 - 31.5</td>\n",
              "    </tr>\n",
              "  </tbody>\n",
              "</table>\n",
              "</div>\n",
              "    <div class=\"colab-df-buttons\">\n",
              "\n",
              "  <div class=\"colab-df-container\">\n",
              "    <button class=\"colab-df-convert\" onclick=\"convertToInteractive('df-2d24c894-bc11-453d-a83b-080866d85b93')\"\n",
              "            title=\"Convert this dataframe to an interactive table.\"\n",
              "            style=\"display:none;\">\n",
              "\n",
              "  <svg xmlns=\"http://www.w3.org/2000/svg\" height=\"24px\" viewBox=\"0 -960 960 960\">\n",
              "    <path d=\"M120-120v-720h720v720H120Zm60-500h600v-160H180v160Zm220 220h160v-160H400v160Zm0 220h160v-160H400v160ZM180-400h160v-160H180v160Zm440 0h160v-160H620v160ZM180-180h160v-160H180v160Zm440 0h160v-160H620v160Z\"/>\n",
              "  </svg>\n",
              "    </button>\n",
              "\n",
              "  <style>\n",
              "    .colab-df-container {\n",
              "      display:flex;\n",
              "      gap: 12px;\n",
              "    }\n",
              "\n",
              "    .colab-df-convert {\n",
              "      background-color: #E8F0FE;\n",
              "      border: none;\n",
              "      border-radius: 50%;\n",
              "      cursor: pointer;\n",
              "      display: none;\n",
              "      fill: #1967D2;\n",
              "      height: 32px;\n",
              "      padding: 0 0 0 0;\n",
              "      width: 32px;\n",
              "    }\n",
              "\n",
              "    .colab-df-convert:hover {\n",
              "      background-color: #E2EBFA;\n",
              "      box-shadow: 0px 1px 2px rgba(60, 64, 67, 0.3), 0px 1px 3px 1px rgba(60, 64, 67, 0.15);\n",
              "      fill: #174EA6;\n",
              "    }\n",
              "\n",
              "    .colab-df-buttons div {\n",
              "      margin-bottom: 4px;\n",
              "    }\n",
              "\n",
              "    [theme=dark] .colab-df-convert {\n",
              "      background-color: #3B4455;\n",
              "      fill: #D2E3FC;\n",
              "    }\n",
              "\n",
              "    [theme=dark] .colab-df-convert:hover {\n",
              "      background-color: #434B5C;\n",
              "      box-shadow: 0px 1px 3px 1px rgba(0, 0, 0, 0.15);\n",
              "      filter: drop-shadow(0px 1px 2px rgba(0, 0, 0, 0.3));\n",
              "      fill: #FFFFFF;\n",
              "    }\n",
              "  </style>\n",
              "\n",
              "    <script>\n",
              "      const buttonEl =\n",
              "        document.querySelector('#df-2d24c894-bc11-453d-a83b-080866d85b93 button.colab-df-convert');\n",
              "      buttonEl.style.display =\n",
              "        google.colab.kernel.accessAllowed ? 'block' : 'none';\n",
              "\n",
              "      async function convertToInteractive(key) {\n",
              "        const element = document.querySelector('#df-2d24c894-bc11-453d-a83b-080866d85b93');\n",
              "        const dataTable =\n",
              "          await google.colab.kernel.invokeFunction('convertToInteractive',\n",
              "                                                    [key], {});\n",
              "        if (!dataTable) return;\n",
              "\n",
              "        const docLinkHtml = 'Like what you see? Visit the ' +\n",
              "          '<a target=\"_blank\" href=https://colab.research.google.com/notebooks/data_table.ipynb>data table notebook</a>'\n",
              "          + ' to learn more about interactive tables.';\n",
              "        element.innerHTML = '';\n",
              "        dataTable['output_type'] = 'display_data';\n",
              "        await google.colab.output.renderOutput(dataTable, element);\n",
              "        const docLink = document.createElement('div');\n",
              "        docLink.innerHTML = docLinkHtml;\n",
              "        element.appendChild(docLink);\n",
              "      }\n",
              "    </script>\n",
              "  </div>\n",
              "\n",
              "\n",
              "<div id=\"df-7496c575-89c4-4f22-8e0d-cb2c43c8002b\">\n",
              "  <button class=\"colab-df-quickchart\" onclick=\"quickchart('df-7496c575-89c4-4f22-8e0d-cb2c43c8002b')\"\n",
              "            title=\"Suggest charts\"\n",
              "            style=\"display:none;\">\n",
              "\n",
              "<svg xmlns=\"http://www.w3.org/2000/svg\" height=\"24px\"viewBox=\"0 0 24 24\"\n",
              "     width=\"24px\">\n",
              "    <g>\n",
              "        <path d=\"M19 3H5c-1.1 0-2 .9-2 2v14c0 1.1.9 2 2 2h14c1.1 0 2-.9 2-2V5c0-1.1-.9-2-2-2zM9 17H7v-7h2v7zm4 0h-2V7h2v10zm4 0h-2v-4h2v4z\"/>\n",
              "    </g>\n",
              "</svg>\n",
              "  </button>\n",
              "\n",
              "<style>\n",
              "  .colab-df-quickchart {\n",
              "      --bg-color: #E8F0FE;\n",
              "      --fill-color: #1967D2;\n",
              "      --hover-bg-color: #E2EBFA;\n",
              "      --hover-fill-color: #174EA6;\n",
              "      --disabled-fill-color: #AAA;\n",
              "      --disabled-bg-color: #DDD;\n",
              "  }\n",
              "\n",
              "  [theme=dark] .colab-df-quickchart {\n",
              "      --bg-color: #3B4455;\n",
              "      --fill-color: #D2E3FC;\n",
              "      --hover-bg-color: #434B5C;\n",
              "      --hover-fill-color: #FFFFFF;\n",
              "      --disabled-bg-color: #3B4455;\n",
              "      --disabled-fill-color: #666;\n",
              "  }\n",
              "\n",
              "  .colab-df-quickchart {\n",
              "    background-color: var(--bg-color);\n",
              "    border: none;\n",
              "    border-radius: 50%;\n",
              "    cursor: pointer;\n",
              "    display: none;\n",
              "    fill: var(--fill-color);\n",
              "    height: 32px;\n",
              "    padding: 0;\n",
              "    width: 32px;\n",
              "  }\n",
              "\n",
              "  .colab-df-quickchart:hover {\n",
              "    background-color: var(--hover-bg-color);\n",
              "    box-shadow: 0 1px 2px rgba(60, 64, 67, 0.3), 0 1px 3px 1px rgba(60, 64, 67, 0.15);\n",
              "    fill: var(--button-hover-fill-color);\n",
              "  }\n",
              "\n",
              "  .colab-df-quickchart-complete:disabled,\n",
              "  .colab-df-quickchart-complete:disabled:hover {\n",
              "    background-color: var(--disabled-bg-color);\n",
              "    fill: var(--disabled-fill-color);\n",
              "    box-shadow: none;\n",
              "  }\n",
              "\n",
              "  .colab-df-spinner {\n",
              "    border: 2px solid var(--fill-color);\n",
              "    border-color: transparent;\n",
              "    border-bottom-color: var(--fill-color);\n",
              "    animation:\n",
              "      spin 1s steps(1) infinite;\n",
              "  }\n",
              "\n",
              "  @keyframes spin {\n",
              "    0% {\n",
              "      border-color: transparent;\n",
              "      border-bottom-color: var(--fill-color);\n",
              "      border-left-color: var(--fill-color);\n",
              "    }\n",
              "    20% {\n",
              "      border-color: transparent;\n",
              "      border-left-color: var(--fill-color);\n",
              "      border-top-color: var(--fill-color);\n",
              "    }\n",
              "    30% {\n",
              "      border-color: transparent;\n",
              "      border-left-color: var(--fill-color);\n",
              "      border-top-color: var(--fill-color);\n",
              "      border-right-color: var(--fill-color);\n",
              "    }\n",
              "    40% {\n",
              "      border-color: transparent;\n",
              "      border-right-color: var(--fill-color);\n",
              "      border-top-color: var(--fill-color);\n",
              "    }\n",
              "    60% {\n",
              "      border-color: transparent;\n",
              "      border-right-color: var(--fill-color);\n",
              "    }\n",
              "    80% {\n",
              "      border-color: transparent;\n",
              "      border-right-color: var(--fill-color);\n",
              "      border-bottom-color: var(--fill-color);\n",
              "    }\n",
              "    90% {\n",
              "      border-color: transparent;\n",
              "      border-bottom-color: var(--fill-color);\n",
              "    }\n",
              "  }\n",
              "</style>\n",
              "\n",
              "  <script>\n",
              "    async function quickchart(key) {\n",
              "      const quickchartButtonEl =\n",
              "        document.querySelector('#' + key + ' button');\n",
              "      quickchartButtonEl.disabled = true;  // To prevent multiple clicks.\n",
              "      quickchartButtonEl.classList.add('colab-df-spinner');\n",
              "      try {\n",
              "        const charts = await google.colab.kernel.invokeFunction(\n",
              "            'suggestCharts', [key], {});\n",
              "      } catch (error) {\n",
              "        console.error('Error during call to suggestCharts:', error);\n",
              "      }\n",
              "      quickchartButtonEl.classList.remove('colab-df-spinner');\n",
              "      quickchartButtonEl.classList.add('colab-df-quickchart-complete');\n",
              "    }\n",
              "    (() => {\n",
              "      let quickchartButtonEl =\n",
              "        document.querySelector('#df-7496c575-89c4-4f22-8e0d-cb2c43c8002b button');\n",
              "      quickchartButtonEl.style.display =\n",
              "        google.colab.kernel.accessAllowed ? 'block' : 'none';\n",
              "    })();\n",
              "  </script>\n",
              "</div>\n",
              "    </div>\n",
              "  </div>\n"
            ]
          },
          "metadata": {},
          "execution_count": 23
        }
      ]
    },
    {
      "cell_type": "code",
      "source": [
        "dados_alk = dados[dados['Estado']=='Alaska'] #Criando dataframe com informações do Alaska"
      ],
      "metadata": {
        "id": "8J0JguDlc-h9"
      },
      "execution_count": 24,
      "outputs": []
    },
    {
      "cell_type": "code",
      "source": [
        "dados_alk.head()"
      ],
      "metadata": {
        "colab": {
          "base_uri": "https://localhost:8080/",
          "height": 449
        },
        "id": "BxGabmMjdAiY",
        "outputId": "1a743035-85bf-43c6-fa23-59af0b58bf21"
      },
      "execution_count": 25,
      "outputs": [
        {
          "output_type": "execute_result",
          "data": {
            "text/plain": [
              "                                          Diagnósticos     Grupo  Estado  \\\n",
              "20                     Symptoms of Depressive Disorder  By State  Alaska   \n",
              "90                        Symptoms of Anxiety Disorder  By State  Alaska   \n",
              "160  Symptoms of Anxiety Disorder or Depressive Dis...  By State  Alaska   \n",
              "230                    Symptoms of Depressive Disorder  By State  Alaska   \n",
              "300                       Symptoms of Anxiety Disorder  By State  Alaska   \n",
              "\n",
              "    Subgrupo  Fase  Período de tempo Etiqueta do período de tempo  \\\n",
              "20    Alaska   1.0                 1         Apr 23 - May 5, 2020   \n",
              "90    Alaska   1.0                 1         Apr 23 - May 5, 2020   \n",
              "160   Alaska   1.0                 1         Apr 23 - May 5, 2020   \n",
              "230   Alaska   1.0                 2         May 7 - May 12, 2020   \n",
              "300   Alaska   1.0                 2         May 7 - May 12, 2020   \n",
              "\n",
              "    Data de início do período Data de término do período  Valor  CI baixo  \\\n",
              "20                 04/23/2020        2020-05-05 00:00:00   19.2      16.8   \n",
              "90                 04/23/2020        2020-05-05 00:00:00   27.7      24.8   \n",
              "160                04/23/2020        2020-05-05 00:00:00   31.5      28.8   \n",
              "230       2020-07-05 00:00:00        2020-12-05 00:00:00   25.1      20.3   \n",
              "300       2020-07-05 00:00:00        2020-12-05 00:00:00   27.4      22.8   \n",
              "\n",
              "     CI alto Intervalo de confiança Faixa de quartil  \n",
              "20      21.8            16.8 - 21.8      16.5 - 20.7  \n",
              "90      30.7            24.8 - 30.7      21.7 - 27.8  \n",
              "160     34.4            28.8 - 34.4      25.6 - 33.3  \n",
              "230     30.4            20.3 - 30.4      23.1 - 25.6  \n",
              "300     32.4            22.8 - 32.4      26.3 - 28.7  "
            ],
            "text/html": [
              "\n",
              "  <div id=\"df-c4f5c13d-9e8f-4869-8be9-608a7093a59f\" class=\"colab-df-container\">\n",
              "    <div>\n",
              "<style scoped>\n",
              "    .dataframe tbody tr th:only-of-type {\n",
              "        vertical-align: middle;\n",
              "    }\n",
              "\n",
              "    .dataframe tbody tr th {\n",
              "        vertical-align: top;\n",
              "    }\n",
              "\n",
              "    .dataframe thead th {\n",
              "        text-align: right;\n",
              "    }\n",
              "</style>\n",
              "<table border=\"1\" class=\"dataframe\">\n",
              "  <thead>\n",
              "    <tr style=\"text-align: right;\">\n",
              "      <th></th>\n",
              "      <th>Diagnósticos</th>\n",
              "      <th>Grupo</th>\n",
              "      <th>Estado</th>\n",
              "      <th>Subgrupo</th>\n",
              "      <th>Fase</th>\n",
              "      <th>Período de tempo</th>\n",
              "      <th>Etiqueta do período de tempo</th>\n",
              "      <th>Data de início do período</th>\n",
              "      <th>Data de término do período</th>\n",
              "      <th>Valor</th>\n",
              "      <th>CI baixo</th>\n",
              "      <th>CI alto</th>\n",
              "      <th>Intervalo de confiança</th>\n",
              "      <th>Faixa de quartil</th>\n",
              "    </tr>\n",
              "  </thead>\n",
              "  <tbody>\n",
              "    <tr>\n",
              "      <th>20</th>\n",
              "      <td>Symptoms of Depressive Disorder</td>\n",
              "      <td>By State</td>\n",
              "      <td>Alaska</td>\n",
              "      <td>Alaska</td>\n",
              "      <td>1.0</td>\n",
              "      <td>1</td>\n",
              "      <td>Apr 23 - May 5, 2020</td>\n",
              "      <td>04/23/2020</td>\n",
              "      <td>2020-05-05 00:00:00</td>\n",
              "      <td>19.2</td>\n",
              "      <td>16.8</td>\n",
              "      <td>21.8</td>\n",
              "      <td>16.8 - 21.8</td>\n",
              "      <td>16.5 - 20.7</td>\n",
              "    </tr>\n",
              "    <tr>\n",
              "      <th>90</th>\n",
              "      <td>Symptoms of Anxiety Disorder</td>\n",
              "      <td>By State</td>\n",
              "      <td>Alaska</td>\n",
              "      <td>Alaska</td>\n",
              "      <td>1.0</td>\n",
              "      <td>1</td>\n",
              "      <td>Apr 23 - May 5, 2020</td>\n",
              "      <td>04/23/2020</td>\n",
              "      <td>2020-05-05 00:00:00</td>\n",
              "      <td>27.7</td>\n",
              "      <td>24.8</td>\n",
              "      <td>30.7</td>\n",
              "      <td>24.8 - 30.7</td>\n",
              "      <td>21.7 - 27.8</td>\n",
              "    </tr>\n",
              "    <tr>\n",
              "      <th>160</th>\n",
              "      <td>Symptoms of Anxiety Disorder or Depressive Dis...</td>\n",
              "      <td>By State</td>\n",
              "      <td>Alaska</td>\n",
              "      <td>Alaska</td>\n",
              "      <td>1.0</td>\n",
              "      <td>1</td>\n",
              "      <td>Apr 23 - May 5, 2020</td>\n",
              "      <td>04/23/2020</td>\n",
              "      <td>2020-05-05 00:00:00</td>\n",
              "      <td>31.5</td>\n",
              "      <td>28.8</td>\n",
              "      <td>34.4</td>\n",
              "      <td>28.8 - 34.4</td>\n",
              "      <td>25.6 - 33.3</td>\n",
              "    </tr>\n",
              "    <tr>\n",
              "      <th>230</th>\n",
              "      <td>Symptoms of Depressive Disorder</td>\n",
              "      <td>By State</td>\n",
              "      <td>Alaska</td>\n",
              "      <td>Alaska</td>\n",
              "      <td>1.0</td>\n",
              "      <td>2</td>\n",
              "      <td>May 7 - May 12, 2020</td>\n",
              "      <td>2020-07-05 00:00:00</td>\n",
              "      <td>2020-12-05 00:00:00</td>\n",
              "      <td>25.1</td>\n",
              "      <td>20.3</td>\n",
              "      <td>30.4</td>\n",
              "      <td>20.3 - 30.4</td>\n",
              "      <td>23.1 - 25.6</td>\n",
              "    </tr>\n",
              "    <tr>\n",
              "      <th>300</th>\n",
              "      <td>Symptoms of Anxiety Disorder</td>\n",
              "      <td>By State</td>\n",
              "      <td>Alaska</td>\n",
              "      <td>Alaska</td>\n",
              "      <td>1.0</td>\n",
              "      <td>2</td>\n",
              "      <td>May 7 - May 12, 2020</td>\n",
              "      <td>2020-07-05 00:00:00</td>\n",
              "      <td>2020-12-05 00:00:00</td>\n",
              "      <td>27.4</td>\n",
              "      <td>22.8</td>\n",
              "      <td>32.4</td>\n",
              "      <td>22.8 - 32.4</td>\n",
              "      <td>26.3 - 28.7</td>\n",
              "    </tr>\n",
              "  </tbody>\n",
              "</table>\n",
              "</div>\n",
              "    <div class=\"colab-df-buttons\">\n",
              "\n",
              "  <div class=\"colab-df-container\">\n",
              "    <button class=\"colab-df-convert\" onclick=\"convertToInteractive('df-c4f5c13d-9e8f-4869-8be9-608a7093a59f')\"\n",
              "            title=\"Convert this dataframe to an interactive table.\"\n",
              "            style=\"display:none;\">\n",
              "\n",
              "  <svg xmlns=\"http://www.w3.org/2000/svg\" height=\"24px\" viewBox=\"0 -960 960 960\">\n",
              "    <path d=\"M120-120v-720h720v720H120Zm60-500h600v-160H180v160Zm220 220h160v-160H400v160Zm0 220h160v-160H400v160ZM180-400h160v-160H180v160Zm440 0h160v-160H620v160ZM180-180h160v-160H180v160Zm440 0h160v-160H620v160Z\"/>\n",
              "  </svg>\n",
              "    </button>\n",
              "\n",
              "  <style>\n",
              "    .colab-df-container {\n",
              "      display:flex;\n",
              "      gap: 12px;\n",
              "    }\n",
              "\n",
              "    .colab-df-convert {\n",
              "      background-color: #E8F0FE;\n",
              "      border: none;\n",
              "      border-radius: 50%;\n",
              "      cursor: pointer;\n",
              "      display: none;\n",
              "      fill: #1967D2;\n",
              "      height: 32px;\n",
              "      padding: 0 0 0 0;\n",
              "      width: 32px;\n",
              "    }\n",
              "\n",
              "    .colab-df-convert:hover {\n",
              "      background-color: #E2EBFA;\n",
              "      box-shadow: 0px 1px 2px rgba(60, 64, 67, 0.3), 0px 1px 3px 1px rgba(60, 64, 67, 0.15);\n",
              "      fill: #174EA6;\n",
              "    }\n",
              "\n",
              "    .colab-df-buttons div {\n",
              "      margin-bottom: 4px;\n",
              "    }\n",
              "\n",
              "    [theme=dark] .colab-df-convert {\n",
              "      background-color: #3B4455;\n",
              "      fill: #D2E3FC;\n",
              "    }\n",
              "\n",
              "    [theme=dark] .colab-df-convert:hover {\n",
              "      background-color: #434B5C;\n",
              "      box-shadow: 0px 1px 3px 1px rgba(0, 0, 0, 0.15);\n",
              "      filter: drop-shadow(0px 1px 2px rgba(0, 0, 0, 0.3));\n",
              "      fill: #FFFFFF;\n",
              "    }\n",
              "  </style>\n",
              "\n",
              "    <script>\n",
              "      const buttonEl =\n",
              "        document.querySelector('#df-c4f5c13d-9e8f-4869-8be9-608a7093a59f button.colab-df-convert');\n",
              "      buttonEl.style.display =\n",
              "        google.colab.kernel.accessAllowed ? 'block' : 'none';\n",
              "\n",
              "      async function convertToInteractive(key) {\n",
              "        const element = document.querySelector('#df-c4f5c13d-9e8f-4869-8be9-608a7093a59f');\n",
              "        const dataTable =\n",
              "          await google.colab.kernel.invokeFunction('convertToInteractive',\n",
              "                                                    [key], {});\n",
              "        if (!dataTable) return;\n",
              "\n",
              "        const docLinkHtml = 'Like what you see? Visit the ' +\n",
              "          '<a target=\"_blank\" href=https://colab.research.google.com/notebooks/data_table.ipynb>data table notebook</a>'\n",
              "          + ' to learn more about interactive tables.';\n",
              "        element.innerHTML = '';\n",
              "        dataTable['output_type'] = 'display_data';\n",
              "        await google.colab.output.renderOutput(dataTable, element);\n",
              "        const docLink = document.createElement('div');\n",
              "        docLink.innerHTML = docLinkHtml;\n",
              "        element.appendChild(docLink);\n",
              "      }\n",
              "    </script>\n",
              "  </div>\n",
              "\n",
              "\n",
              "<div id=\"df-c942fa13-aabc-42b7-b483-6449a6488369\">\n",
              "  <button class=\"colab-df-quickchart\" onclick=\"quickchart('df-c942fa13-aabc-42b7-b483-6449a6488369')\"\n",
              "            title=\"Suggest charts\"\n",
              "            style=\"display:none;\">\n",
              "\n",
              "<svg xmlns=\"http://www.w3.org/2000/svg\" height=\"24px\"viewBox=\"0 0 24 24\"\n",
              "     width=\"24px\">\n",
              "    <g>\n",
              "        <path d=\"M19 3H5c-1.1 0-2 .9-2 2v14c0 1.1.9 2 2 2h14c1.1 0 2-.9 2-2V5c0-1.1-.9-2-2-2zM9 17H7v-7h2v7zm4 0h-2V7h2v10zm4 0h-2v-4h2v4z\"/>\n",
              "    </g>\n",
              "</svg>\n",
              "  </button>\n",
              "\n",
              "<style>\n",
              "  .colab-df-quickchart {\n",
              "      --bg-color: #E8F0FE;\n",
              "      --fill-color: #1967D2;\n",
              "      --hover-bg-color: #E2EBFA;\n",
              "      --hover-fill-color: #174EA6;\n",
              "      --disabled-fill-color: #AAA;\n",
              "      --disabled-bg-color: #DDD;\n",
              "  }\n",
              "\n",
              "  [theme=dark] .colab-df-quickchart {\n",
              "      --bg-color: #3B4455;\n",
              "      --fill-color: #D2E3FC;\n",
              "      --hover-bg-color: #434B5C;\n",
              "      --hover-fill-color: #FFFFFF;\n",
              "      --disabled-bg-color: #3B4455;\n",
              "      --disabled-fill-color: #666;\n",
              "  }\n",
              "\n",
              "  .colab-df-quickchart {\n",
              "    background-color: var(--bg-color);\n",
              "    border: none;\n",
              "    border-radius: 50%;\n",
              "    cursor: pointer;\n",
              "    display: none;\n",
              "    fill: var(--fill-color);\n",
              "    height: 32px;\n",
              "    padding: 0;\n",
              "    width: 32px;\n",
              "  }\n",
              "\n",
              "  .colab-df-quickchart:hover {\n",
              "    background-color: var(--hover-bg-color);\n",
              "    box-shadow: 0 1px 2px rgba(60, 64, 67, 0.3), 0 1px 3px 1px rgba(60, 64, 67, 0.15);\n",
              "    fill: var(--button-hover-fill-color);\n",
              "  }\n",
              "\n",
              "  .colab-df-quickchart-complete:disabled,\n",
              "  .colab-df-quickchart-complete:disabled:hover {\n",
              "    background-color: var(--disabled-bg-color);\n",
              "    fill: var(--disabled-fill-color);\n",
              "    box-shadow: none;\n",
              "  }\n",
              "\n",
              "  .colab-df-spinner {\n",
              "    border: 2px solid var(--fill-color);\n",
              "    border-color: transparent;\n",
              "    border-bottom-color: var(--fill-color);\n",
              "    animation:\n",
              "      spin 1s steps(1) infinite;\n",
              "  }\n",
              "\n",
              "  @keyframes spin {\n",
              "    0% {\n",
              "      border-color: transparent;\n",
              "      border-bottom-color: var(--fill-color);\n",
              "      border-left-color: var(--fill-color);\n",
              "    }\n",
              "    20% {\n",
              "      border-color: transparent;\n",
              "      border-left-color: var(--fill-color);\n",
              "      border-top-color: var(--fill-color);\n",
              "    }\n",
              "    30% {\n",
              "      border-color: transparent;\n",
              "      border-left-color: var(--fill-color);\n",
              "      border-top-color: var(--fill-color);\n",
              "      border-right-color: var(--fill-color);\n",
              "    }\n",
              "    40% {\n",
              "      border-color: transparent;\n",
              "      border-right-color: var(--fill-color);\n",
              "      border-top-color: var(--fill-color);\n",
              "    }\n",
              "    60% {\n",
              "      border-color: transparent;\n",
              "      border-right-color: var(--fill-color);\n",
              "    }\n",
              "    80% {\n",
              "      border-color: transparent;\n",
              "      border-right-color: var(--fill-color);\n",
              "      border-bottom-color: var(--fill-color);\n",
              "    }\n",
              "    90% {\n",
              "      border-color: transparent;\n",
              "      border-bottom-color: var(--fill-color);\n",
              "    }\n",
              "  }\n",
              "</style>\n",
              "\n",
              "  <script>\n",
              "    async function quickchart(key) {\n",
              "      const quickchartButtonEl =\n",
              "        document.querySelector('#' + key + ' button');\n",
              "      quickchartButtonEl.disabled = true;  // To prevent multiple clicks.\n",
              "      quickchartButtonEl.classList.add('colab-df-spinner');\n",
              "      try {\n",
              "        const charts = await google.colab.kernel.invokeFunction(\n",
              "            'suggestCharts', [key], {});\n",
              "      } catch (error) {\n",
              "        console.error('Error during call to suggestCharts:', error);\n",
              "      }\n",
              "      quickchartButtonEl.classList.remove('colab-df-spinner');\n",
              "      quickchartButtonEl.classList.add('colab-df-quickchart-complete');\n",
              "    }\n",
              "    (() => {\n",
              "      let quickchartButtonEl =\n",
              "        document.querySelector('#df-c942fa13-aabc-42b7-b483-6449a6488369 button');\n",
              "      quickchartButtonEl.style.display =\n",
              "        google.colab.kernel.accessAllowed ? 'block' : 'none';\n",
              "    })();\n",
              "  </script>\n",
              "</div>\n",
              "    </div>\n",
              "  </div>\n"
            ]
          },
          "metadata": {},
          "execution_count": 25
        }
      ]
    },
    {
      "cell_type": "code",
      "source": [
        "# Configuração do gráfico\n",
        "fig, ax = plt.subplots(1, 1, figsize=(10, 8))\n",
        "plt.title('Alabama X Califórnia X Alaska - Depressão')\n",
        "plt.xlabel('Porcentagem')\n",
        "plt.ylabel('Frequência')\n",
        "\n",
        "# Plotagem\n",
        "# Alabama\n",
        "plt.hist(dados_ala['CI baixo'], alpha=0.4, label='Alabama', color='green')\n",
        "# Califórnia\n",
        "plt.hist(dados_cali['CI baixo'], alpha=0.4, label='Califórnia', color='yellow')\n",
        "# Alaska\n",
        "plt.hist(dados_alk['CI baixo'], alpha=0.4, label='Alaska', color='#FF0000')\n",
        "\n",
        "plt.legend()\n",
        "plt.show()"
      ],
      "metadata": {
        "colab": {
          "base_uri": "https://localhost:8080/",
          "height": 719
        },
        "id": "RsdgoQ5UaFfb",
        "outputId": "4aae2c1c-0a39-4c1b-907c-ad1633c7f7ba"
      },
      "execution_count": 27,
      "outputs": [
        {
          "output_type": "display_data",
          "data": {
            "text/plain": [
              "<Figure size 1000x800 with 1 Axes>"
            ],
            "image/png": "[encoded data removed]"
          },
          "metadata": {}
        }
      ]
    },
    {
      "cell_type": "markdown",
      "source": [
        "##Criação do modelo de Classificação"
      ],
      "metadata": {
        "id": "MZctdJ0Ej63n"
      }
    },
    {
      "cell_type": "markdown",
      "source": [
        "O modelo a seguir será criado para identificar os sintomas de transtornos de ansiedade e depressão. Ou seja, com os dados de entrada, a saída será um sintoma, assim o psicólogo ou psiquiatra irá conseguir confirmar o diagnóstico."
      ],
      "metadata": {
        "id": "ryEe_AudUcB3"
      }
    },
    {
      "cell_type": "code",
      "source": [
        "from sklearn.model_selection import train_test_split"
      ],
      "metadata": {
        "id": "GMGX4SOzkJT2"
      },
      "execution_count": 28,
      "outputs": []
    },
    {
      "cell_type": "code",
      "source": [
        "#Primeiro lidando com dados ausentes\n",
        "#Ver o shape antes\n",
        "shape_antes = dados.shape\n",
        "print(\"Antes:\\t\", shape_antes)\n",
        "\n",
        "dados.dropna(subset=['Faixa de quartil'], inplace=True)\n",
        "dados.dropna(subset=['Valor'], inplace=True)\n",
        "\n",
        "#Ver o shape depois\n",
        "shape_depois = dados.shape\n",
        "print(\"Depois:\\t\", shape_depois)"
      ],
      "metadata": {
        "colab": {
          "base_uri": "https://localhost:8080/"
        },
        "id": "eb1a6_fKB4_n",
        "outputId": "6916fde0-5748-4319-e148-6d8c9f0854d7"
      },
      "execution_count": 29,
      "outputs": [
        {
          "output_type": "stream",
          "name": "stdout",
          "text": [
            "Antes:\t (11484, 14)\n",
            "Depois:\t (7650, 14)\n"
          ]
        }
      ]
    },
    {
      "cell_type": "code",
      "source": [
        "# Escolhendo as colunas preditivas e alvo\n",
        "x = dados.drop(columns = ['Diagnósticos', 'Grupo', 'Estado', 'Subgrupo', 'Etiqueta do período de tempo', 'Data de início do período', 'Data de término do período', 'Intervalo de confiança', 'Faixa de quartil'])\n",
        "y = dados['Diagnósticos']   # Classe alvo\n",
        "\n",
        "# Dividindo conjunto de treinamento e conjunto de teste\n",
        "x_train, x_test, y_train, y_test = train_test_split(x, y, test_size = 0.2, random_state = 42)"
      ],
      "metadata": {
        "id": "pBgFZUWh-8JB"
      },
      "execution_count": 30,
      "outputs": []
    },
    {
      "cell_type": "code",
      "source": [
        "x_train.head(5)"
      ],
      "metadata": {
        "colab": {
          "base_uri": "https://localhost:8080/",
          "height": 206
        },
        "id": "3aGrWtLRUgTp",
        "outputId": "e90f8ed0-3f3c-4f1d-db81-c69e0da24cfb"
      },
      "execution_count": 31,
      "outputs": [
        {
          "output_type": "execute_result",
          "data": {
            "text/plain": [
              "      Fase  Período de tempo  Valor  CI baixo  CI alto\n",
              "7124   3.1                33   25.8      21.4     30.5\n",
              "2083   1.0                10   32.6      26.7     39.0\n",
              "311    1.0                 2   25.0      19.9     30.6\n",
              "6229   3.1                29   30.8      25.5     36.5\n",
              "7406   3.2                34   27.0      23.9     30.4"
            ],
            "text/html": [
              "\n",
              "  <div id=\"df-67ec2e1d-4f91-458e-8250-4c370fb7c749\" class=\"colab-df-container\">\n",
              "    <div>\n",
              "<style scoped>\n",
              "    .dataframe tbody tr th:only-of-type {\n",
              "        vertical-align: middle;\n",
              "    }\n",
              "\n",
              "    .dataframe tbody tr th {\n",
              "        vertical-align: top;\n",
              "    }\n",
              "\n",
              "    .dataframe thead th {\n",
              "        text-align: right;\n",
              "    }\n",
              "</style>\n",
              "<table border=\"1\" class=\"dataframe\">\n",
              "  <thead>\n",
              "    <tr style=\"text-align: right;\">\n",
              "      <th></th>\n",
              "      <th>Fase</th>\n",
              "      <th>Período de tempo</th>\n",
              "      <th>Valor</th>\n",
              "      <th>CI baixo</th>\n",
              "      <th>CI alto</th>\n",
              "    </tr>\n",
              "  </thead>\n",
              "  <tbody>\n",
              "    <tr>\n",
              "      <th>7124</th>\n",
              "      <td>3.1</td>\n",
              "      <td>33</td>\n",
              "      <td>25.8</td>\n",
              "      <td>21.4</td>\n",
              "      <td>30.5</td>\n",
              "    </tr>\n",
              "    <tr>\n",
              "      <th>2083</th>\n",
              "      <td>1.0</td>\n",
              "      <td>10</td>\n",
              "      <td>32.6</td>\n",
              "      <td>26.7</td>\n",
              "      <td>39.0</td>\n",
              "    </tr>\n",
              "    <tr>\n",
              "      <th>311</th>\n",
              "      <td>1.0</td>\n",
              "      <td>2</td>\n",
              "      <td>25.0</td>\n",
              "      <td>19.9</td>\n",
              "      <td>30.6</td>\n",
              "    </tr>\n",
              "    <tr>\n",
              "      <th>6229</th>\n",
              "      <td>3.1</td>\n",
              "      <td>29</td>\n",
              "      <td>30.8</td>\n",
              "      <td>25.5</td>\n",
              "      <td>36.5</td>\n",
              "    </tr>\n",
              "    <tr>\n",
              "      <th>7406</th>\n",
              "      <td>3.2</td>\n",
              "      <td>34</td>\n",
              "      <td>27.0</td>\n",
              "      <td>23.9</td>\n",
              "      <td>30.4</td>\n",
              "    </tr>\n",
              "  </tbody>\n",
              "</table>\n",
              "</div>\n",
              "    <div class=\"colab-df-buttons\">\n",
              "\n",
              "  <div class=\"colab-df-container\">\n",
              "    <button class=\"colab-df-convert\" onclick=\"convertToInteractive('df-67ec2e1d-4f91-458e-8250-4c370fb7c749')\"\n",
              "            title=\"Convert this dataframe to an interactive table.\"\n",
              "            style=\"display:none;\">\n",
              "\n",
              "  <svg xmlns=\"http://www.w3.org/2000/svg\" height=\"24px\" viewBox=\"0 -960 960 960\">\n",
              "    <path d=\"M120-120v-720h720v720H120Zm60-500h600v-160H180v160Zm220 220h160v-160H400v160Zm0 220h160v-160H400v160ZM180-400h160v-160H180v160Zm440 0h160v-160H620v160ZM180-180h160v-160H180v160Zm440 0h160v-160H620v160Z\"/>\n",
              "  </svg>\n",
              "    </button>\n",
              "\n",
              "  <style>\n",
              "    .colab-df-container {\n",
              "      display:flex;\n",
              "      gap: 12px;\n",
              "    }\n",
              "\n",
              "    .colab-df-convert {\n",
              "      background-color: #E8F0FE;\n",
              "      border: none;\n",
              "      border-radius: 50%;\n",
              "      cursor: pointer;\n",
              "      display: none;\n",
              "      fill: #1967D2;\n",
              "      height: 32px;\n",
              "      padding: 0 0 0 0;\n",
              "      width: 32px;\n",
              "    }\n",
              "\n",
              "    .colab-df-convert:hover {\n",
              "      background-color: #E2EBFA;\n",
              "      box-shadow: 0px 1px 2px rgba(60, 64, 67, 0.3), 0px 1px 3px 1px rgba(60, 64, 67, 0.15);\n",
              "      fill: #174EA6;\n",
              "    }\n",
              "\n",
              "    .colab-df-buttons div {\n",
              "      margin-bottom: 4px;\n",
              "    }\n",
              "\n",
              "    [theme=dark] .colab-df-convert {\n",
              "      background-color: #3B4455;\n",
              "      fill: #D2E3FC;\n",
              "    }\n",
              "\n",
              "    [theme=dark] .colab-df-convert:hover {\n",
              "      background-color: #434B5C;\n",
              "      box-shadow: 0px 1px 3px 1px rgba(0, 0, 0, 0.15);\n",
              "      filter: drop-shadow(0px 1px 2px rgba(0, 0, 0, 0.3));\n",
              "      fill: #FFFFFF;\n",
              "    }\n",
              "  </style>\n",
              "\n",
              "    <script>\n",
              "      const buttonEl =\n",
              "        document.querySelector('#df-67ec2e1d-4f91-458e-8250-4c370fb7c749 button.colab-df-convert');\n",
              "      buttonEl.style.display =\n",
              "        google.colab.kernel.accessAllowed ? 'block' : 'none';\n",
              "\n",
              "      async function convertToInteractive(key) {\n",
              "        const element = document.querySelector('#df-67ec2e1d-4f91-458e-8250-4c370fb7c749');\n",
              "        const dataTable =\n",
              "          await google.colab.kernel.invokeFunction('convertToInteractive',\n",
              "                                                    [key], {});\n",
              "        if (!dataTable) return;\n",
              "\n",
              "        const docLinkHtml = 'Like what you see? Visit the ' +\n",
              "          '<a target=\"_blank\" href=https://colab.research.google.com/notebooks/data_table.ipynb>data table notebook</a>'\n",
              "          + ' to learn more about interactive tables.';\n",
              "        element.innerHTML = '';\n",
              "        dataTable['output_type'] = 'display_data';\n",
              "        await google.colab.output.renderOutput(dataTable, element);\n",
              "        const docLink = document.createElement('div');\n",
              "        docLink.innerHTML = docLinkHtml;\n",
              "        element.appendChild(docLink);\n",
              "      }\n",
              "    </script>\n",
              "  </div>\n",
              "\n",
              "\n",
              "<div id=\"df-2ec9b304-064d-45a3-bafa-4a237b4b4509\">\n",
              "  <button class=\"colab-df-quickchart\" onclick=\"quickchart('df-2ec9b304-064d-45a3-bafa-4a237b4b4509')\"\n",
              "            title=\"Suggest charts\"\n",
              "            style=\"display:none;\">\n",
              "\n",
              "<svg xmlns=\"http://www.w3.org/2000/svg\" height=\"24px\"viewBox=\"0 0 24 24\"\n",
              "     width=\"24px\">\n",
              "    <g>\n",
              "        <path d=\"M19 3H5c-1.1 0-2 .9-2 2v14c0 1.1.9 2 2 2h14c1.1 0 2-.9 2-2V5c0-1.1-.9-2-2-2zM9 17H7v-7h2v7zm4 0h-2V7h2v10zm4 0h-2v-4h2v4z\"/>\n",
              "    </g>\n",
              "</svg>\n",
              "  </button>\n",
              "\n",
              "<style>\n",
              "  .colab-df-quickchart {\n",
              "      --bg-color: #E8F0FE;\n",
              "      --fill-color: #1967D2;\n",
              "      --hover-bg-color: #E2EBFA;\n",
              "      --hover-fill-color: #174EA6;\n",
              "      --disabled-fill-color: #AAA;\n",
              "      --disabled-bg-color: #DDD;\n",
              "  }\n",
              "\n",
              "  [theme=dark] .colab-df-quickchart {\n",
              "      --bg-color: #3B4455;\n",
              "      --fill-color: #D2E3FC;\n",
              "      --hover-bg-color: #434B5C;\n",
              "      --hover-fill-color: #FFFFFF;\n",
              "      --disabled-bg-color: #3B4455;\n",
              "      --disabled-fill-color: #666;\n",
              "  }\n",
              "\n",
              "  .colab-df-quickchart {\n",
              "    background-color: var(--bg-color);\n",
              "    border: none;\n",
              "    border-radius: 50%;\n",
              "    cursor: pointer;\n",
              "    display: none;\n",
              "    fill: var(--fill-color);\n",
              "    height: 32px;\n",
              "    padding: 0;\n",
              "    width: 32px;\n",
              "  }\n",
              "\n",
              "  .colab-df-quickchart:hover {\n",
              "    background-color: var(--hover-bg-color);\n",
              "    box-shadow: 0 1px 2px rgba(60, 64, 67, 0.3), 0 1px 3px 1px rgba(60, 64, 67, 0.15);\n",
              "    fill: var(--button-hover-fill-color);\n",
              "  }\n",
              "\n",
              "  .colab-df-quickchart-complete:disabled,\n",
              "  .colab-df-quickchart-complete:disabled:hover {\n",
              "    background-color: var(--disabled-bg-color);\n",
              "    fill: var(--disabled-fill-color);\n",
              "    box-shadow: none;\n",
              "  }\n",
              "\n",
              "  .colab-df-spinner {\n",
              "    border: 2px solid var(--fill-color);\n",
              "    border-color: transparent;\n",
              "    border-bottom-color: var(--fill-color);\n",
              "    animation:\n",
              "      spin 1s steps(1) infinite;\n",
              "  }\n",
              "\n",
              "  @keyframes spin {\n",
              "    0% {\n",
              "      border-color: transparent;\n",
              "      border-bottom-color: var(--fill-color);\n",
              "      border-left-color: var(--fill-color);\n",
              "    }\n",
              "    20% {\n",
              "      border-color: transparent;\n",
              "      border-left-color: var(--fill-color);\n",
              "      border-top-color: var(--fill-color);\n",
              "    }\n",
              "    30% {\n",
              "      border-color: transparent;\n",
              "      border-left-color: var(--fill-color);\n",
              "      border-top-color: var(--fill-color);\n",
              "      border-right-color: var(--fill-color);\n",
              "    }\n",
              "    40% {\n",
              "      border-color: transparent;\n",
              "      border-right-color: var(--fill-color);\n",
              "      border-top-color: var(--fill-color);\n",
              "    }\n",
              "    60% {\n",
              "      border-color: transparent;\n",
              "      border-right-color: var(--fill-color);\n",
              "    }\n",
              "    80% {\n",
              "      border-color: transparent;\n",
              "      border-right-color: var(--fill-color);\n",
              "      border-bottom-color: var(--fill-color);\n",
              "    }\n",
              "    90% {\n",
              "      border-color: transparent;\n",
              "      border-bottom-color: var(--fill-color);\n",
              "    }\n",
              "  }\n",
              "</style>\n",
              "\n",
              "  <script>\n",
              "    async function quickchart(key) {\n",
              "      const quickchartButtonEl =\n",
              "        document.querySelector('#' + key + ' button');\n",
              "      quickchartButtonEl.disabled = true;  // To prevent multiple clicks.\n",
              "      quickchartButtonEl.classList.add('colab-df-spinner');\n",
              "      try {\n",
              "        const charts = await google.colab.kernel.invokeFunction(\n",
              "            'suggestCharts', [key], {});\n",
              "      } catch (error) {\n",
              "        console.error('Error during call to suggestCharts:', error);\n",
              "      }\n",
              "      quickchartButtonEl.classList.remove('colab-df-spinner');\n",
              "      quickchartButtonEl.classList.add('colab-df-quickchart-complete');\n",
              "    }\n",
              "    (() => {\n",
              "      let quickchartButtonEl =\n",
              "        document.querySelector('#df-2ec9b304-064d-45a3-bafa-4a237b4b4509 button');\n",
              "      quickchartButtonEl.style.display =\n",
              "        google.colab.kernel.accessAllowed ? 'block' : 'none';\n",
              "    })();\n",
              "  </script>\n",
              "</div>\n",
              "    </div>\n",
              "  </div>\n"
            ]
          },
          "metadata": {},
          "execution_count": 31
        }
      ]
    },
    {
      "cell_type": "code",
      "source": [
        "y_train.head(5)"
      ],
      "metadata": {
        "colab": {
          "base_uri": "https://localhost:8080/"
        },
        "id": "u9zXLRTRUg7j",
        "outputId": "c7d61a5c-5697-43d4-b5d7-f40c08a7536f"
      },
      "execution_count": 32,
      "outputs": [
        {
          "output_type": "execute_result",
          "data": {
            "text/plain": [
              "7124    Symptoms of Anxiety Disorder or Depressive Dis...\n",
              "2083    Symptoms of Anxiety Disorder or Depressive Dis...\n",
              "311                          Symptoms of Anxiety Disorder\n",
              "6229    Symptoms of Anxiety Disorder or Depressive Dis...\n",
              "7406    Symptoms of Anxiety Disorder or Depressive Dis...\n",
              "Name: Diagnósticos, dtype: object"
            ]
          },
          "metadata": {},
          "execution_count": 32
        }
      ]
    },
    {
      "cell_type": "code",
      "source": [
        "from sklearn.discriminant_analysis import LinearDiscriminantAnalysis"
      ],
      "metadata": {
        "id": "Iw5_d9IcUvWb"
      },
      "execution_count": 33,
      "outputs": []
    },
    {
      "cell_type": "code",
      "source": [
        "lda = LinearDiscriminantAnalysis()  # Criando o objeto do classificador\n",
        "\n",
        "lda.fit(x_train,y_train) # Treinando o classificador passando apenas o conjunto de dados de treinamento"
      ],
      "metadata": {
        "colab": {
          "base_uri": "https://localhost:8080/",
          "height": 74
        },
        "id": "QXdCCwL0zv5R",
        "outputId": "4c3cba57-9d48-49e5-da08-39738b87fc3b"
      },
      "execution_count": 34,
      "outputs": [
        {
          "output_type": "execute_result",
          "data": {
            "text/plain": [
              "LinearDiscriminantAnalysis()"
            ],
            "text/html": [
              "<style>#sk-container-id-1 {color: black;background-color: white;}#sk-container-id-1 pre{padding: 0;}#sk-container-id-1 div.sk-toggleable {background-color: white;}#sk-container-id-1 label.sk-toggleable__label {cursor: pointer;display: block;width: 100%;margin-bottom: 0;padding: 0.3em;box-sizing: border-box;text-align: center;}#sk-container-id-1 label.sk-toggleable__label-arrow:before {content: \"▸\";float: left;margin-right: 0.25em;color: #696969;}#sk-container-id-1 label.sk-toggleable__label-arrow:hover:before {color: black;}#sk-container-id-1 div.sk-estimator:hover label.sk-toggleable__label-arrow:before {color: black;}#sk-container-id-1 div.sk-toggleable__content {max-height: 0;max-width: 0;overflow: hidden;text-align: left;background-color: #f0f8ff;}#sk-container-id-1 div.sk-toggleable__content pre {margin: 0.2em;color: black;border-radius: 0.25em;background-color: #f0f8ff;}#sk-container-id-1 input.sk-toggleable__control:checked~div.sk-toggleable__content {max-height: 200px;max-width: 100%;overflow: auto;}#sk-container-id-1 input.sk-toggleable__control:checked~label.sk-toggleable__label-arrow:before {content: \"▾\";}#sk-container-id-1 div.sk-estimator input.sk-toggleable__control:checked~label.sk-toggleable__label {background-color: #d4ebff;}#sk-container-id-1 div.sk-label input.sk-toggleable__control:checked~label.sk-toggleable__label {background-color: #d4ebff;}#sk-container-id-1 input.sk-hidden--visually {border: 0;clip: rect(1px 1px 1px 1px);clip: rect(1px, 1px, 1px, 1px);height: 1px;margin: -1px;overflow: hidden;padding: 0;position: absolute;width: 1px;}#sk-container-id-1 div.sk-estimator {font-family: monospace;background-color: #f0f8ff;border: 1px dotted black;border-radius: 0.25em;box-sizing: border-box;margin-bottom: 0.5em;}#sk-container-id-1 div.sk-estimator:hover {background-color: #d4ebff;}#sk-container-id-1 div.sk-parallel-item::after {content: \"\";width: 100%;border-bottom: 1px solid gray;flex-grow: 1;}#sk-container-id-1 div.sk-label:hover label.sk-toggleable__label {background-color: #d4ebff;}#sk-container-id-1 div.sk-serial::before {content: \"\";position: absolute;border-left: 1px solid gray;box-sizing: border-box;top: 0;bottom: 0;left: 50%;z-index: 0;}#sk-container-id-1 div.sk-serial {display: flex;flex-direction: column;align-items: center;background-color: white;padding-right: 0.2em;padding-left: 0.2em;position: relative;}#sk-container-id-1 div.sk-item {position: relative;z-index: 1;}#sk-container-id-1 div.sk-parallel {display: flex;align-items: stretch;justify-content: center;background-color: white;position: relative;}#sk-container-id-1 div.sk-item::before, #sk-container-id-1 div.sk-parallel-item::before {content: \"\";position: absolute;border-left: 1px solid gray;box-sizing: border-box;top: 0;bottom: 0;left: 50%;z-index: -1;}#sk-container-id-1 div.sk-parallel-item {display: flex;flex-direction: column;z-index: 1;position: relative;background-color: white;}#sk-container-id-1 div.sk-parallel-item:first-child::after {align-self: flex-end;width: 50%;}#sk-container-id-1 div.sk-parallel-item:last-child::after {align-self: flex-start;width: 50%;}#sk-container-id-1 div.sk-parallel-item:only-child::after {width: 0;}#sk-container-id-1 div.sk-dashed-wrapped {border: 1px dashed gray;margin: 0 0.4em 0.5em 0.4em;box-sizing: border-box;padding-bottom: 0.4em;background-color: white;}#sk-container-id-1 div.sk-label label {font-family: monospace;font-weight: bold;display: inline-block;line-height: 1.2em;}#sk-container-id-1 div.sk-label-container {text-align: center;}#sk-container-id-1 div.sk-container {/* jupyter's `normalize.less` sets `[hidden] { display: none; }` but bootstrap.min.css set `[hidden] { display: none !important; }` so we also need the `!important` here to be able to override the default hidden behavior on the sphinx rendered scikit-learn.org. See: https://github.com/scikit-learn/scikit-learn/issues/21755 */display: inline-block !important;position: relative;}#sk-container-id-1 div.sk-text-repr-fallback {display: none;}</style><div id=\"sk-container-id-1\" class=\"sk-top-container\"><div class=\"sk-text-repr-fallback\"><pre>LinearDiscriminantAnalysis()</pre><b>In a Jupyter environment, please rerun this cell to show the HTML representation or trust the notebook. <br />On GitHub, the HTML representation is unable to render, please try loading this page with nbviewer.org.</b></div><div class=\"sk-container\" hidden><div class=\"sk-item\"><div class=\"sk-estimator sk-toggleable\"><input class=\"sk-toggleable__control sk-hidden--visually\" id=\"sk-estimator-id-1\" type=\"checkbox\" checked><label for=\"sk-estimator-id-1\" class=\"sk-toggleable__label sk-toggleable__label-arrow\">LinearDiscriminantAnalysis</label><div class=\"sk-toggleable__content\"><pre>LinearDiscriminantAnalysis()</pre></div></div></div></div></div>"
            ]
          },
          "metadata": {},
          "execution_count": 34
        }
      ]
    },
    {
      "cell_type": "code",
      "source": [
        "# Passando apenas o x de teste\n",
        "y_predicoes = lda.predict(x_test)"
      ],
      "metadata": {
        "id": "CEzg8llgKcIn"
      },
      "execution_count": 35,
      "outputs": []
    },
    {
      "cell_type": "code",
      "source": [
        "y_predicoes"
      ],
      "metadata": {
        "colab": {
          "base_uri": "https://localhost:8080/"
        },
        "id": "3mcumeVbKeWs",
        "outputId": "997cee4e-2ec0-42a2-8398-822c34170713"
      },
      "execution_count": 36,
      "outputs": [
        {
          "output_type": "execute_result",
          "data": {
            "text/plain": [
              "array(['Symptoms of Depressive Disorder',\n",
              "       'Symptoms of Depressive Disorder', 'Symptoms of Anxiety Disorder',\n",
              "       ..., 'Symptoms of Anxiety Disorder or Depressive Disorder',\n",
              "       'Symptoms of Anxiety Disorder', 'Symptoms of Anxiety Disorder'],\n",
              "      dtype='<U51')"
            ]
          },
          "metadata": {},
          "execution_count": 36
        }
      ]
    },
    {
      "cell_type": "code",
      "source": [
        "from sklearn.metrics import confusion_matrix, ConfusionMatrixDisplay\n",
        "from sklearn.metrics import f1_score, accuracy_score, precision_score, recall_score, classification_report"
      ],
      "metadata": {
        "id": "KzzRtsJ-Kg-4"
      },
      "execution_count": 37,
      "outputs": []
    },
    {
      "cell_type": "code",
      "source": [
        "matriz_confusao = confusion_matrix(y_true = y_test,\n",
        "                                   y_pred = y_predicoes,\n",
        "                                   labels=['Symptoms of Depressive Disorder', 'Symptoms of Anxiety Disorder', 'Symptoms of Anxiety Disorder or Depressive Disorder'])"
      ],
      "metadata": {
        "id": "YQbUGn1-Ki5P"
      },
      "execution_count": 38,
      "outputs": []
    },
    {
      "cell_type": "code",
      "source": [
        "# plotando uma figura com a matriz de confusao\n",
        "figure = plt.figure(figsize=(50, 5))\n",
        "disp = ConfusionMatrixDisplay(confusion_matrix = matriz_confusao, display_labels=['Symptoms of Depressive Disorder', 'Symptoms of Anxiety Disorder', 'Symptoms of Anxiety Disorder or Depressive Disorder'])\n",
        "disp.plot(values_format='d')"
      ],
      "metadata": {
        "colab": {
          "base_uri": "https://localhost:8080/",
          "height": 484
        },
        "id": "yBalwVhDKuq7",
        "outputId": "683e5d51-93ec-4930-b903-3f8ae69f3ca5"
      },
      "execution_count": 39,
      "outputs": [
        {
          "output_type": "execute_result",
          "data": {
            "text/plain": [
              "<sklearn.metrics._plot.confusion_matrix.ConfusionMatrixDisplay at 0x7e630453beb0>"
            ]
          },
          "metadata": {},
          "execution_count": 39
        },
        {
          "output_type": "display_data",
          "data": {
            "text/plain": [
              "<Figure size 5000x500 with 0 Axes>"
            ]
          },
          "metadata": {}
        },
        {
          "output_type": "display_data",
          "data": {
            "text/plain": [
              "<Figure size 640x480 with 2 Axes>"
            ],
            "image/png": "[encoded data removed]"
          },
          "metadata": {}
        }
      ]
    },
    {
      "cell_type": "code",
      "source": [
        "accuracy_score(y_true = y_test, y_pred = y_predicoes,)"
      ],
      "metadata": {
        "colab": {
          "base_uri": "https://localhost:8080/"
        },
        "id": "ZIULtaKtZKRB",
        "outputId": "947c0199-9a29-4333-d7ac-62a61efe4b77"
      },
      "execution_count": 40,
      "outputs": [
        {
          "output_type": "execute_result",
          "data": {
            "text/plain": [
              "0.6058823529411764"
            ]
          },
          "metadata": {},
          "execution_count": 40
        }
      ]
    },
    {
      "cell_type": "code",
      "source": [
        "precision_score(y_true=y_test, y_pred=y_predicoes, average='micro')"
      ],
      "metadata": {
        "colab": {
          "base_uri": "https://localhost:8080/"
        },
        "id": "uacWPTHnZNgV",
        "outputId": "f506f731-ef80-4693-a986-bbd057ea16e3"
      },
      "execution_count": 41,
      "outputs": [
        {
          "output_type": "execute_result",
          "data": {
            "text/plain": [
              "0.6058823529411764"
            ]
          },
          "metadata": {},
          "execution_count": 41
        }
      ]
    },
    {
      "cell_type": "code",
      "source": [
        "precision_score(y_true=y_test, y_pred=y_predicoes, average='micro')"
      ],
      "metadata": {
        "colab": {
          "base_uri": "https://localhost:8080/"
        },
        "id": "rRrLA8Z2ZRNM",
        "outputId": "06503864-28ba-40db-f451-d4569d3f891c"
      },
      "execution_count": 42,
      "outputs": [
        {
          "output_type": "execute_result",
          "data": {
            "text/plain": [
              "0.6058823529411764"
            ]
          },
          "metadata": {},
          "execution_count": 42
        }
      ]
    },
    {
      "cell_type": "code",
      "source": [
        "precision_score(y_true=y_test, y_pred=y_predicoes, average='micro')"
      ],
      "metadata": {
        "colab": {
          "base_uri": "https://localhost:8080/"
        },
        "id": "xJnpJE18ZSya",
        "outputId": "3c371e56-6ca4-4cee-b168-903c13846025"
      },
      "execution_count": 43,
      "outputs": [
        {
          "output_type": "execute_result",
          "data": {
            "text/plain": [
              "0.6058823529411764"
            ]
          },
          "metadata": {},
          "execution_count": 43
        }
      ]
    },
    {
      "cell_type": "code",
      "source": [
        "# Metricas de precisão, revocação, f1-score e acurácia.\n",
        "print(classification_report(y_test, y_predicoes))"
      ],
      "metadata": {
        "colab": {
          "base_uri": "https://localhost:8080/"
        },
        "id": "YlsuruLdZYlQ",
        "outputId": "43d74555-81db-417d-f2db-d5be32ebca34"
      },
      "execution_count": 44,
      "outputs": [
        {
          "output_type": "stream",
          "name": "stdout",
          "text": [
            "                                                     precision    recall  f1-score   support\n",
            "\n",
            "                       Symptoms of Anxiety Disorder       0.46      0.42      0.44       512\n",
            "Symptoms of Anxiety Disorder or Depressive Disorder       0.66      0.64      0.65       511\n",
            "                    Symptoms of Depressive Disorder       0.68      0.76      0.72       507\n",
            "\n",
            "                                           accuracy                           0.61      1530\n",
            "                                          macro avg       0.60      0.61      0.60      1530\n",
            "                                       weighted avg       0.60      0.61      0.60      1530\n",
            "\n"
          ]
        }
      ]
    },
    {
      "cell_type": "code",
      "source": [
        "import pickle"
      ],
      "metadata": {
        "id": "1fpet1XyZeeo"
      },
      "execution_count": 45,
      "outputs": []
    },
    {
      "cell_type": "code",
      "source": [
        "# Salvando em bytes (flag wb) para ser mais cross-platform (acessível a vários sistemas)\n",
        "with open('meu_modelo_serializado_classificacao.pickle', 'wb') as f:\n",
        "    pickle.dump(lda, f)"
      ],
      "metadata": {
        "id": "k0UozzzvZihM"
      },
      "execution_count": 46,
      "outputs": []
    },
    {
      "cell_type": "code",
      "source": [
        "with open('meu_modelo_serializado_classificacao.pickle', 'rb') as f:\n",
        "    modelo_carregado = pickle.load(f)"
      ],
      "metadata": {
        "id": "Y2E1bw1GZnd-"
      },
      "execution_count": 47,
      "outputs": []
    },
    {
      "cell_type": "code",
      "source": [
        "modelo_carregado.predict([[1,2,3,4,5]])"
      ],
      "metadata": {
        "colab": {
          "base_uri": "https://localhost:8080/"
        },
        "id": "cYUslk6oZu-n",
        "outputId": "5ccc310a-f031-4477-ae9e-b5bfce22c76e"
      },
      "execution_count": 48,
      "outputs": [
        {
          "output_type": "stream",
          "name": "stderr",
          "text": [
            "/usr/local/lib/python3.10/dist-packages/sklearn/base.py:439: UserWarning: X does not have valid feature names, but LinearDiscriminantAnalysis was fitted with feature names\n",
            "  warnings.warn(\n"
          ]
        },
        {
          "output_type": "execute_result",
          "data": {
            "text/plain": [
              "array(['Symptoms of Depressive Disorder'], dtype='<U51')"
            ]
          },
          "metadata": {},
          "execution_count": 48
        }
      ]
    },
    {
      "cell_type": "markdown",
      "source": [
        "##Criação do modelo de Regressão"
      ],
      "metadata": {
        "id": "sfTmkBKqCdVx"
      }
    },
    {
      "cell_type": "markdown",
      "source": [
        "O modelo a seguir irá predizer o valor do diagnóstico."
      ],
      "metadata": {
        "id": "6uUrkQIBCuhU"
      }
    },
    {
      "cell_type": "markdown",
      "source": [
        "Primeiro passo: carregando os dados"
      ],
      "metadata": {
        "id": "Q53_DgADIJiE"
      }
    },
    {
      "cell_type": "code",
      "source": [
        "# Para trabalhar com dados em tabelas\n",
        "import pandas as pd\n",
        "\n",
        "# Para trabalhar com dados do OpenML\n",
        "from sklearn.datasets import fetch_openml\n",
        "\n",
        "# Para trabalhar com gráficos\n",
        "import seaborn as sns\n",
        "import matplotlib.pyplot as plt"
      ],
      "metadata": {
        "id": "uxaCzoSCCxRE"
      },
      "execution_count": 49,
      "outputs": []
    },
    {
      "cell_type": "code",
      "source": [
        "dados.head()"
      ],
      "metadata": {
        "colab": {
          "base_uri": "https://localhost:8080/",
          "height": 431
        },
        "id": "gjYkvzhOCxD2",
        "outputId": "d54fce20-271d-4720-f389-c90c1dee2941"
      },
      "execution_count": 50,
      "outputs": [
        {
          "output_type": "execute_result",
          "data": {
            "text/plain": [
              "                       Diagnósticos     Grupo      Estado    Subgrupo  Fase  \\\n",
              "19  Symptoms of Depressive Disorder  By State     Alabama     Alabama   1.0   \n",
              "20  Symptoms of Depressive Disorder  By State      Alaska      Alaska   1.0   \n",
              "21  Symptoms of Depressive Disorder  By State     Arizona     Arizona   1.0   \n",
              "22  Symptoms of Depressive Disorder  By State    Arkansas    Arkansas   1.0   \n",
              "23  Symptoms of Depressive Disorder  By State  California  California   1.0   \n",
              "\n",
              "    Período de tempo Etiqueta do período de tempo Data de início do período  \\\n",
              "19                 1         Apr 23 - May 5, 2020                04/23/2020   \n",
              "20                 1         Apr 23 - May 5, 2020                04/23/2020   \n",
              "21                 1         Apr 23 - May 5, 2020                04/23/2020   \n",
              "22                 1         Apr 23 - May 5, 2020                04/23/2020   \n",
              "23                 1         Apr 23 - May 5, 2020                04/23/2020   \n",
              "\n",
              "   Data de término do período  Valor  CI baixo  CI alto  \\\n",
              "19        2020-05-05 00:00:00   18.6      14.6     23.1   \n",
              "20        2020-05-05 00:00:00   19.2      16.8     21.8   \n",
              "21        2020-05-05 00:00:00   22.4      19.4     25.5   \n",
              "22        2020-05-05 00:00:00   26.6      22.3     31.3   \n",
              "23        2020-05-05 00:00:00   25.4      22.5     28.6   \n",
              "\n",
              "   Intervalo de confiança Faixa de quartil  \n",
              "19            14.6 - 23.1      16.5 - 20.7  \n",
              "20            16.8 - 21.8      16.5 - 20.7  \n",
              "21            19.4 - 25.5      22.2 - 24.0  \n",
              "22            22.3 - 31.3      24.1 - 28.7  \n",
              "23            22.5 - 28.6      24.1 - 28.7  "
            ],
            "text/html": [
              "\n",
              "  <div id=\"df-6dead833-b4ed-492e-8f3f-93b254a0a9d5\" class=\"colab-df-container\">\n",
              "    <div>\n",
              "<style scoped>\n",
              "    .dataframe tbody tr th:only-of-type {\n",
              "        vertical-align: middle;\n",
              "    }\n",
              "\n",
              "    .dataframe tbody tr th {\n",
              "        vertical-align: top;\n",
              "    }\n",
              "\n",
              "    .dataframe thead th {\n",
              "        text-align: right;\n",
              "    }\n",
              "</style>\n",
              "<table border=\"1\" class=\"dataframe\">\n",
              "  <thead>\n",
              "    <tr style=\"text-align: right;\">\n",
              "      <th></th>\n",
              "      <th>Diagnósticos</th>\n",
              "      <th>Grupo</th>\n",
              "      <th>Estado</th>\n",
              "      <th>Subgrupo</th>\n",
              "      <th>Fase</th>\n",
              "      <th>Período de tempo</th>\n",
              "      <th>Etiqueta do período de tempo</th>\n",
              "      <th>Data de início do período</th>\n",
              "      <th>Data de término do período</th>\n",
              "      <th>Valor</th>\n",
              "      <th>CI baixo</th>\n",
              "      <th>CI alto</th>\n",
              "      <th>Intervalo de confiança</th>\n",
              "      <th>Faixa de quartil</th>\n",
              "    </tr>\n",
              "  </thead>\n",
              "  <tbody>\n",
              "    <tr>\n",
              "      <th>19</th>\n",
              "      <td>Symptoms of Depressive Disorder</td>\n",
              "      <td>By State</td>\n",
              "      <td>Alabama</td>\n",
              "      <td>Alabama</td>\n",
              "      <td>1.0</td>\n",
              "      <td>1</td>\n",
              "      <td>Apr 23 - May 5, 2020</td>\n",
              "      <td>04/23/2020</td>\n",
              "      <td>2020-05-05 00:00:00</td>\n",
              "      <td>18.6</td>\n",
              "      <td>14.6</td>\n",
              "      <td>23.1</td>\n",
              "      <td>14.6 - 23.1</td>\n",
              "      <td>16.5 - 20.7</td>\n",
              "    </tr>\n",
              "    <tr>\n",
              "      <th>20</th>\n",
              "      <td>Symptoms of Depressive Disorder</td>\n",
              "      <td>By State</td>\n",
              "      <td>Alaska</td>\n",
              "      <td>Alaska</td>\n",
              "      <td>1.0</td>\n",
              "      <td>1</td>\n",
              "      <td>Apr 23 - May 5, 2020</td>\n",
              "      <td>04/23/2020</td>\n",
              "      <td>2020-05-05 00:00:00</td>\n",
              "      <td>19.2</td>\n",
              "      <td>16.8</td>\n",
              "      <td>21.8</td>\n",
              "      <td>16.8 - 21.8</td>\n",
              "      <td>16.5 - 20.7</td>\n",
              "    </tr>\n",
              "    <tr>\n",
              "      <th>21</th>\n",
              "      <td>Symptoms of Depressive Disorder</td>\n",
              "      <td>By State</td>\n",
              "      <td>Arizona</td>\n",
              "      <td>Arizona</td>\n",
              "      <td>1.0</td>\n",
              "      <td>1</td>\n",
              "      <td>Apr 23 - May 5, 2020</td>\n",
              "      <td>04/23/2020</td>\n",
              "      <td>2020-05-05 00:00:00</td>\n",
              "      <td>22.4</td>\n",
              "      <td>19.4</td>\n",
              "      <td>25.5</td>\n",
              "      <td>19.4 - 25.5</td>\n",
              "      <td>22.2 - 24.0</td>\n",
              "    </tr>\n",
              "    <tr>\n",
              "      <th>22</th>\n",
              "      <td>Symptoms of Depressive Disorder</td>\n",
              "      <td>By State</td>\n",
              "      <td>Arkansas</td>\n",
              "      <td>Arkansas</td>\n",
              "      <td>1.0</td>\n",
              "      <td>1</td>\n",
              "      <td>Apr 23 - May 5, 2020</td>\n",
              "      <td>04/23/2020</td>\n",
              "      <td>2020-05-05 00:00:00</td>\n",
              "      <td>26.6</td>\n",
              "      <td>22.3</td>\n",
              "      <td>31.3</td>\n",
              "      <td>22.3 - 31.3</td>\n",
              "      <td>24.1 - 28.7</td>\n",
              "    </tr>\n",
              "    <tr>\n",
              "      <th>23</th>\n",
              "      <td>Symptoms of Depressive Disorder</td>\n",
              "      <td>By State</td>\n",
              "      <td>California</td>\n",
              "      <td>California</td>\n",
              "      <td>1.0</td>\n",
              "      <td>1</td>\n",
              "      <td>Apr 23 - May 5, 2020</td>\n",
              "      <td>04/23/2020</td>\n",
              "      <td>2020-05-05 00:00:00</td>\n",
              "      <td>25.4</td>\n",
              "      <td>22.5</td>\n",
              "      <td>28.6</td>\n",
              "      <td>22.5 - 28.6</td>\n",
              "      <td>24.1 - 28.7</td>\n",
              "    </tr>\n",
              "  </tbody>\n",
              "</table>\n",
              "</div>\n",
              "    <div class=\"colab-df-buttons\">\n",
              "\n",
              "  <div class=\"colab-df-container\">\n",
              "    <button class=\"colab-df-convert\" onclick=\"convertToInteractive('df-6dead833-b4ed-492e-8f3f-93b254a0a9d5')\"\n",
              "            title=\"Convert this dataframe to an interactive table.\"\n",
              "            style=\"display:none;\">\n",
              "\n",
              "  <svg xmlns=\"http://www.w3.org/2000/svg\" height=\"24px\" viewBox=\"0 -960 960 960\">\n",
              "    <path d=\"M120-120v-720h720v720H120Zm60-500h600v-160H180v160Zm220 220h160v-160H400v160Zm0 220h160v-160H400v160ZM180-400h160v-160H180v160Zm440 0h160v-160H620v160ZM180-180h160v-160H180v160Zm440 0h160v-160H620v160Z\"/>\n",
              "  </svg>\n",
              "    </button>\n",
              "\n",
              "  <style>\n",
              "    .colab-df-container {\n",
              "      display:flex;\n",
              "      gap: 12px;\n",
              "    }\n",
              "\n",
              "    .colab-df-convert {\n",
              "      background-color: #E8F0FE;\n",
              "      border: none;\n",
              "      border-radius: 50%;\n",
              "      cursor: pointer;\n",
              "      display: none;\n",
              "      fill: #1967D2;\n",
              "      height: 32px;\n",
              "      padding: 0 0 0 0;\n",
              "      width: 32px;\n",
              "    }\n",
              "\n",
              "    .colab-df-convert:hover {\n",
              "      background-color: #E2EBFA;\n",
              "      box-shadow: 0px 1px 2px rgba(60, 64, 67, 0.3), 0px 1px 3px 1px rgba(60, 64, 67, 0.15);\n",
              "      fill: #174EA6;\n",
              "    }\n",
              "\n",
              "    .colab-df-buttons div {\n",
              "      margin-bottom: 4px;\n",
              "    }\n",
              "\n",
              "    [theme=dark] .colab-df-convert {\n",
              "      background-color: #3B4455;\n",
              "      fill: #D2E3FC;\n",
              "    }\n",
              "\n",
              "    [theme=dark] .colab-df-convert:hover {\n",
              "      background-color: #434B5C;\n",
              "      box-shadow: 0px 1px 3px 1px rgba(0, 0, 0, 0.15);\n",
              "      filter: drop-shadow(0px 1px 2px rgba(0, 0, 0, 0.3));\n",
              "      fill: #FFFFFF;\n",
              "    }\n",
              "  </style>\n",
              "\n",
              "    <script>\n",
              "      const buttonEl =\n",
              "        document.querySelector('#df-6dead833-b4ed-492e-8f3f-93b254a0a9d5 button.colab-df-convert');\n",
              "      buttonEl.style.display =\n",
              "        google.colab.kernel.accessAllowed ? 'block' : 'none';\n",
              "\n",
              "      async function convertToInteractive(key) {\n",
              "        const element = document.querySelector('#df-6dead833-b4ed-492e-8f3f-93b254a0a9d5');\n",
              "        const dataTable =\n",
              "          await google.colab.kernel.invokeFunction('convertToInteractive',\n",
              "                                                    [key], {});\n",
              "        if (!dataTable) return;\n",
              "\n",
              "        const docLinkHtml = 'Like what you see? Visit the ' +\n",
              "          '<a target=\"_blank\" href=https://colab.research.google.com/notebooks/data_table.ipynb>data table notebook</a>'\n",
              "          + ' to learn more about interactive tables.';\n",
              "        element.innerHTML = '';\n",
              "        dataTable['output_type'] = 'display_data';\n",
              "        await google.colab.output.renderOutput(dataTable, element);\n",
              "        const docLink = document.createElement('div');\n",
              "        docLink.innerHTML = docLinkHtml;\n",
              "        element.appendChild(docLink);\n",
              "      }\n",
              "    </script>\n",
              "  </div>\n",
              "\n",
              "\n",
              "<div id=\"df-4e25fe7f-f766-493e-a70f-20cbdcb8defa\">\n",
              "  <button class=\"colab-df-quickchart\" onclick=\"quickchart('df-4e25fe7f-f766-493e-a70f-20cbdcb8defa')\"\n",
              "            title=\"Suggest charts\"\n",
              "            style=\"display:none;\">\n",
              "\n",
              "<svg xmlns=\"http://www.w3.org/2000/svg\" height=\"24px\"viewBox=\"0 0 24 24\"\n",
              "     width=\"24px\">\n",
              "    <g>\n",
              "        <path d=\"M19 3H5c-1.1 0-2 .9-2 2v14c0 1.1.9 2 2 2h14c1.1 0 2-.9 2-2V5c0-1.1-.9-2-2-2zM9 17H7v-7h2v7zm4 0h-2V7h2v10zm4 0h-2v-4h2v4z\"/>\n",
              "    </g>\n",
              "</svg>\n",
              "  </button>\n",
              "\n",
              "<style>\n",
              "  .colab-df-quickchart {\n",
              "      --bg-color: #E8F0FE;\n",
              "      --fill-color: #1967D2;\n",
              "      --hover-bg-color: #E2EBFA;\n",
              "      --hover-fill-color: #174EA6;\n",
              "      --disabled-fill-color: #AAA;\n",
              "      --disabled-bg-color: #DDD;\n",
              "  }\n",
              "\n",
              "  [theme=dark] .colab-df-quickchart {\n",
              "      --bg-color: #3B4455;\n",
              "      --fill-color: #D2E3FC;\n",
              "      --hover-bg-color: #434B5C;\n",
              "      --hover-fill-color: #FFFFFF;\n",
              "      --disabled-bg-color: #3B4455;\n",
              "      --disabled-fill-color: #666;\n",
              "  }\n",
              "\n",
              "  .colab-df-quickchart {\n",
              "    background-color: var(--bg-color);\n",
              "    border: none;\n",
              "    border-radius: 50%;\n",
              "    cursor: pointer;\n",
              "    display: none;\n",
              "    fill: var(--fill-color);\n",
              "    height: 32px;\n",
              "    padding: 0;\n",
              "    width: 32px;\n",
              "  }\n",
              "\n",
              "  .colab-df-quickchart:hover {\n",
              "    background-color: var(--hover-bg-color);\n",
              "    box-shadow: 0 1px 2px rgba(60, 64, 67, 0.3), 0 1px 3px 1px rgba(60, 64, 67, 0.15);\n",
              "    fill: var(--button-hover-fill-color);\n",
              "  }\n",
              "\n",
              "  .colab-df-quickchart-complete:disabled,\n",
              "  .colab-df-quickchart-complete:disabled:hover {\n",
              "    background-color: var(--disabled-bg-color);\n",
              "    fill: var(--disabled-fill-color);\n",
              "    box-shadow: none;\n",
              "  }\n",
              "\n",
              "  .colab-df-spinner {\n",
              "    border: 2px solid var(--fill-color);\n",
              "    border-color: transparent;\n",
              "    border-bottom-color: var(--fill-color);\n",
              "    animation:\n",
              "      spin 1s steps(1) infinite;\n",
              "  }\n",
              "\n",
              "  @keyframes spin {\n",
              "    0% {\n",
              "      border-color: transparent;\n",
              "      border-bottom-color: var(--fill-color);\n",
              "      border-left-color: var(--fill-color);\n",
              "    }\n",
              "    20% {\n",
              "      border-color: transparent;\n",
              "      border-left-color: var(--fill-color);\n",
              "      border-top-color: var(--fill-color);\n",
              "    }\n",
              "    30% {\n",
              "      border-color: transparent;\n",
              "      border-left-color: var(--fill-color);\n",
              "      border-top-color: var(--fill-color);\n",
              "      border-right-color: var(--fill-color);\n",
              "    }\n",
              "    40% {\n",
              "      border-color: transparent;\n",
              "      border-right-color: var(--fill-color);\n",
              "      border-top-color: var(--fill-color);\n",
              "    }\n",
              "    60% {\n",
              "      border-color: transparent;\n",
              "      border-right-color: var(--fill-color);\n",
              "    }\n",
              "    80% {\n",
              "      border-color: transparent;\n",
              "      border-right-color: var(--fill-color);\n",
              "      border-bottom-color: var(--fill-color);\n",
              "    }\n",
              "    90% {\n",
              "      border-color: transparent;\n",
              "      border-bottom-color: var(--fill-color);\n",
              "    }\n",
              "  }\n",
              "</style>\n",
              "\n",
              "  <script>\n",
              "    async function quickchart(key) {\n",
              "      const quickchartButtonEl =\n",
              "        document.querySelector('#' + key + ' button');\n",
              "      quickchartButtonEl.disabled = true;  // To prevent multiple clicks.\n",
              "      quickchartButtonEl.classList.add('colab-df-spinner');\n",
              "      try {\n",
              "        const charts = await google.colab.kernel.invokeFunction(\n",
              "            'suggestCharts', [key], {});\n",
              "      } catch (error) {\n",
              "        console.error('Error during call to suggestCharts:', error);\n",
              "      }\n",
              "      quickchartButtonEl.classList.remove('colab-df-spinner');\n",
              "      quickchartButtonEl.classList.add('colab-df-quickchart-complete');\n",
              "    }\n",
              "    (() => {\n",
              "      let quickchartButtonEl =\n",
              "        document.querySelector('#df-4e25fe7f-f766-493e-a70f-20cbdcb8defa button');\n",
              "      quickchartButtonEl.style.display =\n",
              "        google.colab.kernel.accessAllowed ? 'block' : 'none';\n",
              "    })();\n",
              "  </script>\n",
              "</div>\n",
              "    </div>\n",
              "  </div>\n"
            ]
          },
          "metadata": {},
          "execution_count": 50
        }
      ]
    },
    {
      "cell_type": "code",
      "source": [
        "dados.info()"
      ],
      "metadata": {
        "colab": {
          "base_uri": "https://localhost:8080/"
        },
        "id": "yLrxiVO9Hksb",
        "outputId": "33692292-8cad-48c0-b83f-ea00536c13e6"
      },
      "execution_count": 51,
      "outputs": [
        {
          "output_type": "stream",
          "name": "stdout",
          "text": [
            "<class 'pandas.core.frame.DataFrame'>\n",
            "Int64Index: 7650 entries, 19 to 11483\n",
            "Data columns (total 14 columns):\n",
            " #   Column                        Non-Null Count  Dtype  \n",
            "---  ------                        --------------  -----  \n",
            " 0   Diagnósticos                  7650 non-null   object \n",
            " 1   Grupo                         7650 non-null   object \n",
            " 2   Estado                        7650 non-null   object \n",
            " 3   Subgrupo                      7650 non-null   object \n",
            " 4   Fase                          7650 non-null   float64\n",
            " 5   Período de tempo              7650 non-null   int64  \n",
            " 6   Etiqueta do período de tempo  7650 non-null   object \n",
            " 7   Data de início do período     7650 non-null   object \n",
            " 8   Data de término do período    7650 non-null   object \n",
            " 9   Valor                         7650 non-null   float64\n",
            " 10  CI baixo                      7650 non-null   float64\n",
            " 11  CI alto                       7650 non-null   float64\n",
            " 12  Intervalo de confiança        7650 non-null   object \n",
            " 13  Faixa de quartil              7650 non-null   object \n",
            "dtypes: float64(4), int64(1), object(9)\n",
            "memory usage: 896.5+ KB\n"
          ]
        }
      ]
    },
    {
      "cell_type": "code",
      "source": [
        "sns.heatmap(dados.corr())"
      ],
      "metadata": {
        "colab": {
          "base_uri": "https://localhost:8080/",
          "height": 508
        },
        "id": "8ieQ4uEgHtIE",
        "outputId": "4f772aad-d2ea-4bb1-a2b2-f56c74cb88b0"
      },
      "execution_count": 52,
      "outputs": [
        {
          "output_type": "stream",
          "name": "stderr",
          "text": [
            "<ipython-input-52-3c0e1fc7d43a>:1: FutureWarning: The default value of numeric_only in DataFrame.corr is deprecated. In a future version, it will default to False. Select only valid columns or specify the value of numeric_only to silence this warning.\n",
            "  sns.heatmap(dados.corr())\n"
          ]
        },
        {
          "output_type": "execute_result",
          "data": {
            "text/plain": [
              "<Axes: >"
            ]
          },
          "metadata": {},
          "execution_count": 52
        },
        {
          "output_type": "display_data",
          "data": {
            "text/plain": [
              "<Figure size 640x480 with 2 Axes>"
            ],
            "image/png": "[encoded data removed]"
          },
          "metadata": {}
        }
      ]
    },
    {
      "cell_type": "markdown",
      "source": [
        "Segundo passo: separando os dados"
      ],
      "metadata": {
        "id": "hilkf2jIH-W-"
      }
    },
    {
      "cell_type": "code",
      "source": [
        "from sklearn.model_selection import train_test_split"
      ],
      "metadata": {
        "id": "sBMG9ueGH8C9"
      },
      "execution_count": 53,
      "outputs": []
    },
    {
      "cell_type": "code",
      "source": [
        "len(dados)"
      ],
      "metadata": {
        "colab": {
          "base_uri": "https://localhost:8080/"
        },
        "id": "rvIgMQ-HIQ31",
        "outputId": "3bad8c2e-74e5-4e88-b112-42b01c31b7a1"
      },
      "execution_count": 54,
      "outputs": [
        {
          "output_type": "execute_result",
          "data": {
            "text/plain": [
              "7650"
            ]
          },
          "metadata": {},
          "execution_count": 54
        }
      ]
    },
    {
      "cell_type": "code",
      "source": [
        "# Escolhendo as colunas preditivas e alvo\n",
        "x = dados.drop(columns = ['Diagnósticos', 'Grupo', 'Estado', 'Subgrupo', 'Etiqueta do período de tempo', 'Data de início do período', 'Data de término do período', 'Intervalo de confiança', 'Faixa de quartil'])\n",
        "y = dados['Valor']   # Classe alvo\n",
        "\n",
        "# Dividindo conjunto de treinamento e conjunto de teste\n",
        "x_train, x_test, y_train, y_test = train_test_split(x, y, test_size = 0.2, random_state = 42)"
      ],
      "metadata": {
        "id": "drsWo37SIbeC"
      },
      "execution_count": 55,
      "outputs": []
    },
    {
      "cell_type": "code",
      "source": [
        "len(x_train), len(x_test), len(y_train), len(y_test)"
      ],
      "metadata": {
        "colab": {
          "base_uri": "https://localhost:8080/"
        },
        "id": "JHFqduz_IkGo",
        "outputId": "b98f1cdf-2860-4547-d4c3-fd0c90c5b83f"
      },
      "execution_count": 56,
      "outputs": [
        {
          "output_type": "execute_result",
          "data": {
            "text/plain": [
              "(6120, 1530, 6120, 1530)"
            ]
          },
          "metadata": {},
          "execution_count": 56
        }
      ]
    },
    {
      "cell_type": "markdown",
      "source": [
        "Terceiro passo: treinando o algoritmo\n",
        "\n"
      ],
      "metadata": {
        "id": "jbk5vBfCKCrw"
      }
    },
    {
      "cell_type": "code",
      "source": [
        "from sklearn.linear_model import LinearRegression"
      ],
      "metadata": {
        "id": "ni_W1GJDKHSc"
      },
      "execution_count": 57,
      "outputs": []
    },
    {
      "cell_type": "code",
      "source": [
        "lr = LinearRegression()  # Criando o objeto do regressor\n",
        "\n",
        "lr.fit(x_train,y_train) # Treinando o regressor passando apenas o conjunto de dados de treinamento"
      ],
      "metadata": {
        "colab": {
          "base_uri": "https://localhost:8080/",
          "height": 74
        },
        "id": "5jdYvborKS3-",
        "outputId": "2165c074-3e23-4737-87e9-41a22ace0d77"
      },
      "execution_count": 58,
      "outputs": [
        {
          "output_type": "execute_result",
          "data": {
            "text/plain": [
              "LinearRegression()"
            ],
            "text/html": [
              "<style>#sk-container-id-2 {color: black;background-color: white;}#sk-container-id-2 pre{padding: 0;}#sk-container-id-2 div.sk-toggleable {background-color: white;}#sk-container-id-2 label.sk-toggleable__label {cursor: pointer;display: block;width: 100%;margin-bottom: 0;padding: 0.3em;box-sizing: border-box;text-align: center;}#sk-container-id-2 label.sk-toggleable__label-arrow:before {content: \"▸\";float: left;margin-right: 0.25em;color: #696969;}#sk-container-id-2 label.sk-toggleable__label-arrow:hover:before {color: black;}#sk-container-id-2 div.sk-estimator:hover label.sk-toggleable__label-arrow:before {color: black;}#sk-container-id-2 div.sk-toggleable__content {max-height: 0;max-width: 0;overflow: hidden;text-align: left;background-color: #f0f8ff;}#sk-container-id-2 div.sk-toggleable__content pre {margin: 0.2em;color: black;border-radius: 0.25em;background-color: #f0f8ff;}#sk-container-id-2 input.sk-toggleable__control:checked~div.sk-toggleable__content {max-height: 200px;max-width: 100%;overflow: auto;}#sk-container-id-2 input.sk-toggleable__control:checked~label.sk-toggleable__label-arrow:before {content: \"▾\";}#sk-container-id-2 div.sk-estimator input.sk-toggleable__control:checked~label.sk-toggleable__label {background-color: #d4ebff;}#sk-container-id-2 div.sk-label input.sk-toggleable__control:checked~label.sk-toggleable__label {background-color: #d4ebff;}#sk-container-id-2 input.sk-hidden--visually {border: 0;clip: rect(1px 1px 1px 1px);clip: rect(1px, 1px, 1px, 1px);height: 1px;margin: -1px;overflow: hidden;padding: 0;position: absolute;width: 1px;}#sk-container-id-2 div.sk-estimator {font-family: monospace;background-color: #f0f8ff;border: 1px dotted black;border-radius: 0.25em;box-sizing: border-box;margin-bottom: 0.5em;}#sk-container-id-2 div.sk-estimator:hover {background-color: #d4ebff;}#sk-container-id-2 div.sk-parallel-item::after {content: \"\";width: 100%;border-bottom: 1px solid gray;flex-grow: 1;}#sk-container-id-2 div.sk-label:hover label.sk-toggleable__label {background-color: #d4ebff;}#sk-container-id-2 div.sk-serial::before {content: \"\";position: absolute;border-left: 1px solid gray;box-sizing: border-box;top: 0;bottom: 0;left: 50%;z-index: 0;}#sk-container-id-2 div.sk-serial {display: flex;flex-direction: column;align-items: center;background-color: white;padding-right: 0.2em;padding-left: 0.2em;position: relative;}#sk-container-id-2 div.sk-item {position: relative;z-index: 1;}#sk-container-id-2 div.sk-parallel {display: flex;align-items: stretch;justify-content: center;background-color: white;position: relative;}#sk-container-id-2 div.sk-item::before, #sk-container-id-2 div.sk-parallel-item::before {content: \"\";position: absolute;border-left: 1px solid gray;box-sizing: border-box;top: 0;bottom: 0;left: 50%;z-index: -1;}#sk-container-id-2 div.sk-parallel-item {display: flex;flex-direction: column;z-index: 1;position: relative;background-color: white;}#sk-container-id-2 div.sk-parallel-item:first-child::after {align-self: flex-end;width: 50%;}#sk-container-id-2 div.sk-parallel-item:last-child::after {align-self: flex-start;width: 50%;}#sk-container-id-2 div.sk-parallel-item:only-child::after {width: 0;}#sk-container-id-2 div.sk-dashed-wrapped {border: 1px dashed gray;margin: 0 0.4em 0.5em 0.4em;box-sizing: border-box;padding-bottom: 0.4em;background-color: white;}#sk-container-id-2 div.sk-label label {font-family: monospace;font-weight: bold;display: inline-block;line-height: 1.2em;}#sk-container-id-2 div.sk-label-container {text-align: center;}#sk-container-id-2 div.sk-container {/* jupyter's `normalize.less` sets `[hidden] { display: none; }` but bootstrap.min.css set `[hidden] { display: none !important; }` so we also need the `!important` here to be able to override the default hidden behavior on the sphinx rendered scikit-learn.org. See: https://github.com/scikit-learn/scikit-learn/issues/21755 */display: inline-block !important;position: relative;}#sk-container-id-2 div.sk-text-repr-fallback {display: none;}</style><div id=\"sk-container-id-2\" class=\"sk-top-container\"><div class=\"sk-text-repr-fallback\"><pre>LinearRegression()</pre><b>In a Jupyter environment, please rerun this cell to show the HTML representation or trust the notebook. <br />On GitHub, the HTML representation is unable to render, please try loading this page with nbviewer.org.</b></div><div class=\"sk-container\" hidden><div class=\"sk-item\"><div class=\"sk-estimator sk-toggleable\"><input class=\"sk-toggleable__control sk-hidden--visually\" id=\"sk-estimator-id-2\" type=\"checkbox\" checked><label for=\"sk-estimator-id-2\" class=\"sk-toggleable__label sk-toggleable__label-arrow\">LinearRegression</label><div class=\"sk-toggleable__content\"><pre>LinearRegression()</pre></div></div></div></div></div>"
            ]
          },
          "metadata": {},
          "execution_count": 58
        }
      ]
    },
    {
      "cell_type": "markdown",
      "source": [
        "Quinto passo: testar e avaliar"
      ],
      "metadata": {
        "id": "W4wTR9K-LRJw"
      }
    },
    {
      "cell_type": "code",
      "source": [
        "from sklearn.metrics import mean_squared_error, mean_absolute_error, r2_score\n",
        "from scipy.stats import pearsonr"
      ],
      "metadata": {
        "id": "fFmIQSjrLV_Y"
      },
      "execution_count": 59,
      "outputs": []
    },
    {
      "cell_type": "code",
      "source": [
        "# Passando apenas o x de teste\n",
        "y_predicoes = lr.predict(x_test)"
      ],
      "metadata": {
        "id": "R5yFhFd8L6a6"
      },
      "execution_count": 60,
      "outputs": []
    },
    {
      "cell_type": "code",
      "source": [
        "MAE = mean_absolute_error(y_true = y_test,      # Gabarito\n",
        "                          y_pred = y_predicoes) # Respostas do algoritmo ao teste realizado\n",
        "print('MAE: ', MAE)"
      ],
      "metadata": {
        "colab": {
          "base_uri": "https://localhost:8080/"
        },
        "id": "-pTwVPT-MVSp",
        "outputId": "c72fdc09-40c3-496f-98d7-4591fd3aa220"
      },
      "execution_count": 61,
      "outputs": [
        {
          "output_type": "stream",
          "name": "stdout",
          "text": [
            "MAE:  1.7763568394002505e-15\n"
          ]
        }
      ]
    },
    {
      "cell_type": "code",
      "source": [
        "MSE = mean_squared_error(y_true = y_test,      # Gabarito\n",
        "                         y_pred = y_predicoes) # Respostas do algoritmo ao teste realizado\n",
        "print('MSE: ', MSE)\n",
        "print('raiz MSE: ', MSE**0.5)"
      ],
      "metadata": {
        "colab": {
          "base_uri": "https://localhost:8080/"
        },
        "id": "Ib75V90uMY-S",
        "outputId": "8d8df594-461d-4570-fc42-bf3865c8dbf1"
      },
      "execution_count": 62,
      "outputs": [
        {
          "output_type": "stream",
          "name": "stdout",
          "text": [
            "MSE:  1.090174835293665e-29\n",
            "raiz MSE:  3.30177957364459e-15\n"
          ]
        }
      ]
    },
    {
      "cell_type": "code",
      "source": [
        "R2 = r2_score(y_true = y_test,      # Gabarito\n",
        "              y_pred = y_predicoes) # Respostas do algoritmo ao teste realizado\n",
        "print('R2: ', R2)"
      ],
      "metadata": {
        "colab": {
          "base_uri": "https://localhost:8080/"
        },
        "id": "Hz22JQ1eMdcG",
        "outputId": "63d251a6-2719-4b4c-d8b1-8c1042022244"
      },
      "execution_count": 63,
      "outputs": [
        {
          "output_type": "stream",
          "name": "stdout",
          "text": [
            "R2:  1.0\n"
          ]
        }
      ]
    },
    {
      "cell_type": "code",
      "source": [
        "rho = pearsonr(y_test, y_predicoes)\n",
        "print('\\u03C1:', rho[0])"
      ],
      "metadata": {
        "colab": {
          "base_uri": "https://localhost:8080/"
        },
        "id": "7wrpCGWRMuxT",
        "outputId": "4bdc1c1c-0ed1-4f01-bb5f-3e6511e16ce1"
      },
      "execution_count": 64,
      "outputs": [
        {
          "output_type": "stream",
          "name": "stdout",
          "text": [
            "ρ: 1.0\n"
          ]
        }
      ]
    },
    {
      "cell_type": "markdown",
      "source": [
        "Modelo obtido:"
      ],
      "metadata": {
        "id": "CgpJomkUM6WV"
      }
    },
    {
      "cell_type": "code",
      "source": [
        "a_modelo = lr.coef_      # Coeficientes angulares do modelo\n",
        "b_modelo = lr.intercept_ # Coeficiente linear do model"
      ],
      "metadata": {
        "id": "UoI8t0PtM-gA"
      },
      "execution_count": 65,
      "outputs": []
    },
    {
      "cell_type": "code",
      "source": [
        "print(a_modelo, b_modelo)"
      ],
      "metadata": {
        "colab": {
          "base_uri": "https://localhost:8080/"
        },
        "id": "NV1ewwviNCls",
        "outputId": "3ef250f1-6829-4775-9920-4466319cef31"
      },
      "execution_count": 66,
      "outputs": [
        {
          "output_type": "stream",
          "name": "stdout",
          "text": [
            "[-2.49241698e-15  9.71445147e-17  1.00000000e+00 -1.04083409e-17\n",
            " -2.05131051e-16] 1.4210854715202004e-14\n"
          ]
        }
      ]
    },
    {
      "cell_type": "code",
      "source": [
        "R2_treinamento = lr.score(x_train, y_train)\n",
        "print(R2_treinamento)"
      ],
      "metadata": {
        "colab": {
          "base_uri": "https://localhost:8080/"
        },
        "id": "bYHojIcANJnf",
        "outputId": "57114f6b-f51f-411e-b4fe-e11c2f36d4f0"
      },
      "execution_count": 67,
      "outputs": [
        {
          "output_type": "stream",
          "name": "stdout",
          "text": [
            "1.0\n"
          ]
        }
      ]
    },
    {
      "cell_type": "code",
      "source": [
        "y_pred_linear = y_predicoes # Salvando as informações do Modelo Reg Linear para comparar depois"
      ],
      "metadata": {
        "id": "my7qtiwUNeTw"
      },
      "execution_count": 68,
      "outputs": []
    },
    {
      "cell_type": "markdown",
      "source": [
        "Voltando e trocando o algoritmo para uma Rede Neural Perceptron Multicamada:"
      ],
      "metadata": {
        "id": "4kv6cwEoN-Jk"
      }
    },
    {
      "cell_type": "code",
      "source": [
        "# Importando o Escalonador de Normalização\n",
        "from sklearn.preprocessing import StandardScaler"
      ],
      "metadata": {
        "id": "Rynq5Q45N_fb"
      },
      "execution_count": 69,
      "outputs": []
    },
    {
      "cell_type": "code",
      "source": [
        "#Escalonamento\n",
        "scaler = StandardScaler() # Criando o objeto de escalonamento\n",
        "scaler.fit(x_train) # Passando os dados de treinamento para encontrar a escala\n",
        "\n",
        "x_train_escalonado = scaler.transform(x_train)\n",
        "x_test_escalonado = scaler.transform(x_test)"
      ],
      "metadata": {
        "id": "k6knrf23OGGs"
      },
      "execution_count": 70,
      "outputs": []
    },
    {
      "cell_type": "markdown",
      "source": [
        "Criando a rede neural e treinando ela:"
      ],
      "metadata": {
        "id": "FQPNxwnbOQwP"
      }
    },
    {
      "cell_type": "code",
      "source": [
        "# Importando a Rede Neural MLP para Regressão\n",
        "from sklearn.neural_network import MLPRegressor"
      ],
      "metadata": {
        "id": "lAryhkioOpSe"
      },
      "execution_count": 71,
      "outputs": []
    },
    {
      "cell_type": "code",
      "source": [
        "#Treino\n",
        "# Instanciando o objeto\n",
        "ml_perceptron = MLPRegressor(solver='lbfgs', # otimizador por métodos quasi-Newton\n",
        "                             tol=1e-5, # Limiar para a otimização (treinamento)\n",
        "                             max_iter=1500, # Limite de iterações durante a otimização (treinamento)\n",
        "                             random_state=42,\n",
        "                             hidden_layer_sizes=(10,4), # Quantidade de neuronios por camada oculta\n",
        "                             activation='relu') # Função de ativação dos neuronios\n",
        "\n",
        "ml_perceptron.fit(x_train_escalonado, y_train)  # Treinando"
      ],
      "metadata": {
        "colab": {
          "base_uri": "https://localhost:8080/",
          "height": 92
        },
        "id": "he-HHC2FOLu9",
        "outputId": "a6ff9fcc-2f68-40f8-da57-a78340c87650"
      },
      "execution_count": 72,
      "outputs": [
        {
          "output_type": "execute_result",
          "data": {
            "text/plain": [
              "MLPRegressor(hidden_layer_sizes=(10, 4), max_iter=1500, random_state=42,\n",
              "             solver='lbfgs', tol=1e-05)"
            ],
            "text/html": [
              "<style>#sk-container-id-3 {color: black;background-color: white;}#sk-container-id-3 pre{padding: 0;}#sk-container-id-3 div.sk-toggleable {background-color: white;}#sk-container-id-3 label.sk-toggleable__label {cursor: pointer;display: block;width: 100%;margin-bottom: 0;padding: 0.3em;box-sizing: border-box;text-align: center;}#sk-container-id-3 label.sk-toggleable__label-arrow:before {content: \"▸\";float: left;margin-right: 0.25em;color: #696969;}#sk-container-id-3 label.sk-toggleable__label-arrow:hover:before {color: black;}#sk-container-id-3 div.sk-estimator:hover label.sk-toggleable__label-arrow:before {color: black;}#sk-container-id-3 div.sk-toggleable__content {max-height: 0;max-width: 0;overflow: hidden;text-align: left;background-color: #f0f8ff;}#sk-container-id-3 div.sk-toggleable__content pre {margin: 0.2em;color: black;border-radius: 0.25em;background-color: #f0f8ff;}#sk-container-id-3 input.sk-toggleable__control:checked~div.sk-toggleable__content {max-height: 200px;max-width: 100%;overflow: auto;}#sk-container-id-3 input.sk-toggleable__control:checked~label.sk-toggleable__label-arrow:before {content: \"▾\";}#sk-container-id-3 div.sk-estimator input.sk-toggleable__control:checked~label.sk-toggleable__label {background-color: #d4ebff;}#sk-container-id-3 div.sk-label input.sk-toggleable__control:checked~label.sk-toggleable__label {background-color: #d4ebff;}#sk-container-id-3 input.sk-hidden--visually {border: 0;clip: rect(1px 1px 1px 1px);clip: rect(1px, 1px, 1px, 1px);height: 1px;margin: -1px;overflow: hidden;padding: 0;position: absolute;width: 1px;}#sk-container-id-3 div.sk-estimator {font-family: monospace;background-color: #f0f8ff;border: 1px dotted black;border-radius: 0.25em;box-sizing: border-box;margin-bottom: 0.5em;}#sk-container-id-3 div.sk-estimator:hover {background-color: #d4ebff;}#sk-container-id-3 div.sk-parallel-item::after {content: \"\";width: 100%;border-bottom: 1px solid gray;flex-grow: 1;}#sk-container-id-3 div.sk-label:hover label.sk-toggleable__label {background-color: #d4ebff;}#sk-container-id-3 div.sk-serial::before {content: \"\";position: absolute;border-left: 1px solid gray;box-sizing: border-box;top: 0;bottom: 0;left: 50%;z-index: 0;}#sk-container-id-3 div.sk-serial {display: flex;flex-direction: column;align-items: center;background-color: white;padding-right: 0.2em;padding-left: 0.2em;position: relative;}#sk-container-id-3 div.sk-item {position: relative;z-index: 1;}#sk-container-id-3 div.sk-parallel {display: flex;align-items: stretch;justify-content: center;background-color: white;position: relative;}#sk-container-id-3 div.sk-item::before, #sk-container-id-3 div.sk-parallel-item::before {content: \"\";position: absolute;border-left: 1px solid gray;box-sizing: border-box;top: 0;bottom: 0;left: 50%;z-index: -1;}#sk-container-id-3 div.sk-parallel-item {display: flex;flex-direction: column;z-index: 1;position: relative;background-color: white;}#sk-container-id-3 div.sk-parallel-item:first-child::after {align-self: flex-end;width: 50%;}#sk-container-id-3 div.sk-parallel-item:last-child::after {align-self: flex-start;width: 50%;}#sk-container-id-3 div.sk-parallel-item:only-child::after {width: 0;}#sk-container-id-3 div.sk-dashed-wrapped {border: 1px dashed gray;margin: 0 0.4em 0.5em 0.4em;box-sizing: border-box;padding-bottom: 0.4em;background-color: white;}#sk-container-id-3 div.sk-label label {font-family: monospace;font-weight: bold;display: inline-block;line-height: 1.2em;}#sk-container-id-3 div.sk-label-container {text-align: center;}#sk-container-id-3 div.sk-container {/* jupyter's `normalize.less` sets `[hidden] { display: none; }` but bootstrap.min.css set `[hidden] { display: none !important; }` so we also need the `!important` here to be able to override the default hidden behavior on the sphinx rendered scikit-learn.org. See: https://github.com/scikit-learn/scikit-learn/issues/21755 */display: inline-block !important;position: relative;}#sk-container-id-3 div.sk-text-repr-fallback {display: none;}</style><div id=\"sk-container-id-3\" class=\"sk-top-container\"><div class=\"sk-text-repr-fallback\"><pre>MLPRegressor(hidden_layer_sizes=(10, 4), max_iter=1500, random_state=42,\n",
              "             solver=&#x27;lbfgs&#x27;, tol=1e-05)</pre><b>In a Jupyter environment, please rerun this cell to show the HTML representation or trust the notebook. <br />On GitHub, the HTML representation is unable to render, please try loading this page with nbviewer.org.</b></div><div class=\"sk-container\" hidden><div class=\"sk-item\"><div class=\"sk-estimator sk-toggleable\"><input class=\"sk-toggleable__control sk-hidden--visually\" id=\"sk-estimator-id-3\" type=\"checkbox\" checked><label for=\"sk-estimator-id-3\" class=\"sk-toggleable__label sk-toggleable__label-arrow\">MLPRegressor</label><div class=\"sk-toggleable__content\"><pre>MLPRegressor(hidden_layer_sizes=(10, 4), max_iter=1500, random_state=42,\n",
              "             solver=&#x27;lbfgs&#x27;, tol=1e-05)</pre></div></div></div></div></div>"
            ]
          },
          "metadata": {},
          "execution_count": 72
        }
      ]
    },
    {
      "cell_type": "code",
      "source": [
        "#Teste\n",
        "y_predicoes = ml_perceptron.predict(x_test_escalonado) # Passando o x_test escalonado\n",
        "\n",
        "R2 = r2_score(y_true = y_test,      # Gabarito\n",
        "              y_pred = y_predicoes) # Respostas do algoritmo ao teste realizado\n",
        "print('R2: ', R2)\n",
        "\n",
        "rho = pearsonr(y_test, y_predicoes)\n",
        "print('\\u03C1:', rho[0])\n",
        "\n",
        "MAE = mean_absolute_error(y_true = y_test,      # Gabarito\n",
        "                          y_pred = y_predicoes) # Respostas do algoritmo ao teste realizado\n",
        "print('MAE: ', MAE)\n",
        "\n",
        "MSE = mean_squared_error(y_true = y_test,      # Gabarito\n",
        "                         y_pred = y_predicoes) # Respostas do algoritmo ao teste realizado\n",
        "print('MSE: ', MSE)"
      ],
      "metadata": {
        "colab": {
          "base_uri": "https://localhost:8080/"
        },
        "id": "2DuoUcmROxsW",
        "outputId": "87277e5f-53bb-4e67-c937-4bb53f78b950"
      },
      "execution_count": 73,
      "outputs": [
        {
          "output_type": "stream",
          "name": "stdout",
          "text": [
            "R2:  0.9999395491671131\n",
            "ρ: 0.9999700437328979\n",
            "MAE:  0.0042747180445089055\n",
            "MSE:  0.002614095368060832\n"
          ]
        }
      ]
    },
    {
      "cell_type": "code",
      "source": [
        "y_predicoes_mlp = y_predicoes"
      ],
      "metadata": {
        "id": "gCOwUNGsPEj-"
      },
      "execution_count": 74,
      "outputs": []
    },
    {
      "cell_type": "markdown",
      "source": [
        "Gráfico de acerto:"
      ],
      "metadata": {
        "id": "DeGXRM00PI7d"
      }
    },
    {
      "cell_type": "code",
      "source": [
        "import seaborn as sns"
      ],
      "metadata": {
        "id": "od2M0_wyPH_s"
      },
      "execution_count": 75,
      "outputs": []
    },
    {
      "cell_type": "code",
      "source": [
        "ax = sns.regplot(x=y_test,y=y_pred_linear,\n",
        "                 color=\"b\", scatter_kws={'alpha':0.3}, label='RegLinear') # Regressão Linear\n",
        "ax = sns.regplot(x=y_test,y=y_predicoes_mlp,\n",
        "                 color=\"g\", scatter_kws={'alpha':0.3}, label='MLP') # Rede Neural\n",
        "ax.plot(y_test, y_test, 'r--', linewidth = 2, label='Correto') # Reta 100% correto\n",
        "ax.set(xlabel='y_test (gabarito)', ylabel='y_pred (respostas do teste)')\n",
        "ax.legend()"
      ],
      "metadata": {
        "colab": {
          "base_uri": "https://localhost:8080/",
          "height": 467
        },
        "id": "40Dog7G5PSAl",
        "outputId": "dc6611c3-7164-4248-c7dc-5bea4345c63d"
      },
      "execution_count": 76,
      "outputs": [
        {
          "output_type": "execute_result",
          "data": {
            "text/plain": [
              "<matplotlib.legend.Legend at 0x7e6306bc8a30>"
            ]
          },
          "metadata": {},
          "execution_count": 76
        },
        {
          "output_type": "display_data",
          "data": {
            "text/plain": [
              "<Figure size 640x480 with 1 Axes>"
            ],
            "image/png": "[encoded data removed]"
          },
          "metadata": {}
        }
      ]
    },
    {
      "cell_type": "markdown",
      "source": [
        "Salvando o modelo treinado:"
      ],
      "metadata": {
        "id": "1OGy2J6yP2wY"
      }
    },
    {
      "cell_type": "code",
      "source": [
        "import pickle"
      ],
      "metadata": {
        "id": "Tdybe_CDQAI5"
      },
      "execution_count": 77,
      "outputs": []
    },
    {
      "cell_type": "code",
      "source": [
        "# Salvando em bytes (flag wb) para ser mais cross-platform (acessível a vários sistemas)\n",
        "with open('meu_modelo_serializado_regressao.pickle', 'wb') as f:\n",
        "    pickle.dump(ml_perceptron, f)"
      ],
      "metadata": {
        "id": "86U8AY3bQFud"
      },
      "execution_count": 78,
      "outputs": []
    },
    {
      "cell_type": "code",
      "source": [
        "with open('meu_modelo_serializado_regressao.pickle', 'rb') as f:\n",
        "    modelo_carregado2 = pickle.load(f)"
      ],
      "metadata": {
        "id": "dbyJ1ZN9QMqV"
      },
      "execution_count": 79,
      "outputs": []
    },
    {
      "cell_type": "code",
      "source": [
        "modelo_carregado2.predict([[1,2,3,4,5]])"
      ],
      "metadata": {
        "colab": {
          "base_uri": "https://localhost:8080/"
        },
        "id": "Dm_UrAcUQSeq",
        "outputId": "012c8663-e640-443b-9fb1-89974de1a448"
      },
      "execution_count": 80,
      "outputs": [
        {
          "output_type": "execute_result",
          "data": {
            "text/plain": [
              "array([48.57302273])"
            ]
          },
          "metadata": {},
          "execution_count": 80
        }
      ]
    }
  ]
}